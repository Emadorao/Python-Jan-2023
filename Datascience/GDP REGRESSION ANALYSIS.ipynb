{
 "cells": [
  {
   "cell_type": "code",
   "execution_count": 1,
   "metadata": {},
   "outputs": [
    {
     "ename": "ModuleNotFoundError",
     "evalue": "No module named 'missingno'",
     "output_type": "error",
     "traceback": [
      "\u001b[1;31m---------------------------------------------------------------------------\u001b[0m",
      "\u001b[1;31mModuleNotFoundError\u001b[0m                       Traceback (most recent call last)",
      "\u001b[1;32m<ipython-input-1-b7d650be5af2>\u001b[0m in \u001b[0;36m<module>\u001b[1;34m\u001b[0m\n\u001b[0;32m      3\u001b[0m \u001b[1;32mimport\u001b[0m \u001b[0mmatplotlib\u001b[0m\u001b[1;33m.\u001b[0m\u001b[0mpyplot\u001b[0m \u001b[1;32mas\u001b[0m \u001b[0mplt\u001b[0m\u001b[1;33m\u001b[0m\u001b[1;33m\u001b[0m\u001b[0m\n\u001b[0;32m      4\u001b[0m \u001b[1;32mimport\u001b[0m \u001b[0mseaborn\u001b[0m \u001b[1;32mas\u001b[0m \u001b[0msns\u001b[0m\u001b[1;33m\u001b[0m\u001b[1;33m\u001b[0m\u001b[0m\n\u001b[1;32m----> 5\u001b[1;33m \u001b[1;32mimport\u001b[0m \u001b[0mmissingno\u001b[0m \u001b[1;32mas\u001b[0m \u001b[0mmns\u001b[0m\u001b[1;33m\u001b[0m\u001b[1;33m\u001b[0m\u001b[0m\n\u001b[0m\u001b[0;32m      6\u001b[0m \u001b[1;32mimport\u001b[0m \u001b[0mplotly\u001b[0m\u001b[1;33m.\u001b[0m\u001b[0mexpress\u001b[0m  \u001b[1;32mas\u001b[0m \u001b[0mpx\u001b[0m\u001b[1;33m\u001b[0m\u001b[1;33m\u001b[0m\u001b[0m\n\u001b[0;32m      7\u001b[0m \u001b[0mget_ipython\u001b[0m\u001b[1;33m(\u001b[0m\u001b[1;33m)\u001b[0m\u001b[1;33m.\u001b[0m\u001b[0mrun_line_magic\u001b[0m\u001b[1;33m(\u001b[0m\u001b[1;34m'matplotlib'\u001b[0m\u001b[1;33m,\u001b[0m \u001b[1;34m'inline'\u001b[0m\u001b[1;33m)\u001b[0m\u001b[1;33m\u001b[0m\u001b[1;33m\u001b[0m\u001b[0m\n",
      "\u001b[1;31mModuleNotFoundError\u001b[0m: No module named 'missingno'"
     ]
    }
   ],
   "source": [
    "import numpy as np\n",
    "import pandas as pd\n",
    "import matplotlib.pyplot as plt\n",
    "import seaborn as sns\n",
    "import missingno as mns\n",
    "import plotly.express  as px\n",
    "%matplotlib inline"
   ]
  },
  {
   "cell_type": "code",
   "execution_count": null,
   "metadata": {},
   "outputs": [],
   "source": [
    "gdp=pd.read_csv('RealGDP08012022.csv')"
   ]
  },
  {
   "cell_type": "code",
   "execution_count": null,
   "metadata": {},
   "outputs": [
    {
     "data": {
      "text/html": [
       "<div>\n",
       "<style scoped>\n",
       "    .dataframe tbody tr th:only-of-type {\n",
       "        vertical-align: middle;\n",
       "    }\n",
       "\n",
       "    .dataframe tbody tr th {\n",
       "        vertical-align: top;\n",
       "    }\n",
       "\n",
       "    .dataframe thead th {\n",
       "        text-align: right;\n",
       "    }\n",
       "</style>\n",
       "<table border=\"1\" class=\"dataframe\">\n",
       "  <thead>\n",
       "    <tr style=\"text-align: right;\">\n",
       "      <th></th>\n",
       "      <th>tyear</th>\n",
       "      <th>Period</th>\n",
       "      <th>Agriculture</th>\n",
       "      <th>CropProduction</th>\n",
       "      <th>Livestock</th>\n",
       "      <th>Forestry</th>\n",
       "      <th>Fishing</th>\n",
       "      <th>Industry</th>\n",
       "      <th>MiningAndQuarrying</th>\n",
       "      <th>CrudePetroleumAndNaturalGas</th>\n",
       "      <th>...</th>\n",
       "      <th>AdministrativeAndSupportServicesBusinessServices</th>\n",
       "      <th>PublicAdministration</th>\n",
       "      <th>Education</th>\n",
       "      <th>HumanHealthAndSocialServices</th>\n",
       "      <th>OtherServices</th>\n",
       "      <th>TOTAL_GDP</th>\n",
       "      <th>TotalGDPatConstantBasicPrices</th>\n",
       "      <th>NonOilGDPatConstantBasicPrices</th>\n",
       "      <th>NetIndirectTaxesOnProducts</th>\n",
       "      <th>TotalGDPatConstantMarketPrices</th>\n",
       "    </tr>\n",
       "  </thead>\n",
       "  <tbody>\n",
       "    <tr>\n",
       "      <th>1981</th>\n",
       "      <td>Annual</td>\n",
       "      <td>2364373.15</td>\n",
       "      <td>1854764.44</td>\n",
       "      <td>341411.50</td>\n",
       "      <td>77897.99</td>\n",
       "      <td>90299.23</td>\n",
       "      <td>6603250.12</td>\n",
       "      <td>NaN</td>\n",
       "      <td>4977416.70</td>\n",
       "      <td>67136.73</td>\n",
       "      <td>...</td>\n",
       "      <td>807075.54</td>\n",
       "      <td>242555.85</td>\n",
       "      <td>110697.65</td>\n",
       "      <td>132700.20</td>\n",
       "      <td>15258004.34</td>\n",
       "      <td>NaN</td>\n",
       "      <td>NaN</td>\n",
       "      <td>NaN</td>\n",
       "      <td>NaN</td>\n",
       "      <td>NaN</td>\n",
       "    </tr>\n",
       "    <tr>\n",
       "      <th>1982</th>\n",
       "      <td>Annual</td>\n",
       "      <td>2425960.89</td>\n",
       "      <td>1897078.85</td>\n",
       "      <td>361115.70</td>\n",
       "      <td>73910.25</td>\n",
       "      <td>93856.08</td>\n",
       "      <td>6272828.03</td>\n",
       "      <td>NaN</td>\n",
       "      <td>4453093.63</td>\n",
       "      <td>54840.50</td>\n",
       "      <td>...</td>\n",
       "      <td>825921.69</td>\n",
       "      <td>248219.81</td>\n",
       "      <td>113282.57</td>\n",
       "      <td>133767.58</td>\n",
       "      <td>14985078.32</td>\n",
       "      <td>NaN</td>\n",
       "      <td>NaN</td>\n",
       "      <td>NaN</td>\n",
       "      <td>NaN</td>\n",
       "      <td>NaN</td>\n",
       "    </tr>\n",
       "    <tr>\n",
       "      <th>1983</th>\n",
       "      <td>Annual</td>\n",
       "      <td>2409081.92</td>\n",
       "      <td>1842704.31</td>\n",
       "      <td>393131.01</td>\n",
       "      <td>75282.78</td>\n",
       "      <td>97963.82</td>\n",
       "      <td>5264881.39</td>\n",
       "      <td>NaN</td>\n",
       "      <td>4052977.68</td>\n",
       "      <td>44014.84</td>\n",
       "      <td>...</td>\n",
       "      <td>844767.84</td>\n",
       "      <td>253883.77</td>\n",
       "      <td>115867.49</td>\n",
       "      <td>125819.69</td>\n",
       "      <td>13849725.17</td>\n",
       "      <td>NaN</td>\n",
       "      <td>NaN</td>\n",
       "      <td>NaN</td>\n",
       "      <td>NaN</td>\n",
       "      <td>NaN</td>\n",
       "    </tr>\n",
       "    <tr>\n",
       "      <th>1984</th>\n",
       "      <td>Annual</td>\n",
       "      <td>2303505.42</td>\n",
       "      <td>1759115.15</td>\n",
       "      <td>399685.38</td>\n",
       "      <td>76694.14</td>\n",
       "      <td>68010.74</td>\n",
       "      <td>5621181.44</td>\n",
       "      <td>NaN</td>\n",
       "      <td>4559196.21</td>\n",
       "      <td>43078.37</td>\n",
       "      <td>...</td>\n",
       "      <td>863613.99</td>\n",
       "      <td>259547.73</td>\n",
       "      <td>118452.41</td>\n",
       "      <td>103092.67</td>\n",
       "      <td>13779255.49</td>\n",
       "      <td>NaN</td>\n",
       "      <td>NaN</td>\n",
       "      <td>NaN</td>\n",
       "      <td>NaN</td>\n",
       "      <td>NaN</td>\n",
       "    </tr>\n",
       "    <tr>\n",
       "      <th>1985</th>\n",
       "      <td>Annual</td>\n",
       "      <td>2731062.47</td>\n",
       "      <td>2180907.71</td>\n",
       "      <td>428102.85</td>\n",
       "      <td>78082.45</td>\n",
       "      <td>43969.46</td>\n",
       "      <td>6379599.38</td>\n",
       "      <td>NaN</td>\n",
       "      <td>4918272.50</td>\n",
       "      <td>44539.09</td>\n",
       "      <td>...</td>\n",
       "      <td>882460.14</td>\n",
       "      <td>265211.69</td>\n",
       "      <td>121037.33</td>\n",
       "      <td>98790.30</td>\n",
       "      <td>14953913.05</td>\n",
       "      <td>NaN</td>\n",
       "      <td>NaN</td>\n",
       "      <td>NaN</td>\n",
       "      <td>NaN</td>\n",
       "      <td>NaN</td>\n",
       "    </tr>\n",
       "  </tbody>\n",
       "</table>\n",
       "<p>5 rows × 38 columns</p>\n",
       "</div>"
      ],
      "text/plain": [
       "       tyear      Period  Agriculture  CropProduction  Livestock  Forestry  \\\n",
       "1981  Annual  2364373.15   1854764.44       341411.50   77897.99  90299.23   \n",
       "1982  Annual  2425960.89   1897078.85       361115.70   73910.25  93856.08   \n",
       "1983  Annual  2409081.92   1842704.31       393131.01   75282.78  97963.82   \n",
       "1984  Annual  2303505.42   1759115.15       399685.38   76694.14  68010.74   \n",
       "1985  Annual  2731062.47   2180907.71       428102.85   78082.45  43969.46   \n",
       "\n",
       "         Fishing  Industry  MiningAndQuarrying  CrudePetroleumAndNaturalGas  \\\n",
       "1981  6603250.12       NaN          4977416.70                     67136.73   \n",
       "1982  6272828.03       NaN          4453093.63                     54840.50   \n",
       "1983  5264881.39       NaN          4052977.68                     44014.84   \n",
       "1984  5621181.44       NaN          4559196.21                     43078.37   \n",
       "1985  6379599.38       NaN          4918272.50                     44539.09   \n",
       "\n",
       "      ...  AdministrativeAndSupportServicesBusinessServices  \\\n",
       "1981  ...                                         807075.54   \n",
       "1982  ...                                         825921.69   \n",
       "1983  ...                                         844767.84   \n",
       "1984  ...                                         863613.99   \n",
       "1985  ...                                         882460.14   \n",
       "\n",
       "      PublicAdministration  Education  HumanHealthAndSocialServices  \\\n",
       "1981             242555.85  110697.65                     132700.20   \n",
       "1982             248219.81  113282.57                     133767.58   \n",
       "1983             253883.77  115867.49                     125819.69   \n",
       "1984             259547.73  118452.41                     103092.67   \n",
       "1985             265211.69  121037.33                      98790.30   \n",
       "\n",
       "      OtherServices  TOTAL_GDP  TotalGDPatConstantBasicPrices  \\\n",
       "1981    15258004.34        NaN                            NaN   \n",
       "1982    14985078.32        NaN                            NaN   \n",
       "1983    13849725.17        NaN                            NaN   \n",
       "1984    13779255.49        NaN                            NaN   \n",
       "1985    14953913.05        NaN                            NaN   \n",
       "\n",
       "      NonOilGDPatConstantBasicPrices  NetIndirectTaxesOnProducts  \\\n",
       "1981                             NaN                         NaN   \n",
       "1982                             NaN                         NaN   \n",
       "1983                             NaN                         NaN   \n",
       "1984                             NaN                         NaN   \n",
       "1985                             NaN                         NaN   \n",
       "\n",
       "      TotalGDPatConstantMarketPrices  \n",
       "1981                             NaN  \n",
       "1982                             NaN  \n",
       "1983                             NaN  \n",
       "1984                             NaN  \n",
       "1985                             NaN  \n",
       "\n",
       "[5 rows x 38 columns]"
      ]
     },
     "execution_count": 11,
     "metadata": {},
     "output_type": "execute_result"
    }
   ],
   "source": [
    "gdp.head()"
   ]
  },
  {
   "cell_type": "code",
   "execution_count": null,
   "metadata": {},
   "outputs": [],
   "source": [
    "gdp.drop('tyear',axis=1, inplace=True)"
   ]
  },
  {
   "cell_type": "code",
   "execution_count": null,
   "metadata": {},
   "outputs": [],
   "source": [
    "gdp.drop('Period',axis=1, inplace=True)"
   ]
  },
  {
   "cell_type": "code",
   "execution_count": null,
   "metadata": {},
   "outputs": [
    {
     "data": {
      "text/html": [
       "<div>\n",
       "<style scoped>\n",
       "    .dataframe tbody tr th:only-of-type {\n",
       "        vertical-align: middle;\n",
       "    }\n",
       "\n",
       "    .dataframe tbody tr th {\n",
       "        vertical-align: top;\n",
       "    }\n",
       "\n",
       "    .dataframe thead th {\n",
       "        text-align: right;\n",
       "    }\n",
       "</style>\n",
       "<table border=\"1\" class=\"dataframe\">\n",
       "  <thead>\n",
       "    <tr style=\"text-align: right;\">\n",
       "      <th></th>\n",
       "      <th>Agriculture</th>\n",
       "      <th>CropProduction</th>\n",
       "      <th>Livestock</th>\n",
       "      <th>Forestry</th>\n",
       "      <th>Fishing</th>\n",
       "      <th>Industry</th>\n",
       "      <th>MiningAndQuarrying</th>\n",
       "      <th>CrudePetroleumAndNaturalGas</th>\n",
       "      <th>SolidMinerals</th>\n",
       "      <th>CoalMining</th>\n",
       "      <th>...</th>\n",
       "      <th>AdministrativeAndSupportServicesBusinessServices</th>\n",
       "      <th>PublicAdministration</th>\n",
       "      <th>Education</th>\n",
       "      <th>HumanHealthAndSocialServices</th>\n",
       "      <th>OtherServices</th>\n",
       "      <th>TOTAL_GDP</th>\n",
       "      <th>TotalGDPatConstantBasicPrices</th>\n",
       "      <th>NonOilGDPatConstantBasicPrices</th>\n",
       "      <th>NetIndirectTaxesOnProducts</th>\n",
       "      <th>TotalGDPatConstantMarketPrices</th>\n",
       "    </tr>\n",
       "  </thead>\n",
       "  <tbody>\n",
       "    <tr>\n",
       "      <th>1981</th>\n",
       "      <td>1854764.44</td>\n",
       "      <td>341411.50</td>\n",
       "      <td>77897.99</td>\n",
       "      <td>90299.23</td>\n",
       "      <td>6603250.12</td>\n",
       "      <td>NaN</td>\n",
       "      <td>4977416.70</td>\n",
       "      <td>67136.73</td>\n",
       "      <td>NaN</td>\n",
       "      <td>NaN</td>\n",
       "      <td>...</td>\n",
       "      <td>807075.54</td>\n",
       "      <td>242555.85</td>\n",
       "      <td>110697.65</td>\n",
       "      <td>132700.20</td>\n",
       "      <td>15258004.34</td>\n",
       "      <td>NaN</td>\n",
       "      <td>NaN</td>\n",
       "      <td>NaN</td>\n",
       "      <td>NaN</td>\n",
       "      <td>NaN</td>\n",
       "    </tr>\n",
       "    <tr>\n",
       "      <th>1982</th>\n",
       "      <td>1897078.85</td>\n",
       "      <td>361115.70</td>\n",
       "      <td>73910.25</td>\n",
       "      <td>93856.08</td>\n",
       "      <td>6272828.03</td>\n",
       "      <td>NaN</td>\n",
       "      <td>4453093.63</td>\n",
       "      <td>54840.50</td>\n",
       "      <td>NaN</td>\n",
       "      <td>NaN</td>\n",
       "      <td>...</td>\n",
       "      <td>825921.69</td>\n",
       "      <td>248219.81</td>\n",
       "      <td>113282.57</td>\n",
       "      <td>133767.58</td>\n",
       "      <td>14985078.32</td>\n",
       "      <td>NaN</td>\n",
       "      <td>NaN</td>\n",
       "      <td>NaN</td>\n",
       "      <td>NaN</td>\n",
       "      <td>NaN</td>\n",
       "    </tr>\n",
       "    <tr>\n",
       "      <th>1983</th>\n",
       "      <td>1842704.31</td>\n",
       "      <td>393131.01</td>\n",
       "      <td>75282.78</td>\n",
       "      <td>97963.82</td>\n",
       "      <td>5264881.39</td>\n",
       "      <td>NaN</td>\n",
       "      <td>4052977.68</td>\n",
       "      <td>44014.84</td>\n",
       "      <td>NaN</td>\n",
       "      <td>NaN</td>\n",
       "      <td>...</td>\n",
       "      <td>844767.84</td>\n",
       "      <td>253883.77</td>\n",
       "      <td>115867.49</td>\n",
       "      <td>125819.69</td>\n",
       "      <td>13849725.17</td>\n",
       "      <td>NaN</td>\n",
       "      <td>NaN</td>\n",
       "      <td>NaN</td>\n",
       "      <td>NaN</td>\n",
       "      <td>NaN</td>\n",
       "    </tr>\n",
       "    <tr>\n",
       "      <th>1984</th>\n",
       "      <td>1759115.15</td>\n",
       "      <td>399685.38</td>\n",
       "      <td>76694.14</td>\n",
       "      <td>68010.74</td>\n",
       "      <td>5621181.44</td>\n",
       "      <td>NaN</td>\n",
       "      <td>4559196.21</td>\n",
       "      <td>43078.37</td>\n",
       "      <td>NaN</td>\n",
       "      <td>NaN</td>\n",
       "      <td>...</td>\n",
       "      <td>863613.99</td>\n",
       "      <td>259547.73</td>\n",
       "      <td>118452.41</td>\n",
       "      <td>103092.67</td>\n",
       "      <td>13779255.49</td>\n",
       "      <td>NaN</td>\n",
       "      <td>NaN</td>\n",
       "      <td>NaN</td>\n",
       "      <td>NaN</td>\n",
       "      <td>NaN</td>\n",
       "    </tr>\n",
       "    <tr>\n",
       "      <th>1985</th>\n",
       "      <td>2180907.71</td>\n",
       "      <td>428102.85</td>\n",
       "      <td>78082.45</td>\n",
       "      <td>43969.46</td>\n",
       "      <td>6379599.38</td>\n",
       "      <td>NaN</td>\n",
       "      <td>4918272.50</td>\n",
       "      <td>44539.09</td>\n",
       "      <td>NaN</td>\n",
       "      <td>NaN</td>\n",
       "      <td>...</td>\n",
       "      <td>882460.14</td>\n",
       "      <td>265211.69</td>\n",
       "      <td>121037.33</td>\n",
       "      <td>98790.30</td>\n",
       "      <td>14953913.05</td>\n",
       "      <td>NaN</td>\n",
       "      <td>NaN</td>\n",
       "      <td>NaN</td>\n",
       "      <td>NaN</td>\n",
       "      <td>NaN</td>\n",
       "    </tr>\n",
       "  </tbody>\n",
       "</table>\n",
       "<p>5 rows × 36 columns</p>\n",
       "</div>"
      ],
      "text/plain": [
       "      Agriculture  CropProduction  Livestock  Forestry     Fishing  Industry  \\\n",
       "1981   1854764.44       341411.50   77897.99  90299.23  6603250.12       NaN   \n",
       "1982   1897078.85       361115.70   73910.25  93856.08  6272828.03       NaN   \n",
       "1983   1842704.31       393131.01   75282.78  97963.82  5264881.39       NaN   \n",
       "1984   1759115.15       399685.38   76694.14  68010.74  5621181.44       NaN   \n",
       "1985   2180907.71       428102.85   78082.45  43969.46  6379599.38       NaN   \n",
       "\n",
       "      MiningAndQuarrying  CrudePetroleumAndNaturalGas  SolidMinerals  \\\n",
       "1981          4977416.70                     67136.73            NaN   \n",
       "1982          4453093.63                     54840.50            NaN   \n",
       "1983          4052977.68                     44014.84            NaN   \n",
       "1984          4559196.21                     43078.37            NaN   \n",
       "1985          4918272.50                     44539.09            NaN   \n",
       "\n",
       "      CoalMining  ...  AdministrativeAndSupportServicesBusinessServices  \\\n",
       "1981         NaN  ...                                         807075.54   \n",
       "1982         NaN  ...                                         825921.69   \n",
       "1983         NaN  ...                                         844767.84   \n",
       "1984         NaN  ...                                         863613.99   \n",
       "1985         NaN  ...                                         882460.14   \n",
       "\n",
       "      PublicAdministration  Education  HumanHealthAndSocialServices  \\\n",
       "1981             242555.85  110697.65                     132700.20   \n",
       "1982             248219.81  113282.57                     133767.58   \n",
       "1983             253883.77  115867.49                     125819.69   \n",
       "1984             259547.73  118452.41                     103092.67   \n",
       "1985             265211.69  121037.33                      98790.30   \n",
       "\n",
       "      OtherServices  TOTAL_GDP  TotalGDPatConstantBasicPrices  \\\n",
       "1981    15258004.34        NaN                            NaN   \n",
       "1982    14985078.32        NaN                            NaN   \n",
       "1983    13849725.17        NaN                            NaN   \n",
       "1984    13779255.49        NaN                            NaN   \n",
       "1985    14953913.05        NaN                            NaN   \n",
       "\n",
       "      NonOilGDPatConstantBasicPrices  NetIndirectTaxesOnProducts  \\\n",
       "1981                             NaN                         NaN   \n",
       "1982                             NaN                         NaN   \n",
       "1983                             NaN                         NaN   \n",
       "1984                             NaN                         NaN   \n",
       "1985                             NaN                         NaN   \n",
       "\n",
       "      TotalGDPatConstantMarketPrices  \n",
       "1981                             NaN  \n",
       "1982                             NaN  \n",
       "1983                             NaN  \n",
       "1984                             NaN  \n",
       "1985                             NaN  \n",
       "\n",
       "[5 rows x 36 columns]"
      ]
     },
     "execution_count": 14,
     "metadata": {},
     "output_type": "execute_result"
    }
   ],
   "source": [
    "gdp.head()"
   ]
  },
  {
   "cell_type": "code",
   "execution_count": null,
   "metadata": {},
   "outputs": [
    {
     "data": {
      "text/html": [
       "<div>\n",
       "<style scoped>\n",
       "    .dataframe tbody tr th:only-of-type {\n",
       "        vertical-align: middle;\n",
       "    }\n",
       "\n",
       "    .dataframe tbody tr th {\n",
       "        vertical-align: top;\n",
       "    }\n",
       "\n",
       "    .dataframe thead th {\n",
       "        text-align: right;\n",
       "    }\n",
       "</style>\n",
       "<table border=\"1\" class=\"dataframe\">\n",
       "  <thead>\n",
       "    <tr style=\"text-align: right;\">\n",
       "      <th></th>\n",
       "      <th>Agriculture</th>\n",
       "      <th>CropProduction</th>\n",
       "      <th>Livestock</th>\n",
       "      <th>Forestry</th>\n",
       "      <th>Fishing</th>\n",
       "      <th>Industry</th>\n",
       "      <th>MiningAndQuarrying</th>\n",
       "      <th>CrudePetroleumAndNaturalGas</th>\n",
       "      <th>SolidMinerals</th>\n",
       "      <th>CoalMining</th>\n",
       "      <th>...</th>\n",
       "      <th>AdministrativeAndSupportServicesBusinessServices</th>\n",
       "      <th>PublicAdministration</th>\n",
       "      <th>Education</th>\n",
       "      <th>HumanHealthAndSocialServices</th>\n",
       "      <th>OtherServices</th>\n",
       "      <th>TOTAL_GDP</th>\n",
       "      <th>TotalGDPatConstantBasicPrices</th>\n",
       "      <th>NonOilGDPatConstantBasicPrices</th>\n",
       "      <th>NetIndirectTaxesOnProducts</th>\n",
       "      <th>TotalGDPatConstantMarketPrices</th>\n",
       "    </tr>\n",
       "  </thead>\n",
       "  <tbody>\n",
       "    <tr>\n",
       "      <th>1981</th>\n",
       "      <td>1854764.44</td>\n",
       "      <td>341411.50</td>\n",
       "      <td>77897.99</td>\n",
       "      <td>90299.23</td>\n",
       "      <td>6603250.12</td>\n",
       "      <td>NaN</td>\n",
       "      <td>4977416.70</td>\n",
       "      <td>67136.73</td>\n",
       "      <td>NaN</td>\n",
       "      <td>NaN</td>\n",
       "      <td>...</td>\n",
       "      <td>807075.54</td>\n",
       "      <td>242555.85</td>\n",
       "      <td>110697.65</td>\n",
       "      <td>132700.20</td>\n",
       "      <td>15258004.34</td>\n",
       "      <td>NaN</td>\n",
       "      <td>NaN</td>\n",
       "      <td>NaN</td>\n",
       "      <td>NaN</td>\n",
       "      <td>NaN</td>\n",
       "    </tr>\n",
       "    <tr>\n",
       "      <th>1982</th>\n",
       "      <td>1897078.85</td>\n",
       "      <td>361115.70</td>\n",
       "      <td>73910.25</td>\n",
       "      <td>93856.08</td>\n",
       "      <td>6272828.03</td>\n",
       "      <td>NaN</td>\n",
       "      <td>4453093.63</td>\n",
       "      <td>54840.50</td>\n",
       "      <td>NaN</td>\n",
       "      <td>NaN</td>\n",
       "      <td>...</td>\n",
       "      <td>825921.69</td>\n",
       "      <td>248219.81</td>\n",
       "      <td>113282.57</td>\n",
       "      <td>133767.58</td>\n",
       "      <td>14985078.32</td>\n",
       "      <td>NaN</td>\n",
       "      <td>NaN</td>\n",
       "      <td>NaN</td>\n",
       "      <td>NaN</td>\n",
       "      <td>NaN</td>\n",
       "    </tr>\n",
       "    <tr>\n",
       "      <th>1983</th>\n",
       "      <td>1842704.31</td>\n",
       "      <td>393131.01</td>\n",
       "      <td>75282.78</td>\n",
       "      <td>97963.82</td>\n",
       "      <td>5264881.39</td>\n",
       "      <td>NaN</td>\n",
       "      <td>4052977.68</td>\n",
       "      <td>44014.84</td>\n",
       "      <td>NaN</td>\n",
       "      <td>NaN</td>\n",
       "      <td>...</td>\n",
       "      <td>844767.84</td>\n",
       "      <td>253883.77</td>\n",
       "      <td>115867.49</td>\n",
       "      <td>125819.69</td>\n",
       "      <td>13849725.17</td>\n",
       "      <td>NaN</td>\n",
       "      <td>NaN</td>\n",
       "      <td>NaN</td>\n",
       "      <td>NaN</td>\n",
       "      <td>NaN</td>\n",
       "    </tr>\n",
       "    <tr>\n",
       "      <th>1984</th>\n",
       "      <td>1759115.15</td>\n",
       "      <td>399685.38</td>\n",
       "      <td>76694.14</td>\n",
       "      <td>68010.74</td>\n",
       "      <td>5621181.44</td>\n",
       "      <td>NaN</td>\n",
       "      <td>4559196.21</td>\n",
       "      <td>43078.37</td>\n",
       "      <td>NaN</td>\n",
       "      <td>NaN</td>\n",
       "      <td>...</td>\n",
       "      <td>863613.99</td>\n",
       "      <td>259547.73</td>\n",
       "      <td>118452.41</td>\n",
       "      <td>103092.67</td>\n",
       "      <td>13779255.49</td>\n",
       "      <td>NaN</td>\n",
       "      <td>NaN</td>\n",
       "      <td>NaN</td>\n",
       "      <td>NaN</td>\n",
       "      <td>NaN</td>\n",
       "    </tr>\n",
       "    <tr>\n",
       "      <th>1985</th>\n",
       "      <td>2180907.71</td>\n",
       "      <td>428102.85</td>\n",
       "      <td>78082.45</td>\n",
       "      <td>43969.46</td>\n",
       "      <td>6379599.38</td>\n",
       "      <td>NaN</td>\n",
       "      <td>4918272.50</td>\n",
       "      <td>44539.09</td>\n",
       "      <td>NaN</td>\n",
       "      <td>NaN</td>\n",
       "      <td>...</td>\n",
       "      <td>882460.14</td>\n",
       "      <td>265211.69</td>\n",
       "      <td>121037.33</td>\n",
       "      <td>98790.30</td>\n",
       "      <td>14953913.05</td>\n",
       "      <td>NaN</td>\n",
       "      <td>NaN</td>\n",
       "      <td>NaN</td>\n",
       "      <td>NaN</td>\n",
       "      <td>NaN</td>\n",
       "    </tr>\n",
       "  </tbody>\n",
       "</table>\n",
       "<p>5 rows × 36 columns</p>\n",
       "</div>"
      ],
      "text/plain": [
       "      Agriculture  CropProduction  Livestock  Forestry     Fishing  Industry  \\\n",
       "1981   1854764.44       341411.50   77897.99  90299.23  6603250.12       NaN   \n",
       "1982   1897078.85       361115.70   73910.25  93856.08  6272828.03       NaN   \n",
       "1983   1842704.31       393131.01   75282.78  97963.82  5264881.39       NaN   \n",
       "1984   1759115.15       399685.38   76694.14  68010.74  5621181.44       NaN   \n",
       "1985   2180907.71       428102.85   78082.45  43969.46  6379599.38       NaN   \n",
       "\n",
       "      MiningAndQuarrying  CrudePetroleumAndNaturalGas  SolidMinerals  \\\n",
       "1981          4977416.70                     67136.73            NaN   \n",
       "1982          4453093.63                     54840.50            NaN   \n",
       "1983          4052977.68                     44014.84            NaN   \n",
       "1984          4559196.21                     43078.37            NaN   \n",
       "1985          4918272.50                     44539.09            NaN   \n",
       "\n",
       "      CoalMining  ...  AdministrativeAndSupportServicesBusinessServices  \\\n",
       "1981         NaN  ...                                         807075.54   \n",
       "1982         NaN  ...                                         825921.69   \n",
       "1983         NaN  ...                                         844767.84   \n",
       "1984         NaN  ...                                         863613.99   \n",
       "1985         NaN  ...                                         882460.14   \n",
       "\n",
       "      PublicAdministration  Education  HumanHealthAndSocialServices  \\\n",
       "1981             242555.85  110697.65                     132700.20   \n",
       "1982             248219.81  113282.57                     133767.58   \n",
       "1983             253883.77  115867.49                     125819.69   \n",
       "1984             259547.73  118452.41                     103092.67   \n",
       "1985             265211.69  121037.33                      98790.30   \n",
       "\n",
       "      OtherServices  TOTAL_GDP  TotalGDPatConstantBasicPrices  \\\n",
       "1981    15258004.34        NaN                            NaN   \n",
       "1982    14985078.32        NaN                            NaN   \n",
       "1983    13849725.17        NaN                            NaN   \n",
       "1984    13779255.49        NaN                            NaN   \n",
       "1985    14953913.05        NaN                            NaN   \n",
       "\n",
       "      NonOilGDPatConstantBasicPrices  NetIndirectTaxesOnProducts  \\\n",
       "1981                             NaN                         NaN   \n",
       "1982                             NaN                         NaN   \n",
       "1983                             NaN                         NaN   \n",
       "1984                             NaN                         NaN   \n",
       "1985                             NaN                         NaN   \n",
       "\n",
       "      TotalGDPatConstantMarketPrices  \n",
       "1981                             NaN  \n",
       "1982                             NaN  \n",
       "1983                             NaN  \n",
       "1984                             NaN  \n",
       "1985                             NaN  \n",
       "\n",
       "[5 rows x 36 columns]"
      ]
     },
     "execution_count": 15,
     "metadata": {},
     "output_type": "execute_result"
    }
   ],
   "source": [
    "gdp.head()"
   ]
  },
  {
   "cell_type": "code",
   "execution_count": null,
   "metadata": {},
   "outputs": [],
   "source": [
    "# % of values missing in each column\n",
    "values_list = list()\n",
    "cols_list = list()\n",
    "for col in gdp.columns:\n",
    "    pct_missing = np.mean(gdp[col].isnull())*100\n",
    "    cols_list.append(col)\n",
    "    values_list.append(pct_missing)\n",
    "pct_missing_df = pd.DataFrame()\n",
    "pct_missing_df['col'] = cols_list\n",
    "pct_missing_df['pct_missing'] = values_list"
   ]
  },
  {
   "cell_type": "code",
   "execution_count": 2,
   "metadata": {},
   "outputs": [
    {
     "ename": "NameError",
     "evalue": "name 'pct_missing_df' is not defined",
     "output_type": "error",
     "traceback": [
      "\u001b[1;31m---------------------------------------------------------------------------\u001b[0m",
      "\u001b[1;31mNameError\u001b[0m                                 Traceback (most recent call last)",
      "\u001b[1;32m<ipython-input-2-db795a67fdfb>\u001b[0m in \u001b[0;36m<module>\u001b[1;34m\u001b[0m\n\u001b[1;32m----> 1\u001b[1;33m \u001b[0mpct_missing_df\u001b[0m\u001b[1;33m.\u001b[0m\u001b[0mloc\u001b[0m\u001b[1;33m[\u001b[0m\u001b[0mpct_missing_df\u001b[0m\u001b[1;33m.\u001b[0m\u001b[0mpct_missing\u001b[0m \u001b[1;33m>\u001b[0m \u001b[1;36m0\u001b[0m\u001b[1;33m]\u001b[0m\u001b[1;33m.\u001b[0m\u001b[0mplot\u001b[0m\u001b[1;33m(\u001b[0m\u001b[0mkind\u001b[0m\u001b[1;33m=\u001b[0m\u001b[1;34m'bar'\u001b[0m\u001b[1;33m,\u001b[0m \u001b[0mfigsize\u001b[0m\u001b[1;33m=\u001b[0m\u001b[1;33m(\u001b[0m\u001b[1;36m12\u001b[0m\u001b[1;33m,\u001b[0m\u001b[1;36m8\u001b[0m\u001b[1;33m)\u001b[0m\u001b[1;33m)\u001b[0m\u001b[1;33m\u001b[0m\u001b[1;33m\u001b[0m\u001b[0m\n\u001b[0m\u001b[0;32m      2\u001b[0m \u001b[0mplt\u001b[0m\u001b[1;33m.\u001b[0m\u001b[0mshow\u001b[0m\u001b[1;33m(\u001b[0m\u001b[1;33m)\u001b[0m\u001b[1;33m\u001b[0m\u001b[1;33m\u001b[0m\u001b[0m\n",
      "\u001b[1;31mNameError\u001b[0m: name 'pct_missing_df' is not defined"
     ]
    }
   ],
   "source": [
    "pct_missing_df.loc[pct_missing_df.pct_missing > 0].plot(kind='bar', figsize=(12,8))\n",
    "plt.show()"
   ]
  },
  {
   "cell_type": "code",
   "execution_count": 3,
   "metadata": {},
   "outputs": [
    {
     "ename": "NameError",
     "evalue": "name 'gdp' is not defined",
     "output_type": "error",
     "traceback": [
      "\u001b[1;31m---------------------------------------------------------------------------\u001b[0m",
      "\u001b[1;31mNameError\u001b[0m                                 Traceback (most recent call last)",
      "\u001b[1;32m<ipython-input-3-ab330b18ec7f>\u001b[0m in \u001b[0;36m<module>\u001b[1;34m\u001b[0m\n\u001b[1;32m----> 1\u001b[1;33m \u001b[0mgdp\u001b[0m\u001b[1;33m.\u001b[0m\u001b[0mdrop\u001b[0m\u001b[1;33m(\u001b[0m\u001b[1;34m'Industry'\u001b[0m\u001b[1;33m,\u001b[0m\u001b[0maxis\u001b[0m\u001b[1;33m=\u001b[0m\u001b[1;36m1\u001b[0m\u001b[1;33m,\u001b[0m \u001b[0minplace\u001b[0m\u001b[1;33m=\u001b[0m\u001b[1;32mTrue\u001b[0m\u001b[1;33m)\u001b[0m\u001b[1;33m\u001b[0m\u001b[1;33m\u001b[0m\u001b[0m\n\u001b[0m",
      "\u001b[1;31mNameError\u001b[0m: name 'gdp' is not defined"
     ]
    }
   ],
   "source": [
    "gdp.drop('Industry',axis=1, inplace=True)"
   ]
  },
  {
   "cell_type": "code",
   "execution_count": 4,
   "metadata": {},
   "outputs": [
    {
     "ename": "NameError",
     "evalue": "name 'gdp' is not defined",
     "output_type": "error",
     "traceback": [
      "\u001b[1;31m---------------------------------------------------------------------------\u001b[0m",
      "\u001b[1;31mNameError\u001b[0m                                 Traceback (most recent call last)",
      "\u001b[1;32m<ipython-input-4-f5087666afc4>\u001b[0m in \u001b[0;36m<module>\u001b[1;34m\u001b[0m\n\u001b[1;32m----> 1\u001b[1;33m \u001b[0mgdp\u001b[0m\u001b[1;33m.\u001b[0m\u001b[0mhead\u001b[0m\u001b[1;33m(\u001b[0m\u001b[1;33m)\u001b[0m\u001b[1;33m\u001b[0m\u001b[1;33m\u001b[0m\u001b[0m\n\u001b[0m",
      "\u001b[1;31mNameError\u001b[0m: name 'gdp' is not defined"
     ]
    }
   ],
   "source": [
    "gdp.head()"
   ]
  },
  {
   "cell_type": "code",
   "execution_count": 5,
   "metadata": {},
   "outputs": [
    {
     "ename": "NameError",
     "evalue": "name 'gdp' is not defined",
     "output_type": "error",
     "traceback": [
      "\u001b[1;31m---------------------------------------------------------------------------\u001b[0m",
      "\u001b[1;31mNameError\u001b[0m                                 Traceback (most recent call last)",
      "\u001b[1;32m<ipython-input-5-62840bd4143a>\u001b[0m in \u001b[0;36m<module>\u001b[1;34m\u001b[0m\n\u001b[1;32m----> 1\u001b[1;33m \u001b[0mgdp\u001b[0m\u001b[1;33m.\u001b[0m\u001b[0mdrop\u001b[0m\u001b[1;33m(\u001b[0m\u001b[1;34m'SolidMinerals'\u001b[0m\u001b[1;33m,\u001b[0m\u001b[0maxis\u001b[0m\u001b[1;33m=\u001b[0m\u001b[1;36m1\u001b[0m\u001b[1;33m,\u001b[0m \u001b[0minplace\u001b[0m\u001b[1;33m=\u001b[0m\u001b[1;32mTrue\u001b[0m\u001b[1;33m)\u001b[0m\u001b[1;33m\u001b[0m\u001b[1;33m\u001b[0m\u001b[0m\n\u001b[0m",
      "\u001b[1;31mNameError\u001b[0m: name 'gdp' is not defined"
     ]
    }
   ],
   "source": [
    "gdp.drop('SolidMinerals',axis=1, inplace=True)"
   ]
  },
  {
   "cell_type": "code",
   "execution_count": 6,
   "metadata": {},
   "outputs": [
    {
     "ename": "NameError",
     "evalue": "name 'gdp' is not defined",
     "output_type": "error",
     "traceback": [
      "\u001b[1;31m---------------------------------------------------------------------------\u001b[0m",
      "\u001b[1;31mNameError\u001b[0m                                 Traceback (most recent call last)",
      "\u001b[1;32m<ipython-input-6-f5087666afc4>\u001b[0m in \u001b[0;36m<module>\u001b[1;34m\u001b[0m\n\u001b[1;32m----> 1\u001b[1;33m \u001b[0mgdp\u001b[0m\u001b[1;33m.\u001b[0m\u001b[0mhead\u001b[0m\u001b[1;33m(\u001b[0m\u001b[1;33m)\u001b[0m\u001b[1;33m\u001b[0m\u001b[1;33m\u001b[0m\u001b[0m\n\u001b[0m",
      "\u001b[1;31mNameError\u001b[0m: name 'gdp' is not defined"
     ]
    }
   ],
   "source": [
    "gdp.head()"
   ]
  },
  {
   "cell_type": "code",
   "execution_count": 7,
   "metadata": {},
   "outputs": [
    {
     "ename": "NameError",
     "evalue": "name 'gdp' is not defined",
     "output_type": "error",
     "traceback": [
      "\u001b[1;31m---------------------------------------------------------------------------\u001b[0m",
      "\u001b[1;31mNameError\u001b[0m                                 Traceback (most recent call last)",
      "\u001b[1;32m<ipython-input-7-5fefa9eda196>\u001b[0m in \u001b[0;36m<module>\u001b[1;34m\u001b[0m\n\u001b[1;32m----> 1\u001b[1;33m \u001b[0mgdp\u001b[0m\u001b[1;33m.\u001b[0m\u001b[0mdrop\u001b[0m\u001b[1;33m(\u001b[0m\u001b[1;34m'CoalMining'\u001b[0m\u001b[1;33m,\u001b[0m\u001b[0maxis\u001b[0m\u001b[1;33m=\u001b[0m\u001b[1;36m1\u001b[0m\u001b[1;33m,\u001b[0m \u001b[0minplace\u001b[0m\u001b[1;33m=\u001b[0m\u001b[1;32mTrue\u001b[0m\u001b[1;33m)\u001b[0m\u001b[1;33m\u001b[0m\u001b[1;33m\u001b[0m\u001b[0m\n\u001b[0m",
      "\u001b[1;31mNameError\u001b[0m: name 'gdp' is not defined"
     ]
    }
   ],
   "source": [
    "gdp.drop('CoalMining',axis=1, inplace=True)"
   ]
  },
  {
   "cell_type": "code",
   "execution_count": 8,
   "metadata": {},
   "outputs": [
    {
     "ename": "NameError",
     "evalue": "name 'gdp' is not defined",
     "output_type": "error",
     "traceback": [
      "\u001b[1;31m---------------------------------------------------------------------------\u001b[0m",
      "\u001b[1;31mNameError\u001b[0m                                 Traceback (most recent call last)",
      "\u001b[1;32m<ipython-input-8-3233b9e49217>\u001b[0m in \u001b[0;36m<module>\u001b[1;34m\u001b[0m\n\u001b[1;32m----> 1\u001b[1;33m \u001b[0mgdp\u001b[0m\u001b[1;33m.\u001b[0m\u001b[0mdrop\u001b[0m\u001b[1;33m(\u001b[0m\u001b[1;34m'MetalOres'\u001b[0m\u001b[1;33m,\u001b[0m\u001b[0maxis\u001b[0m\u001b[1;33m=\u001b[0m\u001b[1;36m1\u001b[0m\u001b[1;33m,\u001b[0m \u001b[0minplace\u001b[0m\u001b[1;33m=\u001b[0m\u001b[1;32mTrue\u001b[0m\u001b[1;33m)\u001b[0m\u001b[1;33m\u001b[0m\u001b[1;33m\u001b[0m\u001b[0m\n\u001b[0m",
      "\u001b[1;31mNameError\u001b[0m: name 'gdp' is not defined"
     ]
    }
   ],
   "source": [
    "gdp.drop('MetalOres',axis=1, inplace=True)"
   ]
  },
  {
   "cell_type": "code",
   "execution_count": 9,
   "metadata": {},
   "outputs": [
    {
     "ename": "NameError",
     "evalue": "name 'gdp' is not defined",
     "output_type": "error",
     "traceback": [
      "\u001b[1;31m---------------------------------------------------------------------------\u001b[0m",
      "\u001b[1;31mNameError\u001b[0m                                 Traceback (most recent call last)",
      "\u001b[1;32m<ipython-input-9-f5087666afc4>\u001b[0m in \u001b[0;36m<module>\u001b[1;34m\u001b[0m\n\u001b[1;32m----> 1\u001b[1;33m \u001b[0mgdp\u001b[0m\u001b[1;33m.\u001b[0m\u001b[0mhead\u001b[0m\u001b[1;33m(\u001b[0m\u001b[1;33m)\u001b[0m\u001b[1;33m\u001b[0m\u001b[1;33m\u001b[0m\u001b[0m\n\u001b[0m",
      "\u001b[1;31mNameError\u001b[0m: name 'gdp' is not defined"
     ]
    }
   ],
   "source": [
    "gdp.head()"
   ]
  },
  {
   "cell_type": "code",
   "execution_count": 10,
   "metadata": {},
   "outputs": [
    {
     "ename": "NameError",
     "evalue": "name 'gdp' is not defined",
     "output_type": "error",
     "traceback": [
      "\u001b[1;31m---------------------------------------------------------------------------\u001b[0m",
      "\u001b[1;31mNameError\u001b[0m                                 Traceback (most recent call last)",
      "\u001b[1;32m<ipython-input-10-67c293ae7179>\u001b[0m in \u001b[0;36m<module>\u001b[1;34m\u001b[0m\n\u001b[1;32m----> 1\u001b[1;33m \u001b[0mgdp\u001b[0m\u001b[1;33m.\u001b[0m\u001b[0mdrop\u001b[0m\u001b[1;33m(\u001b[0m\u001b[1;34m'ElectricityGasSteamAndAirCon'\u001b[0m\u001b[1;33m,\u001b[0m\u001b[0maxis\u001b[0m\u001b[1;33m=\u001b[0m\u001b[1;36m1\u001b[0m\u001b[1;33m,\u001b[0m \u001b[0minplace\u001b[0m\u001b[1;33m=\u001b[0m\u001b[1;32mTrue\u001b[0m\u001b[1;33m)\u001b[0m\u001b[1;33m\u001b[0m\u001b[1;33m\u001b[0m\u001b[0m\n\u001b[0m",
      "\u001b[1;31mNameError\u001b[0m: name 'gdp' is not defined"
     ]
    }
   ],
   "source": [
    "gdp.drop('ElectricityGasSteamAndAirCon',axis=1, inplace=True)"
   ]
  },
  {
   "cell_type": "code",
   "execution_count": 11,
   "metadata": {},
   "outputs": [
    {
     "ename": "NameError",
     "evalue": "name 'gdp' is not defined",
     "output_type": "error",
     "traceback": [
      "\u001b[1;31m---------------------------------------------------------------------------\u001b[0m",
      "\u001b[1;31mNameError\u001b[0m                                 Traceback (most recent call last)",
      "\u001b[1;32m<ipython-input-11-f5087666afc4>\u001b[0m in \u001b[0;36m<module>\u001b[1;34m\u001b[0m\n\u001b[1;32m----> 1\u001b[1;33m \u001b[0mgdp\u001b[0m\u001b[1;33m.\u001b[0m\u001b[0mhead\u001b[0m\u001b[1;33m(\u001b[0m\u001b[1;33m)\u001b[0m\u001b[1;33m\u001b[0m\u001b[1;33m\u001b[0m\u001b[0m\n\u001b[0m",
      "\u001b[1;31mNameError\u001b[0m: name 'gdp' is not defined"
     ]
    }
   ],
   "source": [
    "gdp.head()"
   ]
  },
  {
   "cell_type": "code",
   "execution_count": 12,
   "metadata": {},
   "outputs": [
    {
     "ename": "NameError",
     "evalue": "name 'gdp' is not defined",
     "output_type": "error",
     "traceback": [
      "\u001b[1;31m---------------------------------------------------------------------------\u001b[0m",
      "\u001b[1;31mNameError\u001b[0m                                 Traceback (most recent call last)",
      "\u001b[1;32m<ipython-input-12-15cd42339df9>\u001b[0m in \u001b[0;36m<module>\u001b[1;34m\u001b[0m\n\u001b[1;32m----> 1\u001b[1;33m \u001b[0mgdp\u001b[0m\u001b[1;33m.\u001b[0m\u001b[0mdrop\u001b[0m\u001b[1;33m(\u001b[0m\u001b[1;34m'Manufacturing'\u001b[0m\u001b[1;33m,\u001b[0m\u001b[0maxis\u001b[0m\u001b[1;33m=\u001b[0m\u001b[1;36m1\u001b[0m\u001b[1;33m,\u001b[0m \u001b[0minplace\u001b[0m\u001b[1;33m=\u001b[0m\u001b[1;32mTrue\u001b[0m\u001b[1;33m)\u001b[0m\u001b[1;33m\u001b[0m\u001b[1;33m\u001b[0m\u001b[0m\n\u001b[0m",
      "\u001b[1;31mNameError\u001b[0m: name 'gdp' is not defined"
     ]
    }
   ],
   "source": [
    "gdp.drop('Manufacturing',axis=1, inplace=True)"
   ]
  },
  {
   "cell_type": "code",
   "execution_count": 13,
   "metadata": {},
   "outputs": [
    {
     "ename": "NameError",
     "evalue": "name 'gdp' is not defined",
     "output_type": "error",
     "traceback": [
      "\u001b[1;31m---------------------------------------------------------------------------\u001b[0m",
      "\u001b[1;31mNameError\u001b[0m                                 Traceback (most recent call last)",
      "\u001b[1;32m<ipython-input-13-030087619142>\u001b[0m in \u001b[0;36m<module>\u001b[1;34m\u001b[0m\n\u001b[1;32m----> 1\u001b[1;33m \u001b[0mgdp\u001b[0m\u001b[1;33m.\u001b[0m\u001b[0mdrop\u001b[0m\u001b[1;33m(\u001b[0m\u001b[1;34m'TotalGDPatConstantBasicPrices'\u001b[0m\u001b[1;33m,\u001b[0m\u001b[0maxis\u001b[0m\u001b[1;33m=\u001b[0m\u001b[1;36m1\u001b[0m\u001b[1;33m,\u001b[0m \u001b[0minplace\u001b[0m\u001b[1;33m=\u001b[0m\u001b[1;32mTrue\u001b[0m\u001b[1;33m)\u001b[0m\u001b[1;33m\u001b[0m\u001b[1;33m\u001b[0m\u001b[0m\n\u001b[0m",
      "\u001b[1;31mNameError\u001b[0m: name 'gdp' is not defined"
     ]
    }
   ],
   "source": [
    "gdp.drop('TotalGDPatConstantBasicPrices',axis=1, inplace=True)"
   ]
  },
  {
   "cell_type": "code",
   "execution_count": 14,
   "metadata": {},
   "outputs": [
    {
     "ename": "NameError",
     "evalue": "name 'gdp' is not defined",
     "output_type": "error",
     "traceback": [
      "\u001b[1;31m---------------------------------------------------------------------------\u001b[0m",
      "\u001b[1;31mNameError\u001b[0m                                 Traceback (most recent call last)",
      "\u001b[1;32m<ipython-input-14-d173ae825195>\u001b[0m in \u001b[0;36m<module>\u001b[1;34m\u001b[0m\n\u001b[1;32m----> 1\u001b[1;33m \u001b[0mgdp\u001b[0m\u001b[1;33m.\u001b[0m\u001b[0mdrop\u001b[0m\u001b[1;33m(\u001b[0m\u001b[1;34m'NetIndirectTaxesOnProducts'\u001b[0m\u001b[1;33m,\u001b[0m\u001b[0maxis\u001b[0m\u001b[1;33m=\u001b[0m\u001b[1;36m1\u001b[0m\u001b[1;33m,\u001b[0m \u001b[0minplace\u001b[0m\u001b[1;33m=\u001b[0m\u001b[1;32mTrue\u001b[0m\u001b[1;33m)\u001b[0m\u001b[1;33m\u001b[0m\u001b[1;33m\u001b[0m\u001b[0m\n\u001b[0m",
      "\u001b[1;31mNameError\u001b[0m: name 'gdp' is not defined"
     ]
    }
   ],
   "source": [
    "gdp.drop('NetIndirectTaxesOnProducts',axis=1, inplace=True)"
   ]
  },
  {
   "cell_type": "code",
   "execution_count": 15,
   "metadata": {},
   "outputs": [
    {
     "ename": "NameError",
     "evalue": "name 'gdp' is not defined",
     "output_type": "error",
     "traceback": [
      "\u001b[1;31m---------------------------------------------------------------------------\u001b[0m",
      "\u001b[1;31mNameError\u001b[0m                                 Traceback (most recent call last)",
      "\u001b[1;32m<ipython-input-15-04b0ed126f5f>\u001b[0m in \u001b[0;36m<module>\u001b[1;34m\u001b[0m\n\u001b[1;32m----> 1\u001b[1;33m \u001b[0mgdp\u001b[0m\u001b[1;33m.\u001b[0m\u001b[0mdrop\u001b[0m\u001b[1;33m(\u001b[0m\u001b[1;34m'TotalGDPatConstantMarketPrices'\u001b[0m\u001b[1;33m,\u001b[0m\u001b[0maxis\u001b[0m\u001b[1;33m=\u001b[0m\u001b[1;36m1\u001b[0m\u001b[1;33m,\u001b[0m \u001b[0minplace\u001b[0m\u001b[1;33m=\u001b[0m\u001b[1;32mTrue\u001b[0m\u001b[1;33m)\u001b[0m\u001b[1;33m\u001b[0m\u001b[1;33m\u001b[0m\u001b[0m\n\u001b[0m",
      "\u001b[1;31mNameError\u001b[0m: name 'gdp' is not defined"
     ]
    }
   ],
   "source": [
    "gdp.drop('TotalGDPatConstantMarketPrices',axis=1, inplace=True)"
   ]
  },
  {
   "cell_type": "code",
   "execution_count": 16,
   "metadata": {},
   "outputs": [
    {
     "ename": "NameError",
     "evalue": "name 'gdp' is not defined",
     "output_type": "error",
     "traceback": [
      "\u001b[1;31m---------------------------------------------------------------------------\u001b[0m",
      "\u001b[1;31mNameError\u001b[0m                                 Traceback (most recent call last)",
      "\u001b[1;32m<ipython-input-16-f5087666afc4>\u001b[0m in \u001b[0;36m<module>\u001b[1;34m\u001b[0m\n\u001b[1;32m----> 1\u001b[1;33m \u001b[0mgdp\u001b[0m\u001b[1;33m.\u001b[0m\u001b[0mhead\u001b[0m\u001b[1;33m(\u001b[0m\u001b[1;33m)\u001b[0m\u001b[1;33m\u001b[0m\u001b[1;33m\u001b[0m\u001b[0m\n\u001b[0m",
      "\u001b[1;31mNameError\u001b[0m: name 'gdp' is not defined"
     ]
    }
   ],
   "source": [
    "gdp.head()"
   ]
  },
  {
   "cell_type": "code",
   "execution_count": 17,
   "metadata": {},
   "outputs": [
    {
     "ename": "NameError",
     "evalue": "name 'gdp' is not defined",
     "output_type": "error",
     "traceback": [
      "\u001b[1;31m---------------------------------------------------------------------------\u001b[0m",
      "\u001b[1;31mNameError\u001b[0m                                 Traceback (most recent call last)",
      "\u001b[1;32m<ipython-input-17-6e63e16368dc>\u001b[0m in \u001b[0;36m<module>\u001b[1;34m\u001b[0m\n\u001b[1;32m----> 1\u001b[1;33m \u001b[0mgdp\u001b[0m\u001b[1;33m.\u001b[0m\u001b[0mdrop\u001b[0m\u001b[1;33m(\u001b[0m\u001b[1;34m'NonOilGDPatConstantBasicPrices'\u001b[0m\u001b[1;33m,\u001b[0m\u001b[0maxis\u001b[0m\u001b[1;33m=\u001b[0m\u001b[1;36m1\u001b[0m\u001b[1;33m,\u001b[0m \u001b[0minplace\u001b[0m\u001b[1;33m=\u001b[0m\u001b[1;32mTrue\u001b[0m\u001b[1;33m)\u001b[0m\u001b[1;33m\u001b[0m\u001b[1;33m\u001b[0m\u001b[0m\n\u001b[0m",
      "\u001b[1;31mNameError\u001b[0m: name 'gdp' is not defined"
     ]
    }
   ],
   "source": [
    "gdp.drop('NonOilGDPatConstantBasicPrices',axis=1, inplace=True)"
   ]
  },
  {
   "cell_type": "code",
   "execution_count": null,
   "metadata": {},
   "outputs": [],
   "source": [
    "gdp.head()"
   ]
  },
  {
   "cell_type": "code",
   "execution_count": null,
   "metadata": {},
   "outputs": [],
   "source": [
    "#mns.bar(gdp,color='blue')"
   ]
  },
  {
   "cell_type": "code",
   "execution_count": null,
   "metadata": {},
   "outputs": [],
   "source": [
    "gdp.info()"
   ]
  },
  {
   "cell_type": "code",
   "execution_count": null,
   "metadata": {},
   "outputs": [],
   "source": [
    "gdp.columns"
   ]
  },
  {
   "cell_type": "code",
   "execution_count": null,
   "metadata": {},
   "outputs": [],
   "source": [
    "gdp.head()"
   ]
  },
  {
   "cell_type": "code",
   "execution_count": null,
   "metadata": {},
   "outputs": [],
   "source": []
  },
  {
   "cell_type": "code",
   "execution_count": null,
   "metadata": {},
   "outputs": [],
   "source": []
  }
 ],
 "metadata": {
  "kernelspec": {
   "display_name": "Python 3.10.4 64-bit",
   "language": "python",
   "name": "python3"
  },
  "language_info": {
   "codemirror_mode": {
    "name": "ipython",
    "version": 3
   },
   "file_extension": ".py",
   "mimetype": "text/x-python",
   "name": "python",
   "nbconvert_exporter": "python",
   "pygments_lexer": "ipython3",
   "version": "3.10.4"
  },
  "vscode": {
   "interpreter": {
    "hash": "764be00042dee6939ae3bbc17da4ccad5b40b9e1b1224487205735ad7a44feed"
   }
  }
 },
 "nbformat": 4,
 "nbformat_minor": 4
}
