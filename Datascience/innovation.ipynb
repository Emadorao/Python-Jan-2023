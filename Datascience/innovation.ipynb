{
 "cells": [
  {
   "cell_type": "code",
   "execution_count": 1,
   "metadata": {},
   "outputs": [],
   "source": [
    "import numpy as np\n",
    "import pandas as pd\n",
    "import matplotlib.pyplot as plt\n",
    "import seaborn as sns\n",
    "import plotly.express as px\n",
    "%matplotlib inline"
   ]
  },
  {
   "cell_type": "code",
   "execution_count": 2,
   "metadata": {},
   "outputs": [],
   "source": [
    "#with open('nigeria-innovation.dta','r') as f:\n",
    "   # next(f) # skip first row\n",
    "    #df = pd.DataFrame(l.rstrip().split() for l in f)\n",
    "\n",
    "df = pd.read_spss('nigeria-innovation.sav')"
   ]
  },
  {
   "cell_type": "code",
   "execution_count": 3,
   "metadata": {},
   "outputs": [
    {
     "name": "stdout",
     "output_type": "stream",
     "text": [
      "<class 'pandas.core.frame.DataFrame'>\n",
      "RangeIndex: 1359 entries, 0 to 1358\n",
      "Columns: 368 entries, id to policy_suggestion8\n",
      "dtypes: category(282), float64(56), object(30)\n",
      "memory usage: 1.3+ MB\n"
     ]
    }
   ],
   "source": [
    "df.info()"
   ]
  },
  {
   "cell_type": "code",
   "execution_count": 5,
   "metadata": {},
   "outputs": [
    {
     "data": {
      "text/plain": [
       "id                      0\n",
       "year                    0\n",
       "location                0\n",
       "estab                 336\n",
       "formal                943\n",
       "                     ... \n",
       "policy_suggestion4      0\n",
       "policy_suggestion5      0\n",
       "policy_suggestion6      0\n",
       "policy_suggestion7      0\n",
       "policy_suggestion8      0\n",
       "Length: 368, dtype: int64"
      ]
     },
     "execution_count": 5,
     "metadata": {},
     "output_type": "execute_result"
    }
   ],
   "source": [
    "df.isnull().sum()"
   ]
  },
  {
   "cell_type": "code",
   "execution_count": 6,
   "metadata": {},
   "outputs": [
    {
     "data": {
      "text/plain": [
       "(1359, 368)"
      ]
     },
     "execution_count": 6,
     "metadata": {},
     "output_type": "execute_result"
    }
   ],
   "source": [
    "df.shape"
   ]
  },
  {
   "cell_type": "code",
   "execution_count": 4,
   "metadata": {},
   "outputs": [
    {
     "ename": "TypeError",
     "evalue": "'Index' object is not callable",
     "output_type": "error",
     "traceback": [
      "\u001b[1;31m---------------------------------------------------------------------------\u001b[0m",
      "\u001b[1;31mTypeError\u001b[0m                                 Traceback (most recent call last)",
      "\u001b[1;32m<ipython-input-4-44c023800aba>\u001b[0m in \u001b[0;36m<module>\u001b[1;34m\u001b[0m\n\u001b[1;32m----> 1\u001b[1;33m \u001b[0mdf\u001b[0m\u001b[1;33m.\u001b[0m\u001b[0mcolumns\u001b[0m\u001b[1;33m(\u001b[0m\u001b[1;36m20\u001b[0m\u001b[1;33m)\u001b[0m\u001b[1;33m\u001b[0m\u001b[1;33m\u001b[0m\u001b[0m\n\u001b[0m",
      "\u001b[1;31mTypeError\u001b[0m: 'Index' object is not callable"
     ]
    }
   ],
   "source": [
    "df.columns"
   ]
  },
  {
   "cell_type": "code",
   "execution_count": 5,
   "metadata": {},
   "outputs": [],
   "source": [
    "df.to_csv('nitda.csv',index= False)"
   ]
  },
  {
   "cell_type": "code",
   "execution_count": 9,
   "metadata": {},
   "outputs": [],
   "source": [
    "df2 = df[['id', 'year', 'location', 'estab', 'formal', 'service', 'sector',\n",
    "       'group', 'grphq','market1','market2','market3','market4','market5','market6','market7','market8',\n",
    "         'ftstaff05','ftstaff06','ftstaff07','ptstaff05','ptstaff06','ptstaff07','totalstaff05',\n",
    "          'totalstaff06','totalstaff07','ftphd','ftms','ftbs','fthnd','ftdip','ftother','ptphd','ptms',\n",
    "          'ptbs','pthnd','ptdip','ptother','turnover05','turnover06','turnover07','iprod1','iprod2','prod_dev1',\n",
    "          'prod_dev2','prod_dev3','prod_dev4','prod_origin1','prod_origin2','nmprod','nfprod','snmprod',\n",
    "          'snfprod','sucprod','iproc1','iproc2','iproc3','proc_dev1','proc_dev2','proc_dev3','proc_dev4',\n",
    "          'proc_origin1','proc_origin2','abandoned_iact','ongoing_iact','iact1','crd','ord','iact2','iact3','iact3_1',\n",
    "          'iact4','iact5','iact6','iact7','iact8','iact9','iact10','iact11','rddept','rddept_HOD','iexp1','iexp2','iexp3',\n",
    "          'iexp4','iexptotal','coop','sinfo1','sinfo2','sinfo3','sinfo4','sinfo5','sinfo6','sinfo7','sinfo8','sinfo9','sinfo10',\n",
    "          'info_prod1','info_proc1','info_mark1','info_qual1','info_prod2','info_proc2','info_mark2','info_qual2',\n",
    "          'info_prod3','info_proc3','info_mark3','info_qual3','info_prod4','info_proc4','info_mark4','info_qual4',\n",
    "          'info_prod5','info_proc5','info_mark5','info_qual5','info_prod6','info_proc6','info_mark6','info_qual6',\n",
    "          'info_prod7','info_proc7','info_mark7','info_qual7','info_prod8','info_proc8','info_mark8','info_qual8',\n",
    "          'info_prod9','info_proc9','info_mark9','info_qual9','info_prod10','info_proc10','info_mark10','info_qual10',\n",
    "          'license','lic_local_ri','lic_foreign_ri','lic_local_firm','lic_foreign_firm','inno_license',\n",
    "          'subcontractor','outsource','ieffect_prod1','ieffect_prod2','ieffect_prod2a','ieffect_prod2b',\n",
    "          'ieffect_prod3','ieffect_proc1','ieffect_proc2','ieffect_proc3','ieffect_proc4',\n",
    "        'ieffect_other1','ieffect_other1a','ieffect_other1b','ieffect_other2','obstacle_cost1','obstacle_cost2',\n",
    "          'obstacle_cost3','obstacle_cost4','obstacle_cost5','obstacle_knowledge1','obstacle_knowledge2',\n",
    "          'obstacle_knowledge3','obstacle_knowledge4','obstacle_market1','obstacle_market2','obstacle_market3',\n",
    "          'obstacle_market4','obstacle_market5','obstacle_infra1','obstacle_infra2','obstacle_need1','obstacle_need2',\n",
    "        'patapply','npat','fpat','design','trademk','copyrt','licenser','iorg1','iorg2','iorg3','imark1','imark2',\n",
    "          'ieffect_org1','ieffect_org2','ieffect_org3','ieffect_org4','govsup','finsup1','finsup2','finsup3','finsup4',\n",
    "          'finsup5','finsup6','aware_policy','policysup1','policysup2','policysup3','policysup4','policysup5','policysup6','policysup7','policysup8',\n",
    "          'hinder_policy','example_support_policy1','example_support_policy2','example_support_policy3',\n",
    "          'example_support_policy4','example_hinder_policy1','example_hinder_policy2','example_hinder_policy3',\n",
    "          'example_hinder_policy4','example_hinder_policy5','example_hinder_policy6','policy_suggestion1',\n",
    "          'policy_suggestion2','policy_suggestion3','policy_suggestion4','policy_suggestion5','policy_suggestion6',\n",
    "          'policy_suggestion7','policy_suggestion8']]"
   ]
  },
  {
   "cell_type": "code",
   "execution_count": 10,
   "metadata": {},
   "outputs": [
    {
     "data": {
      "text/html": [
       "<div>\n",
       "<style scoped>\n",
       "    .dataframe tbody tr th:only-of-type {\n",
       "        vertical-align: middle;\n",
       "    }\n",
       "\n",
       "    .dataframe tbody tr th {\n",
       "        vertical-align: top;\n",
       "    }\n",
       "\n",
       "    .dataframe thead th {\n",
       "        text-align: right;\n",
       "    }\n",
       "</style>\n",
       "<table border=\"1\" class=\"dataframe\">\n",
       "  <thead>\n",
       "    <tr style=\"text-align: right;\">\n",
       "      <th></th>\n",
       "      <th>id</th>\n",
       "      <th>year</th>\n",
       "      <th>location</th>\n",
       "      <th>estab</th>\n",
       "      <th>formal</th>\n",
       "      <th>service</th>\n",
       "      <th>sector</th>\n",
       "      <th>group</th>\n",
       "      <th>grphq</th>\n",
       "      <th>market1</th>\n",
       "      <th>...</th>\n",
       "      <th>example_hinder_policy5</th>\n",
       "      <th>example_hinder_policy6</th>\n",
       "      <th>policy_suggestion1</th>\n",
       "      <th>policy_suggestion2</th>\n",
       "      <th>policy_suggestion3</th>\n",
       "      <th>policy_suggestion4</th>\n",
       "      <th>policy_suggestion5</th>\n",
       "      <th>policy_suggestion6</th>\n",
       "      <th>policy_suggestion7</th>\n",
       "      <th>policy_suggestion8</th>\n",
       "    </tr>\n",
       "  </thead>\n",
       "  <tbody>\n",
       "    <tr>\n",
       "      <th>0</th>\n",
       "      <td>1.0</td>\n",
       "      <td>2008.0</td>\n",
       "      <td>No</td>\n",
       "      <td>NaN</td>\n",
       "      <td>NaN</td>\n",
       "      <td>manufacturing</td>\n",
       "      <td>chemicals and chemical products</td>\n",
       "      <td>No</td>\n",
       "      <td>NaN</td>\n",
       "      <td>No</td>\n",
       "      <td>...</td>\n",
       "      <td>Energy</td>\n",
       "      <td>Energy</td>\n",
       "      <td></td>\n",
       "      <td></td>\n",
       "      <td></td>\n",
       "      <td></td>\n",
       "      <td></td>\n",
       "      <td></td>\n",
       "      <td></td>\n",
       "      <td></td>\n",
       "    </tr>\n",
       "    <tr>\n",
       "      <th>1</th>\n",
       "      <td>2.0</td>\n",
       "      <td>2008.0</td>\n",
       "      <td>No</td>\n",
       "      <td>1961.0</td>\n",
       "      <td>NaN</td>\n",
       "      <td>manufacturing</td>\n",
       "      <td>food and beverages</td>\n",
       "      <td>No</td>\n",
       "      <td>NaN</td>\n",
       "      <td>Yes</td>\n",
       "      <td>...</td>\n",
       "      <td></td>\n",
       "      <td></td>\n",
       "      <td>Check battery that use bromate</td>\n",
       "      <td>Check battery that use bromate</td>\n",
       "      <td>Check battery that use bromate</td>\n",
       "      <td>Check battery that use bromate</td>\n",
       "      <td>Check battery that use bromate</td>\n",
       "      <td>Check battery that use bromate</td>\n",
       "      <td>Check battery that use bromate</td>\n",
       "      <td>Check battery that use bromate</td>\n",
       "    </tr>\n",
       "    <tr>\n",
       "      <th>2</th>\n",
       "      <td>3.0</td>\n",
       "      <td>2008.0</td>\n",
       "      <td>No</td>\n",
       "      <td>1985.0</td>\n",
       "      <td>Yes</td>\n",
       "      <td>manufacturing</td>\n",
       "      <td>Publishing, reproduction of recorded media</td>\n",
       "      <td>No</td>\n",
       "      <td>NaN</td>\n",
       "      <td>NaN</td>\n",
       "      <td>...</td>\n",
       "      <td></td>\n",
       "      <td></td>\n",
       "      <td>Icrease financial status though covert supply ...</td>\n",
       "      <td>Icrease financial status though covert supply ...</td>\n",
       "      <td>Icrease financial status though covert supply ...</td>\n",
       "      <td>Icrease financial status though covert supply ...</td>\n",
       "      <td>Icrease financial status though covert supply ...</td>\n",
       "      <td>Icrease financial status though covert supply ...</td>\n",
       "      <td>Icrease financial status though covert supply ...</td>\n",
       "      <td>Icrease financial status though covert supply ...</td>\n",
       "    </tr>\n",
       "    <tr>\n",
       "      <th>3</th>\n",
       "      <td>4.0</td>\n",
       "      <td>2008.0</td>\n",
       "      <td>No</td>\n",
       "      <td>1992.0</td>\n",
       "      <td>Yes</td>\n",
       "      <td>manufacturing</td>\n",
       "      <td>food and beverages</td>\n",
       "      <td>No</td>\n",
       "      <td>NaN</td>\n",
       "      <td>NaN</td>\n",
       "      <td>...</td>\n",
       "      <td>Importation</td>\n",
       "      <td>Importation</td>\n",
       "      <td>Provide reseach &amp; develop centers addresing th...</td>\n",
       "      <td>Provide reseach &amp; develop centers addresing th...</td>\n",
       "      <td>Provide reseach &amp; develop centers addresing th...</td>\n",
       "      <td>Provide reseach &amp; develop centers addresing th...</td>\n",
       "      <td>Provide reseach &amp; develop centers addresing th...</td>\n",
       "      <td>Provide reseach &amp; develop centers addresing th...</td>\n",
       "      <td>Provide reseach &amp; develop centers addresing th...</td>\n",
       "      <td>Provide reseach &amp; develop centers addresing th...</td>\n",
       "    </tr>\n",
       "    <tr>\n",
       "      <th>4</th>\n",
       "      <td>5.0</td>\n",
       "      <td>2008.0</td>\n",
       "      <td>No</td>\n",
       "      <td>1987.0</td>\n",
       "      <td>Yes</td>\n",
       "      <td>manufacturing</td>\n",
       "      <td>non metallic mineral products</td>\n",
       "      <td>No</td>\n",
       "      <td>NaN</td>\n",
       "      <td>No</td>\n",
       "      <td>...</td>\n",
       "      <td></td>\n",
       "      <td></td>\n",
       "      <td></td>\n",
       "      <td></td>\n",
       "      <td></td>\n",
       "      <td></td>\n",
       "      <td></td>\n",
       "      <td></td>\n",
       "      <td></td>\n",
       "      <td></td>\n",
       "    </tr>\n",
       "  </tbody>\n",
       "</table>\n",
       "<p>5 rows × 227 columns</p>\n",
       "</div>"
      ],
      "text/plain": [
       "    id    year location   estab formal        service  \\\n",
       "0  1.0  2008.0       No     NaN    NaN  manufacturing   \n",
       "1  2.0  2008.0       No  1961.0    NaN  manufacturing   \n",
       "2  3.0  2008.0       No  1985.0    Yes  manufacturing   \n",
       "3  4.0  2008.0       No  1992.0    Yes  manufacturing   \n",
       "4  5.0  2008.0       No  1987.0    Yes  manufacturing   \n",
       "\n",
       "                                       sector group grphq market1  ...  \\\n",
       "0             chemicals and chemical products    No   NaN      No  ...   \n",
       "1                          food and beverages    No   NaN     Yes  ...   \n",
       "2  Publishing, reproduction of recorded media    No   NaN     NaN  ...   \n",
       "3                          food and beverages    No   NaN     NaN  ...   \n",
       "4               non metallic mineral products    No   NaN      No  ...   \n",
       "\n",
       "  example_hinder_policy5 example_hinder_policy6  \\\n",
       "0                 Energy                 Energy   \n",
       "1                                                 \n",
       "2                                                 \n",
       "3            Importation            Importation   \n",
       "4                                                 \n",
       "\n",
       "                                  policy_suggestion1  \\\n",
       "0                                                      \n",
       "1                     Check battery that use bromate   \n",
       "2  Icrease financial status though covert supply ...   \n",
       "3  Provide reseach & develop centers addresing th...   \n",
       "4                                                      \n",
       "\n",
       "                                  policy_suggestion2  \\\n",
       "0                                                      \n",
       "1                     Check battery that use bromate   \n",
       "2  Icrease financial status though covert supply ...   \n",
       "3  Provide reseach & develop centers addresing th...   \n",
       "4                                                      \n",
       "\n",
       "                                  policy_suggestion3  \\\n",
       "0                                                      \n",
       "1                     Check battery that use bromate   \n",
       "2  Icrease financial status though covert supply ...   \n",
       "3  Provide reseach & develop centers addresing th...   \n",
       "4                                                      \n",
       "\n",
       "                                  policy_suggestion4  \\\n",
       "0                                                      \n",
       "1                     Check battery that use bromate   \n",
       "2  Icrease financial status though covert supply ...   \n",
       "3  Provide reseach & develop centers addresing th...   \n",
       "4                                                      \n",
       "\n",
       "                                  policy_suggestion5  \\\n",
       "0                                                      \n",
       "1                     Check battery that use bromate   \n",
       "2  Icrease financial status though covert supply ...   \n",
       "3  Provide reseach & develop centers addresing th...   \n",
       "4                                                      \n",
       "\n",
       "                                  policy_suggestion6  \\\n",
       "0                                                      \n",
       "1                     Check battery that use bromate   \n",
       "2  Icrease financial status though covert supply ...   \n",
       "3  Provide reseach & develop centers addresing th...   \n",
       "4                                                      \n",
       "\n",
       "                                  policy_suggestion7  \\\n",
       "0                                                      \n",
       "1                     Check battery that use bromate   \n",
       "2  Icrease financial status though covert supply ...   \n",
       "3  Provide reseach & develop centers addresing th...   \n",
       "4                                                      \n",
       "\n",
       "                                  policy_suggestion8  \n",
       "0                                                     \n",
       "1                     Check battery that use bromate  \n",
       "2  Icrease financial status though covert supply ...  \n",
       "3  Provide reseach & develop centers addresing th...  \n",
       "4                                                     \n",
       "\n",
       "[5 rows x 227 columns]"
      ]
     },
     "execution_count": 10,
     "metadata": {},
     "output_type": "execute_result"
    }
   ],
   "source": [
    "df2.head()"
   ]
  },
  {
   "cell_type": "code",
   "execution_count": 14,
   "metadata": {},
   "outputs": [
    {
     "data": {
      "text/plain": [
       "(1359, 227)"
      ]
     },
     "execution_count": 14,
     "metadata": {},
     "output_type": "execute_result"
    }
   ],
   "source": [
    "df2.shape"
   ]
  },
  {
   "cell_type": "code",
   "execution_count": 12,
   "metadata": {},
   "outputs": [
    {
     "data": {
      "text/plain": [
       "id                      0\n",
       "year                    0\n",
       "location                0\n",
       "estab                 336\n",
       "formal                943\n",
       "                     ... \n",
       "policy_suggestion4      0\n",
       "policy_suggestion5      0\n",
       "policy_suggestion6      0\n",
       "policy_suggestion7      0\n",
       "policy_suggestion8      0\n",
       "Length: 227, dtype: int64"
      ]
     },
     "execution_count": 12,
     "metadata": {},
     "output_type": "execute_result"
    }
   ],
   "source": [
    "df2.isnull().sum()"
   ]
  },
  {
   "cell_type": "code",
   "execution_count": 16,
   "metadata": {},
   "outputs": [],
   "source": [
    "total = df2.isnull().sum().sort_values(ascending=False)\n",
    "percent = (df2.isnull().sum()/df2.isnull().count()).sort_values(ascending=False)\n",
    "missing_data = pd.concat([total, percent], axis=1, keys=['Total', 'Percent'])\n",
    "df3 = missing_data.head(20)"
   ]
  },
  {
   "cell_type": "code",
   "execution_count": 18,
   "metadata": {},
   "outputs": [
    {
     "data": {
      "text/html": [
       "<div>\n",
       "<style scoped>\n",
       "    .dataframe tbody tr th:only-of-type {\n",
       "        vertical-align: middle;\n",
       "    }\n",
       "\n",
       "    .dataframe tbody tr th {\n",
       "        vertical-align: top;\n",
       "    }\n",
       "\n",
       "    .dataframe thead th {\n",
       "        text-align: right;\n",
       "    }\n",
       "</style>\n",
       "<table border=\"1\" class=\"dataframe\">\n",
       "  <thead>\n",
       "    <tr style=\"text-align: right;\">\n",
       "      <th></th>\n",
       "      <th>rddept_HOD</th>\n",
       "      <th>iexp3</th>\n",
       "      <th>policysup8</th>\n",
       "      <th>lic_local_ri</th>\n",
       "      <th>lic_foreign_ri</th>\n",
       "      <th>lic_local_firm</th>\n",
       "      <th>lic_foreign_firm</th>\n",
       "      <th>inno_license</th>\n",
       "      <th>iexp2</th>\n",
       "      <th>outsource</th>\n",
       "      <th>iexp4</th>\n",
       "      <th>rddept</th>\n",
       "      <th>iexp1</th>\n",
       "      <th>grphq</th>\n",
       "      <th>prod_dev4</th>\n",
       "      <th>proc_dev4</th>\n",
       "      <th>ieffect_other1b</th>\n",
       "      <th>ieffect_prod2b</th>\n",
       "      <th>snmprod</th>\n",
       "      <th>ieffect_prod2a</th>\n",
       "    </tr>\n",
       "  </thead>\n",
       "  <tbody>\n",
       "    <tr>\n",
       "      <th>Total</th>\n",
       "      <td>1263.00000</td>\n",
       "      <td>1249.000000</td>\n",
       "      <td>1236.000000</td>\n",
       "      <td>1228.000000</td>\n",
       "      <td>1224.000000</td>\n",
       "      <td>1224.000000</td>\n",
       "      <td>1219.000000</td>\n",
       "      <td>1209.000000</td>\n",
       "      <td>1207.000000</td>\n",
       "      <td>1180.000000</td>\n",
       "      <td>1155.00000</td>\n",
       "      <td>1126.00000</td>\n",
       "      <td>1116.000000</td>\n",
       "      <td>1076.000000</td>\n",
       "      <td>1053.000000</td>\n",
       "      <td>1015.000000</td>\n",
       "      <td>996.000000</td>\n",
       "      <td>994.00000</td>\n",
       "      <td>993.000000</td>\n",
       "      <td>989.000000</td>\n",
       "    </tr>\n",
       "    <tr>\n",
       "      <th>Percent</th>\n",
       "      <td>0.92936</td>\n",
       "      <td>0.919058</td>\n",
       "      <td>0.909492</td>\n",
       "      <td>0.903606</td>\n",
       "      <td>0.900662</td>\n",
       "      <td>0.900662</td>\n",
       "      <td>0.896983</td>\n",
       "      <td>0.889625</td>\n",
       "      <td>0.888153</td>\n",
       "      <td>0.868286</td>\n",
       "      <td>0.84989</td>\n",
       "      <td>0.82855</td>\n",
       "      <td>0.821192</td>\n",
       "      <td>0.791759</td>\n",
       "      <td>0.774834</td>\n",
       "      <td>0.746873</td>\n",
       "      <td>0.732892</td>\n",
       "      <td>0.73142</td>\n",
       "      <td>0.730684</td>\n",
       "      <td>0.727741</td>\n",
       "    </tr>\n",
       "  </tbody>\n",
       "</table>\n",
       "</div>"
      ],
      "text/plain": [
       "         rddept_HOD        iexp3   policysup8  lic_local_ri  lic_foreign_ri  \\\n",
       "Total    1263.00000  1249.000000  1236.000000   1228.000000     1224.000000   \n",
       "Percent     0.92936     0.919058     0.909492      0.903606        0.900662   \n",
       "\n",
       "         lic_local_firm  lic_foreign_firm  inno_license        iexp2  \\\n",
       "Total       1224.000000       1219.000000   1209.000000  1207.000000   \n",
       "Percent        0.900662          0.896983      0.889625     0.888153   \n",
       "\n",
       "           outsource       iexp4      rddept        iexp1        grphq  \\\n",
       "Total    1180.000000  1155.00000  1126.00000  1116.000000  1076.000000   \n",
       "Percent     0.868286     0.84989     0.82855     0.821192     0.791759   \n",
       "\n",
       "           prod_dev4    proc_dev4  ieffect_other1b  ieffect_prod2b  \\\n",
       "Total    1053.000000  1015.000000       996.000000       994.00000   \n",
       "Percent     0.774834     0.746873         0.732892         0.73142   \n",
       "\n",
       "            snmprod  ieffect_prod2a  \n",
       "Total    993.000000      989.000000  \n",
       "Percent    0.730684        0.727741  "
      ]
     },
     "execution_count": 18,
     "metadata": {},
     "output_type": "execute_result"
    }
   ],
   "source": [
    "df3.transpose()"
   ]
  },
  {
   "cell_type": "code",
   "execution_count": null,
   "metadata": {},
   "outputs": [],
   "source": [
    "['rddept_HOD'\t'iexp3'\t'policysup8'\t'lic_local_ri'\t'lic_foreign_ri'\t'lic_local_firm'\t'lic_foreign_firm'\t'inno_license'\t'iexp2'\t'outsource'\t'iexp4'\t'rddept'\t'iexp1'\t'grphq'\t'prod_dev4'\t'proc_dev4'\t'ieffect_other1b'\t'ieffect_prod2b'\t'snmprod'\t'ieffect_prod2a']"
   ]
  },
  {
   "cell_type": "code",
   "execution_count": 28,
   "metadata": {},
   "outputs": [
    {
     "data": {
      "text/html": [
       "<div>\n",
       "<style scoped>\n",
       "    .dataframe tbody tr th:only-of-type {\n",
       "        vertical-align: middle;\n",
       "    }\n",
       "\n",
       "    .dataframe tbody tr th {\n",
       "        vertical-align: top;\n",
       "    }\n",
       "\n",
       "    .dataframe thead th {\n",
       "        text-align: right;\n",
       "    }\n",
       "</style>\n",
       "<table border=\"1\" class=\"dataframe\">\n",
       "  <thead>\n",
       "    <tr style=\"text-align: right;\">\n",
       "      <th></th>\n",
       "      <th>Total</th>\n",
       "      <th>Percent</th>\n",
       "    </tr>\n",
       "  </thead>\n",
       "  <tbody>\n",
       "    <tr>\n",
       "      <th>rddept_HOD</th>\n",
       "      <td>1263</td>\n",
       "      <td>0.929360</td>\n",
       "    </tr>\n",
       "    <tr>\n",
       "      <th>iexp3</th>\n",
       "      <td>1249</td>\n",
       "      <td>0.919058</td>\n",
       "    </tr>\n",
       "    <tr>\n",
       "      <th>policysup8</th>\n",
       "      <td>1236</td>\n",
       "      <td>0.909492</td>\n",
       "    </tr>\n",
       "    <tr>\n",
       "      <th>lic_local_ri</th>\n",
       "      <td>1228</td>\n",
       "      <td>0.903606</td>\n",
       "    </tr>\n",
       "    <tr>\n",
       "      <th>lic_foreign_ri</th>\n",
       "      <td>1224</td>\n",
       "      <td>0.900662</td>\n",
       "    </tr>\n",
       "    <tr>\n",
       "      <th>...</th>\n",
       "      <td>...</td>\n",
       "      <td>...</td>\n",
       "    </tr>\n",
       "    <tr>\n",
       "      <th>fthnd</th>\n",
       "      <td>711</td>\n",
       "      <td>0.523179</td>\n",
       "    </tr>\n",
       "    <tr>\n",
       "      <th>nmprod</th>\n",
       "      <td>707</td>\n",
       "      <td>0.520235</td>\n",
       "    </tr>\n",
       "    <tr>\n",
       "      <th>obstacle_market4</th>\n",
       "      <td>705</td>\n",
       "      <td>0.518764</td>\n",
       "    </tr>\n",
       "    <tr>\n",
       "      <th>ftbs</th>\n",
       "      <td>698</td>\n",
       "      <td>0.513613</td>\n",
       "    </tr>\n",
       "    <tr>\n",
       "      <th>turnover05</th>\n",
       "      <td>694</td>\n",
       "      <td>0.510670</td>\n",
       "    </tr>\n",
       "  </tbody>\n",
       "</table>\n",
       "<p>115 rows × 2 columns</p>\n",
       "</div>"
      ],
      "text/plain": [
       "                  Total   Percent\n",
       "rddept_HOD         1263  0.929360\n",
       "iexp3              1249  0.919058\n",
       "policysup8         1236  0.909492\n",
       "lic_local_ri       1228  0.903606\n",
       "lic_foreign_ri     1224  0.900662\n",
       "...                 ...       ...\n",
       "fthnd               711  0.523179\n",
       "nmprod              707  0.520235\n",
       "obstacle_market4    705  0.518764\n",
       "ftbs                698  0.513613\n",
       "turnover05          694  0.510670\n",
       "\n",
       "[115 rows x 2 columns]"
      ]
     },
     "execution_count": 28,
     "metadata": {},
     "output_type": "execute_result"
    }
   ],
   "source": [
    "total = df2.isnull().sum().sort_values(ascending=False)\n",
    "percent = (df2.isnull().sum()/df2.isnull().count()).sort_values(ascending=False)\n",
    "missing_data = pd.concat([total, percent], axis=1, keys=['Total', 'Percent'])\n",
    "missing_data.head(115)"
   ]
  },
  {
   "cell_type": "code",
   "execution_count": 39,
   "metadata": {},
   "outputs": [],
   "source": [
    "df4 = missing_data.iloc[0:50]\n",
    "df5 = missing_data.iloc[50:100]\n",
    "df6 = missing_data.iloc[100:115]"
   ]
  },
  {
   "cell_type": "code",
   "execution_count": 45,
   "metadata": {},
   "outputs": [],
   "source": [
    "with pd.ExcelWriter('nitda.xlsx',engine = 'xlsxwriter') as writer:\n",
    "    df4.to_excel(writer, sheet_name = 'df4',engine = 'xlsxwriter',index = True)\n",
    "    df5.to_excel(writer, sheet_name = 'df5',engine = 'xlsxwriter',index = True)\n",
    "    df6.to_excel(writer, sheet_name = 'df6',engine = 'xlsxwriter',index = True)"
   ]
  },
  {
   "cell_type": "code",
   "execution_count": 49,
   "metadata": {},
   "outputs": [
    {
     "name": "stderr",
     "output_type": "stream",
     "text": [
      "C:\\Users\\HP\\anaconda3\\lib\\site-packages\\pandas\\core\\frame.py:4163: SettingWithCopyWarning: \n",
      "A value is trying to be set on a copy of a slice from a DataFrame\n",
      "\n",
      "See the caveats in the documentation: https://pandas.pydata.org/pandas-docs/stable/user_guide/indexing.html#returning-a-view-versus-a-copy\n",
      "  return super().drop(\n"
     ]
    }
   ],
   "source": [
    "df2.drop(['rddept_HOD','iexp3','policysup8','lic_local_ri','lic_foreign_ri','lic_local_firm','lic_foreign_firm','inno_license',\n",
    " 'iexp2','outsource','iexp4','rddept','iexp1','grphq','prod_dev4','proc_dev4','ieffect_other1b','ieffect_prod2b',\n",
    " 'snmprod','ieffect_prod2a','ieffect_other1a','iexptotal','iact3_1','policysup1','prod_origin2','policysup4',\n",
    " 'policysup3','policysup7','formal','policysup6','policysup2','policysup5','ord','crd','snfprod','proc_origin2',\n",
    " 'sucprod',\n",
    " 'ieffect_other1','market8','info_mark8','info_mark7','info_mark5','info_mark10','info_mark9','info_mark1','info_mark2',\n",
    " 'info_mark3','info_mark4','info_mark6','ieffect_proc3',\n",
    "'ieffect_prod2','ieffect_proc4','ptphd','subcontractor','ptms','ftphd',\n",
    " 'info_proc6','iact4','iact3','info_proc7','ptother','iact6','iact5','info_prod7','pthnd','info_prod6','info_qual7',\n",
    " 'info_proc4','info_proc5','info_proc8','ptbs','info_proc3','info_prod9','info_prod5','info_qual6','info_qual4','license',\n",
    " 'ptdip','info_qual5','info_qual8','info_qual9','info_proc2','info_proc9','info_proc10','obstacle_market5','info_qual2',\n",
    " 'info_prod8','info_prod3','info_prod10','info_qual10','info_prod4','info_qual3','market7','info_prod2','obstacle_cost5',\n",
    " 'market6','obstacle_cost4','info_prod1','ptstaff05','info_proc1',\n",
    "'market5','market4','info_qual1','ptstaff07','ptstaff06','ftother','ftms','ftdip','market3','obstacle_market3',\n",
    " 'fthnd','nmprod','obstacle_market4','ftbs','turnover05'],axis = 1, inplace =True)"
   ]
  },
  {
   "cell_type": "code",
   "execution_count": 50,
   "metadata": {},
   "outputs": [
    {
     "data": {
      "text/html": [
       "<div>\n",
       "<style scoped>\n",
       "    .dataframe tbody tr th:only-of-type {\n",
       "        vertical-align: middle;\n",
       "    }\n",
       "\n",
       "    .dataframe tbody tr th {\n",
       "        vertical-align: top;\n",
       "    }\n",
       "\n",
       "    .dataframe thead th {\n",
       "        text-align: right;\n",
       "    }\n",
       "</style>\n",
       "<table border=\"1\" class=\"dataframe\">\n",
       "  <thead>\n",
       "    <tr style=\"text-align: right;\">\n",
       "      <th></th>\n",
       "      <th>id</th>\n",
       "      <th>year</th>\n",
       "      <th>location</th>\n",
       "      <th>estab</th>\n",
       "      <th>service</th>\n",
       "      <th>sector</th>\n",
       "      <th>group</th>\n",
       "      <th>market1</th>\n",
       "      <th>market2</th>\n",
       "      <th>ftstaff05</th>\n",
       "      <th>...</th>\n",
       "      <th>example_hinder_policy5</th>\n",
       "      <th>example_hinder_policy6</th>\n",
       "      <th>policy_suggestion1</th>\n",
       "      <th>policy_suggestion2</th>\n",
       "      <th>policy_suggestion3</th>\n",
       "      <th>policy_suggestion4</th>\n",
       "      <th>policy_suggestion5</th>\n",
       "      <th>policy_suggestion6</th>\n",
       "      <th>policy_suggestion7</th>\n",
       "      <th>policy_suggestion8</th>\n",
       "    </tr>\n",
       "  </thead>\n",
       "  <tbody>\n",
       "    <tr>\n",
       "      <th>0</th>\n",
       "      <td>1.0</td>\n",
       "      <td>2008.0</td>\n",
       "      <td>No</td>\n",
       "      <td>NaN</td>\n",
       "      <td>manufacturing</td>\n",
       "      <td>chemicals and chemical products</td>\n",
       "      <td>No</td>\n",
       "      <td>No</td>\n",
       "      <td>Yes</td>\n",
       "      <td>110.0</td>\n",
       "      <td>...</td>\n",
       "      <td>Energy</td>\n",
       "      <td>Energy</td>\n",
       "      <td></td>\n",
       "      <td></td>\n",
       "      <td></td>\n",
       "      <td></td>\n",
       "      <td></td>\n",
       "      <td></td>\n",
       "      <td></td>\n",
       "      <td></td>\n",
       "    </tr>\n",
       "    <tr>\n",
       "      <th>1</th>\n",
       "      <td>2.0</td>\n",
       "      <td>2008.0</td>\n",
       "      <td>No</td>\n",
       "      <td>1961.0</td>\n",
       "      <td>manufacturing</td>\n",
       "      <td>food and beverages</td>\n",
       "      <td>No</td>\n",
       "      <td>Yes</td>\n",
       "      <td>NaN</td>\n",
       "      <td>38.0</td>\n",
       "      <td>...</td>\n",
       "      <td></td>\n",
       "      <td></td>\n",
       "      <td>Check battery that use bromate</td>\n",
       "      <td>Check battery that use bromate</td>\n",
       "      <td>Check battery that use bromate</td>\n",
       "      <td>Check battery that use bromate</td>\n",
       "      <td>Check battery that use bromate</td>\n",
       "      <td>Check battery that use bromate</td>\n",
       "      <td>Check battery that use bromate</td>\n",
       "      <td>Check battery that use bromate</td>\n",
       "    </tr>\n",
       "    <tr>\n",
       "      <th>2</th>\n",
       "      <td>3.0</td>\n",
       "      <td>2008.0</td>\n",
       "      <td>No</td>\n",
       "      <td>1985.0</td>\n",
       "      <td>manufacturing</td>\n",
       "      <td>Publishing, reproduction of recorded media</td>\n",
       "      <td>No</td>\n",
       "      <td>NaN</td>\n",
       "      <td>Yes</td>\n",
       "      <td>59.0</td>\n",
       "      <td>...</td>\n",
       "      <td></td>\n",
       "      <td></td>\n",
       "      <td>Icrease financial status though covert supply ...</td>\n",
       "      <td>Icrease financial status though covert supply ...</td>\n",
       "      <td>Icrease financial status though covert supply ...</td>\n",
       "      <td>Icrease financial status though covert supply ...</td>\n",
       "      <td>Icrease financial status though covert supply ...</td>\n",
       "      <td>Icrease financial status though covert supply ...</td>\n",
       "      <td>Icrease financial status though covert supply ...</td>\n",
       "      <td>Icrease financial status though covert supply ...</td>\n",
       "    </tr>\n",
       "    <tr>\n",
       "      <th>3</th>\n",
       "      <td>4.0</td>\n",
       "      <td>2008.0</td>\n",
       "      <td>No</td>\n",
       "      <td>1992.0</td>\n",
       "      <td>manufacturing</td>\n",
       "      <td>food and beverages</td>\n",
       "      <td>No</td>\n",
       "      <td>NaN</td>\n",
       "      <td>Yes</td>\n",
       "      <td>153.0</td>\n",
       "      <td>...</td>\n",
       "      <td>Importation</td>\n",
       "      <td>Importation</td>\n",
       "      <td>Provide reseach &amp; develop centers addresing th...</td>\n",
       "      <td>Provide reseach &amp; develop centers addresing th...</td>\n",
       "      <td>Provide reseach &amp; develop centers addresing th...</td>\n",
       "      <td>Provide reseach &amp; develop centers addresing th...</td>\n",
       "      <td>Provide reseach &amp; develop centers addresing th...</td>\n",
       "      <td>Provide reseach &amp; develop centers addresing th...</td>\n",
       "      <td>Provide reseach &amp; develop centers addresing th...</td>\n",
       "      <td>Provide reseach &amp; develop centers addresing th...</td>\n",
       "    </tr>\n",
       "    <tr>\n",
       "      <th>4</th>\n",
       "      <td>5.0</td>\n",
       "      <td>2008.0</td>\n",
       "      <td>No</td>\n",
       "      <td>1987.0</td>\n",
       "      <td>manufacturing</td>\n",
       "      <td>non metallic mineral products</td>\n",
       "      <td>No</td>\n",
       "      <td>No</td>\n",
       "      <td>Yes</td>\n",
       "      <td>0.0</td>\n",
       "      <td>...</td>\n",
       "      <td></td>\n",
       "      <td></td>\n",
       "      <td></td>\n",
       "      <td></td>\n",
       "      <td></td>\n",
       "      <td></td>\n",
       "      <td></td>\n",
       "      <td></td>\n",
       "      <td></td>\n",
       "      <td></td>\n",
       "    </tr>\n",
       "    <tr>\n",
       "      <th>...</th>\n",
       "      <td>...</td>\n",
       "      <td>...</td>\n",
       "      <td>...</td>\n",
       "      <td>...</td>\n",
       "      <td>...</td>\n",
       "      <td>...</td>\n",
       "      <td>...</td>\n",
       "      <td>...</td>\n",
       "      <td>...</td>\n",
       "      <td>...</td>\n",
       "      <td>...</td>\n",
       "      <td>...</td>\n",
       "      <td>...</td>\n",
       "      <td>...</td>\n",
       "      <td>...</td>\n",
       "      <td>...</td>\n",
       "      <td>...</td>\n",
       "      <td>...</td>\n",
       "      <td>...</td>\n",
       "      <td>...</td>\n",
       "      <td>...</td>\n",
       "    </tr>\n",
       "    <tr>\n",
       "      <th>1354</th>\n",
       "      <td>1355.0</td>\n",
       "      <td>2011.0</td>\n",
       "      <td>No</td>\n",
       "      <td>1992.0</td>\n",
       "      <td>service</td>\n",
       "      <td>Trade, repairs and rentals</td>\n",
       "      <td>No</td>\n",
       "      <td>NaN</td>\n",
       "      <td>Yes</td>\n",
       "      <td>NaN</td>\n",
       "      <td>...</td>\n",
       "      <td></td>\n",
       "      <td></td>\n",
       "      <td>Infrastructure</td>\n",
       "      <td>Infrastructure</td>\n",
       "      <td>Infrastructure</td>\n",
       "      <td>Infrastructure</td>\n",
       "      <td></td>\n",
       "      <td></td>\n",
       "      <td></td>\n",
       "      <td></td>\n",
       "    </tr>\n",
       "    <tr>\n",
       "      <th>1355</th>\n",
       "      <td>1356.0</td>\n",
       "      <td>2011.0</td>\n",
       "      <td>No</td>\n",
       "      <td>2002.0</td>\n",
       "      <td>service</td>\n",
       "      <td>Health, cultural and social work</td>\n",
       "      <td>No</td>\n",
       "      <td>Yes</td>\n",
       "      <td>NaN</td>\n",
       "      <td>NaN</td>\n",
       "      <td>...</td>\n",
       "      <td></td>\n",
       "      <td></td>\n",
       "      <td>Multiple/Reduced tax</td>\n",
       "      <td>Multiple/Reduced tax</td>\n",
       "      <td>Multiple/Reduced tax</td>\n",
       "      <td>Multiple/Reduced tax</td>\n",
       "      <td></td>\n",
       "      <td></td>\n",
       "      <td></td>\n",
       "      <td></td>\n",
       "    </tr>\n",
       "    <tr>\n",
       "      <th>1356</th>\n",
       "      <td>1357.0</td>\n",
       "      <td>2011.0</td>\n",
       "      <td>No</td>\n",
       "      <td>NaN</td>\n",
       "      <td>service</td>\n",
       "      <td>Trade, repairs and rentals</td>\n",
       "      <td>No</td>\n",
       "      <td>Yes</td>\n",
       "      <td>NaN</td>\n",
       "      <td>NaN</td>\n",
       "      <td>...</td>\n",
       "      <td></td>\n",
       "      <td></td>\n",
       "      <td></td>\n",
       "      <td></td>\n",
       "      <td></td>\n",
       "      <td></td>\n",
       "      <td></td>\n",
       "      <td></td>\n",
       "      <td></td>\n",
       "      <td></td>\n",
       "    </tr>\n",
       "    <tr>\n",
       "      <th>1357</th>\n",
       "      <td>1358.0</td>\n",
       "      <td>2011.0</td>\n",
       "      <td>No</td>\n",
       "      <td>1998.0</td>\n",
       "      <td>service</td>\n",
       "      <td>Health, cultural and social work</td>\n",
       "      <td>No</td>\n",
       "      <td>NaN</td>\n",
       "      <td>Yes</td>\n",
       "      <td>NaN</td>\n",
       "      <td>...</td>\n",
       "      <td></td>\n",
       "      <td></td>\n",
       "      <td>Infrastructure</td>\n",
       "      <td>Infrastructure</td>\n",
       "      <td>Infrastructure</td>\n",
       "      <td>Infrastructure</td>\n",
       "      <td></td>\n",
       "      <td></td>\n",
       "      <td></td>\n",
       "      <td></td>\n",
       "    </tr>\n",
       "    <tr>\n",
       "      <th>1358</th>\n",
       "      <td>1359.0</td>\n",
       "      <td>2011.0</td>\n",
       "      <td>No</td>\n",
       "      <td>2003.0</td>\n",
       "      <td>service</td>\n",
       "      <td>Computer and related activities</td>\n",
       "      <td>No</td>\n",
       "      <td>Yes</td>\n",
       "      <td>Yes</td>\n",
       "      <td>NaN</td>\n",
       "      <td>...</td>\n",
       "      <td></td>\n",
       "      <td></td>\n",
       "      <td></td>\n",
       "      <td></td>\n",
       "      <td></td>\n",
       "      <td></td>\n",
       "      <td></td>\n",
       "      <td></td>\n",
       "      <td></td>\n",
       "      <td></td>\n",
       "    </tr>\n",
       "  </tbody>\n",
       "</table>\n",
       "<p>1359 rows × 112 columns</p>\n",
       "</div>"
      ],
      "text/plain": [
       "          id    year location   estab        service  \\\n",
       "0        1.0  2008.0       No     NaN  manufacturing   \n",
       "1        2.0  2008.0       No  1961.0  manufacturing   \n",
       "2        3.0  2008.0       No  1985.0  manufacturing   \n",
       "3        4.0  2008.0       No  1992.0  manufacturing   \n",
       "4        5.0  2008.0       No  1987.0  manufacturing   \n",
       "...      ...     ...      ...     ...            ...   \n",
       "1354  1355.0  2011.0       No  1992.0        service   \n",
       "1355  1356.0  2011.0       No  2002.0        service   \n",
       "1356  1357.0  2011.0       No     NaN        service   \n",
       "1357  1358.0  2011.0       No  1998.0        service   \n",
       "1358  1359.0  2011.0       No  2003.0        service   \n",
       "\n",
       "                                          sector group market1 market2  \\\n",
       "0                chemicals and chemical products    No      No     Yes   \n",
       "1                             food and beverages    No     Yes     NaN   \n",
       "2     Publishing, reproduction of recorded media    No     NaN     Yes   \n",
       "3                             food and beverages    No     NaN     Yes   \n",
       "4                  non metallic mineral products    No      No     Yes   \n",
       "...                                          ...   ...     ...     ...   \n",
       "1354                  Trade, repairs and rentals    No     NaN     Yes   \n",
       "1355            Health, cultural and social work    No     Yes     NaN   \n",
       "1356                  Trade, repairs and rentals    No     Yes     NaN   \n",
       "1357            Health, cultural and social work    No     NaN     Yes   \n",
       "1358             Computer and related activities    No     Yes     Yes   \n",
       "\n",
       "      ftstaff05  ...  example_hinder_policy5  example_hinder_policy6  \\\n",
       "0         110.0  ...                  Energy                  Energy   \n",
       "1          38.0  ...                                                   \n",
       "2          59.0  ...                                                   \n",
       "3         153.0  ...             Importation             Importation   \n",
       "4           0.0  ...                                                   \n",
       "...         ...  ...                     ...                     ...   \n",
       "1354        NaN  ...                                                   \n",
       "1355        NaN  ...                                                   \n",
       "1356        NaN  ...                                                   \n",
       "1357        NaN  ...                                                   \n",
       "1358        NaN  ...                                                   \n",
       "\n",
       "                                     policy_suggestion1  \\\n",
       "0                                                         \n",
       "1                        Check battery that use bromate   \n",
       "2     Icrease financial status though covert supply ...   \n",
       "3     Provide reseach & develop centers addresing th...   \n",
       "4                                                         \n",
       "...                                                 ...   \n",
       "1354                                     Infrastructure   \n",
       "1355                               Multiple/Reduced tax   \n",
       "1356                                                      \n",
       "1357                                     Infrastructure   \n",
       "1358                                                      \n",
       "\n",
       "                                     policy_suggestion2  \\\n",
       "0                                                         \n",
       "1                        Check battery that use bromate   \n",
       "2     Icrease financial status though covert supply ...   \n",
       "3     Provide reseach & develop centers addresing th...   \n",
       "4                                                         \n",
       "...                                                 ...   \n",
       "1354                                     Infrastructure   \n",
       "1355                               Multiple/Reduced tax   \n",
       "1356                                                      \n",
       "1357                                     Infrastructure   \n",
       "1358                                                      \n",
       "\n",
       "                                     policy_suggestion3  \\\n",
       "0                                                         \n",
       "1                        Check battery that use bromate   \n",
       "2     Icrease financial status though covert supply ...   \n",
       "3     Provide reseach & develop centers addresing th...   \n",
       "4                                                         \n",
       "...                                                 ...   \n",
       "1354                                     Infrastructure   \n",
       "1355                               Multiple/Reduced tax   \n",
       "1356                                                      \n",
       "1357                                     Infrastructure   \n",
       "1358                                                      \n",
       "\n",
       "                                     policy_suggestion4  \\\n",
       "0                                                         \n",
       "1                        Check battery that use bromate   \n",
       "2     Icrease financial status though covert supply ...   \n",
       "3     Provide reseach & develop centers addresing th...   \n",
       "4                                                         \n",
       "...                                                 ...   \n",
       "1354                                     Infrastructure   \n",
       "1355                               Multiple/Reduced tax   \n",
       "1356                                                      \n",
       "1357                                     Infrastructure   \n",
       "1358                                                      \n",
       "\n",
       "                                     policy_suggestion5  \\\n",
       "0                                                         \n",
       "1                        Check battery that use bromate   \n",
       "2     Icrease financial status though covert supply ...   \n",
       "3     Provide reseach & develop centers addresing th...   \n",
       "4                                                         \n",
       "...                                                 ...   \n",
       "1354                                                      \n",
       "1355                                                      \n",
       "1356                                                      \n",
       "1357                                                      \n",
       "1358                                                      \n",
       "\n",
       "                                     policy_suggestion6  \\\n",
       "0                                                         \n",
       "1                        Check battery that use bromate   \n",
       "2     Icrease financial status though covert supply ...   \n",
       "3     Provide reseach & develop centers addresing th...   \n",
       "4                                                         \n",
       "...                                                 ...   \n",
       "1354                                                      \n",
       "1355                                                      \n",
       "1356                                                      \n",
       "1357                                                      \n",
       "1358                                                      \n",
       "\n",
       "                                     policy_suggestion7  \\\n",
       "0                                                         \n",
       "1                        Check battery that use bromate   \n",
       "2     Icrease financial status though covert supply ...   \n",
       "3     Provide reseach & develop centers addresing th...   \n",
       "4                                                         \n",
       "...                                                 ...   \n",
       "1354                                                      \n",
       "1355                                                      \n",
       "1356                                                      \n",
       "1357                                                      \n",
       "1358                                                      \n",
       "\n",
       "                                     policy_suggestion8  \n",
       "0                                                        \n",
       "1                        Check battery that use bromate  \n",
       "2     Icrease financial status though covert supply ...  \n",
       "3     Provide reseach & develop centers addresing th...  \n",
       "4                                                        \n",
       "...                                                 ...  \n",
       "1354                                                     \n",
       "1355                                                     \n",
       "1356                                                     \n",
       "1357                                                     \n",
       "1358                                                     \n",
       "\n",
       "[1359 rows x 112 columns]"
      ]
     },
     "execution_count": 50,
     "metadata": {},
     "output_type": "execute_result"
    }
   ],
   "source": [
    "df2"
   ]
  },
  {
   "cell_type": "code",
   "execution_count": 51,
   "metadata": {},
   "outputs": [
    {
     "data": {
      "text/html": [
       "<div>\n",
       "<style scoped>\n",
       "    .dataframe tbody tr th:only-of-type {\n",
       "        vertical-align: middle;\n",
       "    }\n",
       "\n",
       "    .dataframe tbody tr th {\n",
       "        vertical-align: top;\n",
       "    }\n",
       "\n",
       "    .dataframe thead th {\n",
       "        text-align: right;\n",
       "    }\n",
       "</style>\n",
       "<table border=\"1\" class=\"dataframe\">\n",
       "  <thead>\n",
       "    <tr style=\"text-align: right;\">\n",
       "      <th></th>\n",
       "      <th>Total</th>\n",
       "      <th>Percent</th>\n",
       "    </tr>\n",
       "  </thead>\n",
       "  <tbody>\n",
       "    <tr>\n",
       "      <th>turnover06</th>\n",
       "      <td>684</td>\n",
       "      <td>0.503311</td>\n",
       "    </tr>\n",
       "    <tr>\n",
       "      <th>turnover07</th>\n",
       "      <td>674</td>\n",
       "      <td>0.495953</td>\n",
       "    </tr>\n",
       "    <tr>\n",
       "      <th>ftstaff05</th>\n",
       "      <td>666</td>\n",
       "      <td>0.490066</td>\n",
       "    </tr>\n",
       "    <tr>\n",
       "      <th>prod_origin1</th>\n",
       "      <td>666</td>\n",
       "      <td>0.490066</td>\n",
       "    </tr>\n",
       "    <tr>\n",
       "      <th>totalstaff05</th>\n",
       "      <td>664</td>\n",
       "      <td>0.488595</td>\n",
       "    </tr>\n",
       "    <tr>\n",
       "      <th>ftstaff06</th>\n",
       "      <td>659</td>\n",
       "      <td>0.484915</td>\n",
       "    </tr>\n",
       "    <tr>\n",
       "      <th>totalstaff06</th>\n",
       "      <td>658</td>\n",
       "      <td>0.484180</td>\n",
       "    </tr>\n",
       "    <tr>\n",
       "      <th>totalstaff07</th>\n",
       "      <td>649</td>\n",
       "      <td>0.477557</td>\n",
       "    </tr>\n",
       "    <tr>\n",
       "      <th>ftstaff07</th>\n",
       "      <td>649</td>\n",
       "      <td>0.477557</td>\n",
       "    </tr>\n",
       "    <tr>\n",
       "      <th>nfprod</th>\n",
       "      <td>647</td>\n",
       "      <td>0.476085</td>\n",
       "    </tr>\n",
       "    <tr>\n",
       "      <th>prod_dev1</th>\n",
       "      <td>643</td>\n",
       "      <td>0.473142</td>\n",
       "    </tr>\n",
       "    <tr>\n",
       "      <th>prod_dev3</th>\n",
       "      <td>643</td>\n",
       "      <td>0.473142</td>\n",
       "    </tr>\n",
       "    <tr>\n",
       "      <th>prod_dev2</th>\n",
       "      <td>643</td>\n",
       "      <td>0.473142</td>\n",
       "    </tr>\n",
       "    <tr>\n",
       "      <th>patapply</th>\n",
       "      <td>632</td>\n",
       "      <td>0.465048</td>\n",
       "    </tr>\n",
       "    <tr>\n",
       "      <th>finsup6</th>\n",
       "      <td>631</td>\n",
       "      <td>0.464312</td>\n",
       "    </tr>\n",
       "    <tr>\n",
       "      <th>aware_policy</th>\n",
       "      <td>631</td>\n",
       "      <td>0.464312</td>\n",
       "    </tr>\n",
       "    <tr>\n",
       "      <th>finsup2</th>\n",
       "      <td>631</td>\n",
       "      <td>0.464312</td>\n",
       "    </tr>\n",
       "    <tr>\n",
       "      <th>finsup5</th>\n",
       "      <td>631</td>\n",
       "      <td>0.464312</td>\n",
       "    </tr>\n",
       "    <tr>\n",
       "      <th>ieffect_org1</th>\n",
       "      <td>604</td>\n",
       "      <td>0.444444</td>\n",
       "    </tr>\n",
       "    <tr>\n",
       "      <th>ieffect_org3</th>\n",
       "      <td>604</td>\n",
       "      <td>0.444444</td>\n",
       "    </tr>\n",
       "  </tbody>\n",
       "</table>\n",
       "</div>"
      ],
      "text/plain": [
       "              Total   Percent\n",
       "turnover06      684  0.503311\n",
       "turnover07      674  0.495953\n",
       "ftstaff05       666  0.490066\n",
       "prod_origin1    666  0.490066\n",
       "totalstaff05    664  0.488595\n",
       "ftstaff06       659  0.484915\n",
       "totalstaff06    658  0.484180\n",
       "totalstaff07    649  0.477557\n",
       "ftstaff07       649  0.477557\n",
       "nfprod          647  0.476085\n",
       "prod_dev1       643  0.473142\n",
       "prod_dev3       643  0.473142\n",
       "prod_dev2       643  0.473142\n",
       "patapply        632  0.465048\n",
       "finsup6         631  0.464312\n",
       "aware_policy    631  0.464312\n",
       "finsup2         631  0.464312\n",
       "finsup5         631  0.464312\n",
       "ieffect_org1    604  0.444444\n",
       "ieffect_org3    604  0.444444"
      ]
     },
     "execution_count": 51,
     "metadata": {},
     "output_type": "execute_result"
    }
   ],
   "source": [
    "total = df2.isnull().sum().sort_values(ascending=False)\n",
    "percent = (df2.isnull().sum()/df2.isnull().count()).sort_values(ascending=False)\n",
    "missing_data = pd.concat([total, percent], axis=1, keys=['Total', 'Percent'])\n",
    "missing_data.head(20)"
   ]
  },
  {
   "cell_type": "code",
   "execution_count": 52,
   "metadata": {},
   "outputs": [
    {
     "name": "stdout",
     "output_type": "stream",
     "text": [
      "<class 'pandas.core.frame.DataFrame'>\n",
      "RangeIndex: 1359 entries, 0 to 1358\n",
      "Columns: 112 entries, id to policy_suggestion8\n",
      "dtypes: category(82), float64(12), object(18)\n",
      "memory usage: 438.9+ KB\n"
     ]
    }
   ],
   "source": [
    "df2.info()"
   ]
  },
  {
   "cell_type": "code",
   "execution_count": 60,
   "metadata": {},
   "outputs": [],
   "source": [
    "df7 = df2.iloc[:,0:56]\n",
    "df8 = df2.iloc[:,56:]"
   ]
  },
  {
   "cell_type": "code",
   "execution_count": 65,
   "metadata": {},
   "outputs": [
    {
     "name": "stdout",
     "output_type": "stream",
     "text": [
      "<class 'pandas.core.frame.DataFrame'>\n",
      "RangeIndex: 1359 entries, 0 to 1358\n",
      "Data columns (total 56 columns):\n",
      " #   Column          Non-Null Count  Dtype   \n",
      "---  ------          --------------  -----   \n",
      " 0   id              1359 non-null   float64 \n",
      " 1   year            1359 non-null   float64 \n",
      " 2   location        1359 non-null   category\n",
      " 3   estab           1023 non-null   float64 \n",
      " 4   service         1359 non-null   category\n",
      " 5   sector          1356 non-null   category\n",
      " 6   group           1359 non-null   category\n",
      " 7   market1         1049 non-null   category\n",
      " 8   market2         1024 non-null   category\n",
      " 9   ftstaff05       693 non-null    float64 \n",
      " 10  ftstaff06       700 non-null    float64 \n",
      " 11  ftstaff07       710 non-null    float64 \n",
      " 12  totalstaff05    695 non-null    float64 \n",
      " 13  totalstaff06    701 non-null    float64 \n",
      " 14  totalstaff07    710 non-null    float64 \n",
      " 15  turnover06      675 non-null    float64 \n",
      " 16  turnover07      685 non-null    float64 \n",
      " 17  iprod1          1307 non-null   category\n",
      " 18  iprod2          1290 non-null   category\n",
      " 19  prod_dev1       716 non-null    category\n",
      " 20  prod_dev2       716 non-null    category\n",
      " 21  prod_dev3       716 non-null    category\n",
      " 22  prod_origin1    693 non-null    category\n",
      " 23  nfprod          712 non-null    category\n",
      " 24  iproc1          1313 non-null   category\n",
      " 25  iproc2          1300 non-null   category\n",
      " 26  iproc3          1291 non-null   category\n",
      " 27  proc_dev1       799 non-null    category\n",
      " 28  proc_dev2       799 non-null    category\n",
      " 29  proc_dev3       799 non-null    category\n",
      " 30  proc_origin1    780 non-null    category\n",
      " 31  abandoned_iact  1204 non-null   category\n",
      " 32  ongoing_iact    1217 non-null   category\n",
      " 33  iact1           909 non-null    category\n",
      " 34  iact2           870 non-null    category\n",
      " 35  iact7           908 non-null    category\n",
      " 36  iact8           919 non-null    category\n",
      " 37  iact9           887 non-null    category\n",
      " 38  iact10          898 non-null    category\n",
      " 39  iact11          854 non-null    category\n",
      " 40  coop            844 non-null    category\n",
      " 41  sinfo1          915 non-null    category\n",
      " 42  sinfo2          905 non-null    category\n",
      " 43  sinfo3          923 non-null    category\n",
      " 44  sinfo4          911 non-null    category\n",
      " 45  sinfo5          898 non-null    category\n",
      " 46  sinfo6          898 non-null    category\n",
      " 47  sinfo7          899 non-null    category\n",
      " 48  sinfo8          916 non-null    category\n",
      " 49  sinfo9          911 non-null    category\n",
      " 50  sinfo10         913 non-null    category\n",
      " 51  ieffect_prod1   897 non-null    category\n",
      " 52  ieffect_prod3   900 non-null    category\n",
      " 53  ieffect_proc1   896 non-null    category\n",
      " 54  ieffect_proc2   889 non-null    category\n",
      " 55  ieffect_other2  881 non-null    category\n",
      "dtypes: category(45), float64(11)\n",
      "memory usage: 183.0 KB\n"
     ]
    }
   ],
   "source": [
    "df7.info()"
   ]
  },
  {
   "cell_type": "code",
   "execution_count": 73,
   "metadata": {},
   "outputs": [
    {
     "data": {
      "text/plain": [
       "id                  0\n",
       "year                0\n",
       "location            0\n",
       "estab             336\n",
       "service             0\n",
       "sector              3\n",
       "group               0\n",
       "market1           310\n",
       "market2           335\n",
       "ftstaff05         666\n",
       "ftstaff06         659\n",
       "ftstaff07         649\n",
       "totalstaff05      664\n",
       "totalstaff06      658\n",
       "totalstaff07      649\n",
       "turnover06        684\n",
       "turnover07        674\n",
       "iprod1             52\n",
       "iprod2             69\n",
       "prod_dev1         643\n",
       "prod_dev2         643\n",
       "prod_dev3         643\n",
       "prod_origin1      666\n",
       "nfprod            647\n",
       "iproc1             46\n",
       "iproc2             59\n",
       "iproc3             68\n",
       "proc_dev1         560\n",
       "proc_dev2         560\n",
       "proc_dev3         560\n",
       "proc_origin1      579\n",
       "abandoned_iact    155\n",
       "ongoing_iact      142\n",
       "iact1             450\n",
       "iact2             489\n",
       "iact7             451\n",
       "iact8             440\n",
       "iact9             472\n",
       "iact10            461\n",
       "iact11            505\n",
       "coop              515\n",
       "sinfo1            444\n",
       "sinfo2            454\n",
       "sinfo3            436\n",
       "sinfo4            448\n",
       "sinfo5            461\n",
       "sinfo6            461\n",
       "sinfo7            460\n",
       "sinfo8            443\n",
       "sinfo9            448\n",
       "sinfo10           446\n",
       "ieffect_prod1     462\n",
       "ieffect_prod3     459\n",
       "ieffect_proc1     463\n",
       "ieffect_proc2     470\n",
       "ieffect_other2    478\n",
       "dtype: int64"
      ]
     },
     "execution_count": 73,
     "metadata": {},
     "output_type": "execute_result"
    }
   ],
   "source": [
    "df7.isnull().sum()"
   ]
  },
  {
   "cell_type": "code",
   "execution_count": 74,
   "metadata": {},
   "outputs": [
    {
     "data": {
      "text/plain": [
       "Index(['id', 'year', 'location', 'estab', 'service', 'sector', 'group',\n",
       "       'market1', 'market2', 'ftstaff05', 'ftstaff06', 'ftstaff07',\n",
       "       'totalstaff05', 'totalstaff06', 'totalstaff07', 'turnover06',\n",
       "       'turnover07', 'iprod1', 'iprod2', 'prod_dev1', 'prod_dev2', 'prod_dev3',\n",
       "       'prod_origin1', 'nfprod', 'iproc1', 'iproc2', 'iproc3', 'proc_dev1',\n",
       "       'proc_dev2', 'proc_dev3', 'proc_origin1', 'abandoned_iact',\n",
       "       'ongoing_iact', 'iact1', 'iact2', 'iact7', 'iact8', 'iact9', 'iact10',\n",
       "       'iact11', 'coop', 'sinfo1', 'sinfo2', 'sinfo3', 'sinfo4', 'sinfo5',\n",
       "       'sinfo6', 'sinfo7', 'sinfo8', 'sinfo9', 'sinfo10', 'ieffect_prod1',\n",
       "       'ieffect_prod3', 'ieffect_proc1', 'ieffect_proc2', 'ieffect_other2'],\n",
       "      dtype='object')"
      ]
     },
     "execution_count": 74,
     "metadata": {},
     "output_type": "execute_result"
    }
   ],
   "source": [
    "df7.columns"
   ]
  },
  {
   "cell_type": "code",
   "execution_count": 76,
   "metadata": {},
   "outputs": [],
   "source": [
    "df7['estab'].fillna(0,inplace=True)\n",
    "df7['ftstaff05' ].fillna(0,inplace=True)\n",
    "df7['ftstaff06'].fillna(0,inplace=True)\n",
    "df7['ftstaff07'].fillna(0,inplace=True)\n",
    "df7['totalstaff05'].fillna(0,inplace=True)\n",
    "df7['totalstaff06'].fillna(0,inplace=True)\n",
    "df7['totalstaff07'].fillna(0,inplace=True)\n",
    "df7['turnover06'].fillna(0,inplace=True)\n",
    "df7['turnover07'].fillna(0,inplace=True)"
   ]
  },
  {
   "cell_type": "code",
   "execution_count": 80,
   "metadata": {},
   "outputs": [],
   "source": [
    "category = ['location',  'service', 'sector', 'group',\n",
    "       'market1', 'market2','iprod1', 'iprod2', 'prod_dev1', 'prod_dev2', 'prod_dev3',\n",
    "       'prod_origin1', 'nfprod', 'iproc1', 'iproc2', 'iproc3', 'proc_dev1',\n",
    "       'proc_dev2', 'proc_dev3', 'proc_origin1', 'abandoned_iact',\n",
    "       'ongoing_iact', 'iact1', 'iact2', 'iact7', 'iact8', 'iact9', 'iact10',\n",
    "       'iact11', 'coop', 'sinfo1', 'sinfo2', 'sinfo3', 'sinfo4', 'sinfo5',\n",
    "       'sinfo6', 'sinfo7', 'sinfo8', 'sinfo9', 'sinfo10', 'ieffect_prod1',\n",
    "       'ieffect_prod3', 'ieffect_proc1', 'ieffect_proc2', 'ieffect_other2']\n",
    "for col in category:\n",
    "    df7[col] = df7[col].astype('object')"
   ]
  },
  {
   "cell_type": "code",
   "execution_count": 81,
   "metadata": {},
   "outputs": [
    {
     "name": "stdout",
     "output_type": "stream",
     "text": [
      "<class 'pandas.core.frame.DataFrame'>\n",
      "RangeIndex: 1359 entries, 0 to 1358\n",
      "Data columns (total 56 columns):\n",
      " #   Column          Non-Null Count  Dtype  \n",
      "---  ------          --------------  -----  \n",
      " 0   id              1359 non-null   float64\n",
      " 1   year            1359 non-null   float64\n",
      " 2   location        1359 non-null   object \n",
      " 3   estab           1359 non-null   float64\n",
      " 4   service         1359 non-null   object \n",
      " 5   sector          1356 non-null   object \n",
      " 6   group           1359 non-null   object \n",
      " 7   market1         1049 non-null   object \n",
      " 8   market2         1024 non-null   object \n",
      " 9   ftstaff05       1359 non-null   float64\n",
      " 10  ftstaff06       1359 non-null   float64\n",
      " 11  ftstaff07       1359 non-null   float64\n",
      " 12  totalstaff05    1359 non-null   float64\n",
      " 13  totalstaff06    1359 non-null   float64\n",
      " 14  totalstaff07    1359 non-null   float64\n",
      " 15  turnover06      1359 non-null   float64\n",
      " 16  turnover07      1359 non-null   float64\n",
      " 17  iprod1          1307 non-null   object \n",
      " 18  iprod2          1290 non-null   object \n",
      " 19  prod_dev1       716 non-null    object \n",
      " 20  prod_dev2       716 non-null    object \n",
      " 21  prod_dev3       716 non-null    object \n",
      " 22  prod_origin1    693 non-null    object \n",
      " 23  nfprod          712 non-null    object \n",
      " 24  iproc1          1313 non-null   object \n",
      " 25  iproc2          1300 non-null   object \n",
      " 26  iproc3          1291 non-null   object \n",
      " 27  proc_dev1       799 non-null    object \n",
      " 28  proc_dev2       799 non-null    object \n",
      " 29  proc_dev3       799 non-null    object \n",
      " 30  proc_origin1    780 non-null    object \n",
      " 31  abandoned_iact  1204 non-null   object \n",
      " 32  ongoing_iact    1217 non-null   object \n",
      " 33  iact1           909 non-null    object \n",
      " 34  iact2           870 non-null    object \n",
      " 35  iact7           908 non-null    object \n",
      " 36  iact8           919 non-null    object \n",
      " 37  iact9           887 non-null    object \n",
      " 38  iact10          898 non-null    object \n",
      " 39  iact11          854 non-null    object \n",
      " 40  coop            844 non-null    object \n",
      " 41  sinfo1          915 non-null    object \n",
      " 42  sinfo2          905 non-null    object \n",
      " 43  sinfo3          923 non-null    object \n",
      " 44  sinfo4          911 non-null    object \n",
      " 45  sinfo5          898 non-null    object \n",
      " 46  sinfo6          898 non-null    object \n",
      " 47  sinfo7          899 non-null    object \n",
      " 48  sinfo8          916 non-null    object \n",
      " 49  sinfo9          911 non-null    object \n",
      " 50  sinfo10         913 non-null    object \n",
      " 51  ieffect_prod1   897 non-null    object \n",
      " 52  ieffect_prod3   900 non-null    object \n",
      " 53  ieffect_proc1   896 non-null    object \n",
      " 54  ieffect_proc2   889 non-null    object \n",
      " 55  ieffect_other2  881 non-null    object \n",
      "dtypes: float64(11), object(45)\n",
      "memory usage: 594.7+ KB\n"
     ]
    }
   ],
   "source": [
    "df7.info()"
   ]
  },
  {
   "cell_type": "code",
   "execution_count": 82,
   "metadata": {},
   "outputs": [],
   "source": [
    "df7.fillna('Not Specified',inplace =True)"
   ]
  },
  {
   "cell_type": "code",
   "execution_count": 83,
   "metadata": {},
   "outputs": [
    {
     "data": {
      "text/plain": [
       "id                0\n",
       "year              0\n",
       "location          0\n",
       "estab             0\n",
       "service           0\n",
       "sector            0\n",
       "group             0\n",
       "market1           0\n",
       "market2           0\n",
       "ftstaff05         0\n",
       "ftstaff06         0\n",
       "ftstaff07         0\n",
       "totalstaff05      0\n",
       "totalstaff06      0\n",
       "totalstaff07      0\n",
       "turnover06        0\n",
       "turnover07        0\n",
       "iprod1            0\n",
       "iprod2            0\n",
       "prod_dev1         0\n",
       "prod_dev2         0\n",
       "prod_dev3         0\n",
       "prod_origin1      0\n",
       "nfprod            0\n",
       "iproc1            0\n",
       "iproc2            0\n",
       "iproc3            0\n",
       "proc_dev1         0\n",
       "proc_dev2         0\n",
       "proc_dev3         0\n",
       "proc_origin1      0\n",
       "abandoned_iact    0\n",
       "ongoing_iact      0\n",
       "iact1             0\n",
       "iact2             0\n",
       "iact7             0\n",
       "iact8             0\n",
       "iact9             0\n",
       "iact10            0\n",
       "iact11            0\n",
       "coop              0\n",
       "sinfo1            0\n",
       "sinfo2            0\n",
       "sinfo3            0\n",
       "sinfo4            0\n",
       "sinfo5            0\n",
       "sinfo6            0\n",
       "sinfo7            0\n",
       "sinfo8            0\n",
       "sinfo9            0\n",
       "sinfo10           0\n",
       "ieffect_prod1     0\n",
       "ieffect_prod3     0\n",
       "ieffect_proc1     0\n",
       "ieffect_proc2     0\n",
       "ieffect_other2    0\n",
       "dtype: int64"
      ]
     },
     "execution_count": 83,
     "metadata": {},
     "output_type": "execute_result"
    }
   ],
   "source": [
    "df7.isnull().sum()"
   ]
  },
  {
   "cell_type": "code",
   "execution_count": 89,
   "metadata": {},
   "outputs": [
    {
     "data": {
      "application/vnd.plotly.v1+json": {
       "config": {
        "plotlyServerURL": "https://plot.ly"
       },
       "data": [
        {
         "branchvalues": "total",
         "domain": {
          "x": [
           0,
           1
          ],
          "y": [
           0,
           1
          ]
         },
         "hovertemplate": "labels=%{label}<br>ftstaff05=%{value}<br>parent=%{parent}<br>id=%{id}<extra></extra>",
         "ids": [
          "Computer and related activities/No",
          "Financial intermediation/No",
          "Health, cultural and social work/No",
          "Hotels and restaurants/No",
          "Insurance and pension funding/No",
          "Other business activities/No",
          "Post and telecommunications/No",
          "Publishing, reproduction of recorded media/No",
          "Real estate activities/No",
          "Trade, repairs and rentals/No",
          "Transport services/No",
          "basic metals and recycling/No",
          "chemicals and chemical products/No",
          "fabricated metal etc/No",
          "food and beverages/No",
          "furniture/No",
          "leather tanning and dressing etc/No",
          "machinery, equipment and vehicles/No",
          "non metallic mineral products/No",
          "rubber and plastics products/No",
          "wood and paper products etc/No",
          "Computer and related activities/Not Specified",
          "Education/Not Specified",
          "Health, cultural and social work/Not Specified",
          "Hotels and restaurants/Not Specified",
          "Insurance and pension funding/Not Specified",
          "Other business activities/Not Specified",
          "Publishing, reproduction of recorded media/Not Specified",
          "Trade, repairs and rentals/Not Specified",
          "Transport services/Not Specified",
          "basic metals and recycling/Not Specified",
          "chemicals and chemical products/Not Specified",
          "coke, petroleum products/Not Specified",
          "fabricated metal etc/Not Specified",
          "food and beverages/Not Specified",
          "furniture/Not Specified",
          "leather tanning and dressing etc/Not Specified",
          "machinery, equipment and vehicles/Not Specified",
          "non metallic mineral products/Not Specified",
          "rubber and plastics products/Not Specified",
          "textiles and wearing apparel/Not Specified",
          "wood and paper products etc/Not Specified",
          "Computer and related activities/Yes",
          "Education/Yes",
          "Financial intermediation/Yes",
          "Health, cultural and social work/Yes",
          "Hotels and restaurants/Yes",
          "Insurance and pension funding/Yes",
          "Not Specified/Yes",
          "Other business activities/Yes",
          "Post and telecommunications/Yes",
          "Publishing, reproduction of recorded media/Yes",
          "Real estate activities/Yes",
          "Trade, repairs and rentals/Yes",
          "Transport services/Yes",
          "basic metals and recycling/Yes",
          "chemicals and chemical products/Yes",
          "coke, petroleum products/Yes",
          "fabricated metal etc/Yes",
          "food and beverages/Yes",
          "furniture/Yes",
          "leather tanning and dressing etc/Yes",
          "machinery, equipment and vehicles/Yes",
          "non metallic mineral products/Yes",
          "rubber and plastics products/Yes",
          "textiles and wearing apparel/Yes",
          "wood and paper products etc/Yes",
          "Computer and related activities",
          "Education",
          "Financial intermediation",
          "Health, cultural and social work",
          "Hotels and restaurants",
          "Insurance and pension funding",
          "Not Specified",
          "Other business activities",
          "Post and telecommunications",
          "Publishing, reproduction of recorded media",
          "Real estate activities",
          "Trade, repairs and rentals",
          "Transport services",
          "basic metals and recycling",
          "chemicals and chemical products",
          "coke, petroleum products",
          "fabricated metal etc",
          "food and beverages",
          "furniture",
          "leather tanning and dressing etc",
          "machinery, equipment and vehicles",
          "non metallic mineral products",
          "rubber and plastics products",
          "textiles and wearing apparel",
          "wood and paper products etc"
         ],
         "labels": [
          "No",
          "No",
          "No",
          "No",
          "No",
          "No",
          "No",
          "No",
          "No",
          "No",
          "No",
          "No",
          "No",
          "No",
          "No",
          "No",
          "No",
          "No",
          "No",
          "No",
          "No",
          "Not Specified",
          "Not Specified",
          "Not Specified",
          "Not Specified",
          "Not Specified",
          "Not Specified",
          "Not Specified",
          "Not Specified",
          "Not Specified",
          "Not Specified",
          "Not Specified",
          "Not Specified",
          "Not Specified",
          "Not Specified",
          "Not Specified",
          "Not Specified",
          "Not Specified",
          "Not Specified",
          "Not Specified",
          "Not Specified",
          "Not Specified",
          "Yes",
          "Yes",
          "Yes",
          "Yes",
          "Yes",
          "Yes",
          "Yes",
          "Yes",
          "Yes",
          "Yes",
          "Yes",
          "Yes",
          "Yes",
          "Yes",
          "Yes",
          "Yes",
          "Yes",
          "Yes",
          "Yes",
          "Yes",
          "Yes",
          "Yes",
          "Yes",
          "Yes",
          "Yes",
          "Computer and related activities",
          "Education",
          "Financial intermediation",
          "Health, cultural and social work",
          "Hotels and restaurants",
          "Insurance and pension funding",
          "Not Specified",
          "Other business activities",
          "Post and telecommunications",
          "Publishing, reproduction of recorded media",
          "Real estate activities",
          "Trade, repairs and rentals",
          "Transport services",
          "basic metals and recycling",
          "chemicals and chemical products",
          "coke, petroleum products",
          "fabricated metal etc",
          "food and beverages",
          "furniture",
          "leather tanning and dressing etc",
          "machinery, equipment and vehicles",
          "non metallic mineral products",
          "rubber and plastics products",
          "textiles and wearing apparel",
          "wood and paper products etc"
         ],
         "name": "",
         "parents": [
          "Computer and related activities",
          "Financial intermediation",
          "Health, cultural and social work",
          "Hotels and restaurants",
          "Insurance and pension funding",
          "Other business activities",
          "Post and telecommunications",
          "Publishing, reproduction of recorded media",
          "Real estate activities",
          "Trade, repairs and rentals",
          "Transport services",
          "basic metals and recycling",
          "chemicals and chemical products",
          "fabricated metal etc",
          "food and beverages",
          "furniture",
          "leather tanning and dressing etc",
          "machinery, equipment and vehicles",
          "non metallic mineral products",
          "rubber and plastics products",
          "wood and paper products etc",
          "Computer and related activities",
          "Education",
          "Health, cultural and social work",
          "Hotels and restaurants",
          "Insurance and pension funding",
          "Other business activities",
          "Publishing, reproduction of recorded media",
          "Trade, repairs and rentals",
          "Transport services",
          "basic metals and recycling",
          "chemicals and chemical products",
          "coke, petroleum products",
          "fabricated metal etc",
          "food and beverages",
          "furniture",
          "leather tanning and dressing etc",
          "machinery, equipment and vehicles",
          "non metallic mineral products",
          "rubber and plastics products",
          "textiles and wearing apparel",
          "wood and paper products etc",
          "Computer and related activities",
          "Education",
          "Financial intermediation",
          "Health, cultural and social work",
          "Hotels and restaurants",
          "Insurance and pension funding",
          "Not Specified",
          "Other business activities",
          "Post and telecommunications",
          "Publishing, reproduction of recorded media",
          "Real estate activities",
          "Trade, repairs and rentals",
          "Transport services",
          "basic metals and recycling",
          "chemicals and chemical products",
          "coke, petroleum products",
          "fabricated metal etc",
          "food and beverages",
          "furniture",
          "leather tanning and dressing etc",
          "machinery, equipment and vehicles",
          "non metallic mineral products",
          "rubber and plastics products",
          "textiles and wearing apparel",
          "wood and paper products etc",
          "",
          "",
          "",
          "",
          "",
          "",
          "",
          "",
          "",
          "",
          "",
          "",
          "",
          "",
          "",
          "",
          "",
          "",
          "",
          "",
          "",
          "",
          "",
          "",
          ""
         ],
         "type": "sunburst",
         "values": [
          0,
          243,
          42,
          1365,
          645,
          218,
          1119,
          460,
          107,
          185,
          1525,
          36,
          324,
          322,
          2060,
          205,
          2146,
          370,
          85,
          0,
          324,
          0,
          0,
          0,
          0,
          0,
          0,
          970,
          0,
          0,
          185,
          5405,
          0,
          541,
          1966,
          1621,
          2051,
          1121,
          1777,
          980,
          1968,
          195,
          667,
          0,
          2531,
          621,
          2096,
          1158,
          355,
          1005,
          303,
          4184,
          865,
          864,
          588,
          757,
          5459,
          0,
          2034,
          20891,
          4178,
          856,
          2647,
          1510,
          5026,
          5468,
          2621,
          667,
          0,
          2774,
          663,
          3461,
          1803,
          355,
          1223,
          1422,
          5614,
          972,
          1049,
          2113,
          978,
          11188,
          0,
          2897,
          24917,
          6004,
          5053,
          4138,
          3372,
          6006,
          7436,
          3140
         ]
        }
       ],
       "layout": {
        "legend": {
         "tracegroupgap": 0
        },
        "template": {
         "data": {
          "bar": [
           {
            "error_x": {
             "color": "#2a3f5f"
            },
            "error_y": {
             "color": "#2a3f5f"
            },
            "marker": {
             "line": {
              "color": "#E5ECF6",
              "width": 0.5
             },
             "pattern": {
              "fillmode": "overlay",
              "size": 10,
              "solidity": 0.2
             }
            },
            "type": "bar"
           }
          ],
          "barpolar": [
           {
            "marker": {
             "line": {
              "color": "#E5ECF6",
              "width": 0.5
             },
             "pattern": {
              "fillmode": "overlay",
              "size": 10,
              "solidity": 0.2
             }
            },
            "type": "barpolar"
           }
          ],
          "carpet": [
           {
            "aaxis": {
             "endlinecolor": "#2a3f5f",
             "gridcolor": "white",
             "linecolor": "white",
             "minorgridcolor": "white",
             "startlinecolor": "#2a3f5f"
            },
            "baxis": {
             "endlinecolor": "#2a3f5f",
             "gridcolor": "white",
             "linecolor": "white",
             "minorgridcolor": "white",
             "startlinecolor": "#2a3f5f"
            },
            "type": "carpet"
           }
          ],
          "choropleth": [
           {
            "colorbar": {
             "outlinewidth": 0,
             "ticks": ""
            },
            "type": "choropleth"
           }
          ],
          "contour": [
           {
            "colorbar": {
             "outlinewidth": 0,
             "ticks": ""
            },
            "colorscale": [
             [
              0,
              "#0d0887"
             ],
             [
              0.1111111111111111,
              "#46039f"
             ],
             [
              0.2222222222222222,
              "#7201a8"
             ],
             [
              0.3333333333333333,
              "#9c179e"
             ],
             [
              0.4444444444444444,
              "#bd3786"
             ],
             [
              0.5555555555555556,
              "#d8576b"
             ],
             [
              0.6666666666666666,
              "#ed7953"
             ],
             [
              0.7777777777777778,
              "#fb9f3a"
             ],
             [
              0.8888888888888888,
              "#fdca26"
             ],
             [
              1,
              "#f0f921"
             ]
            ],
            "type": "contour"
           }
          ],
          "contourcarpet": [
           {
            "colorbar": {
             "outlinewidth": 0,
             "ticks": ""
            },
            "type": "contourcarpet"
           }
          ],
          "heatmap": [
           {
            "colorbar": {
             "outlinewidth": 0,
             "ticks": ""
            },
            "colorscale": [
             [
              0,
              "#0d0887"
             ],
             [
              0.1111111111111111,
              "#46039f"
             ],
             [
              0.2222222222222222,
              "#7201a8"
             ],
             [
              0.3333333333333333,
              "#9c179e"
             ],
             [
              0.4444444444444444,
              "#bd3786"
             ],
             [
              0.5555555555555556,
              "#d8576b"
             ],
             [
              0.6666666666666666,
              "#ed7953"
             ],
             [
              0.7777777777777778,
              "#fb9f3a"
             ],
             [
              0.8888888888888888,
              "#fdca26"
             ],
             [
              1,
              "#f0f921"
             ]
            ],
            "type": "heatmap"
           }
          ],
          "heatmapgl": [
           {
            "colorbar": {
             "outlinewidth": 0,
             "ticks": ""
            },
            "colorscale": [
             [
              0,
              "#0d0887"
             ],
             [
              0.1111111111111111,
              "#46039f"
             ],
             [
              0.2222222222222222,
              "#7201a8"
             ],
             [
              0.3333333333333333,
              "#9c179e"
             ],
             [
              0.4444444444444444,
              "#bd3786"
             ],
             [
              0.5555555555555556,
              "#d8576b"
             ],
             [
              0.6666666666666666,
              "#ed7953"
             ],
             [
              0.7777777777777778,
              "#fb9f3a"
             ],
             [
              0.8888888888888888,
              "#fdca26"
             ],
             [
              1,
              "#f0f921"
             ]
            ],
            "type": "heatmapgl"
           }
          ],
          "histogram": [
           {
            "marker": {
             "pattern": {
              "fillmode": "overlay",
              "size": 10,
              "solidity": 0.2
             }
            },
            "type": "histogram"
           }
          ],
          "histogram2d": [
           {
            "colorbar": {
             "outlinewidth": 0,
             "ticks": ""
            },
            "colorscale": [
             [
              0,
              "#0d0887"
             ],
             [
              0.1111111111111111,
              "#46039f"
             ],
             [
              0.2222222222222222,
              "#7201a8"
             ],
             [
              0.3333333333333333,
              "#9c179e"
             ],
             [
              0.4444444444444444,
              "#bd3786"
             ],
             [
              0.5555555555555556,
              "#d8576b"
             ],
             [
              0.6666666666666666,
              "#ed7953"
             ],
             [
              0.7777777777777778,
              "#fb9f3a"
             ],
             [
              0.8888888888888888,
              "#fdca26"
             ],
             [
              1,
              "#f0f921"
             ]
            ],
            "type": "histogram2d"
           }
          ],
          "histogram2dcontour": [
           {
            "colorbar": {
             "outlinewidth": 0,
             "ticks": ""
            },
            "colorscale": [
             [
              0,
              "#0d0887"
             ],
             [
              0.1111111111111111,
              "#46039f"
             ],
             [
              0.2222222222222222,
              "#7201a8"
             ],
             [
              0.3333333333333333,
              "#9c179e"
             ],
             [
              0.4444444444444444,
              "#bd3786"
             ],
             [
              0.5555555555555556,
              "#d8576b"
             ],
             [
              0.6666666666666666,
              "#ed7953"
             ],
             [
              0.7777777777777778,
              "#fb9f3a"
             ],
             [
              0.8888888888888888,
              "#fdca26"
             ],
             [
              1,
              "#f0f921"
             ]
            ],
            "type": "histogram2dcontour"
           }
          ],
          "mesh3d": [
           {
            "colorbar": {
             "outlinewidth": 0,
             "ticks": ""
            },
            "type": "mesh3d"
           }
          ],
          "parcoords": [
           {
            "line": {
             "colorbar": {
              "outlinewidth": 0,
              "ticks": ""
             }
            },
            "type": "parcoords"
           }
          ],
          "pie": [
           {
            "automargin": true,
            "type": "pie"
           }
          ],
          "scatter": [
           {
            "marker": {
             "colorbar": {
              "outlinewidth": 0,
              "ticks": ""
             }
            },
            "type": "scatter"
           }
          ],
          "scatter3d": [
           {
            "line": {
             "colorbar": {
              "outlinewidth": 0,
              "ticks": ""
             }
            },
            "marker": {
             "colorbar": {
              "outlinewidth": 0,
              "ticks": ""
             }
            },
            "type": "scatter3d"
           }
          ],
          "scattercarpet": [
           {
            "marker": {
             "colorbar": {
              "outlinewidth": 0,
              "ticks": ""
             }
            },
            "type": "scattercarpet"
           }
          ],
          "scattergeo": [
           {
            "marker": {
             "colorbar": {
              "outlinewidth": 0,
              "ticks": ""
             }
            },
            "type": "scattergeo"
           }
          ],
          "scattergl": [
           {
            "marker": {
             "colorbar": {
              "outlinewidth": 0,
              "ticks": ""
             }
            },
            "type": "scattergl"
           }
          ],
          "scattermapbox": [
           {
            "marker": {
             "colorbar": {
              "outlinewidth": 0,
              "ticks": ""
             }
            },
            "type": "scattermapbox"
           }
          ],
          "scatterpolar": [
           {
            "marker": {
             "colorbar": {
              "outlinewidth": 0,
              "ticks": ""
             }
            },
            "type": "scatterpolar"
           }
          ],
          "scatterpolargl": [
           {
            "marker": {
             "colorbar": {
              "outlinewidth": 0,
              "ticks": ""
             }
            },
            "type": "scatterpolargl"
           }
          ],
          "scatterternary": [
           {
            "marker": {
             "colorbar": {
              "outlinewidth": 0,
              "ticks": ""
             }
            },
            "type": "scatterternary"
           }
          ],
          "surface": [
           {
            "colorbar": {
             "outlinewidth": 0,
             "ticks": ""
            },
            "colorscale": [
             [
              0,
              "#0d0887"
             ],
             [
              0.1111111111111111,
              "#46039f"
             ],
             [
              0.2222222222222222,
              "#7201a8"
             ],
             [
              0.3333333333333333,
              "#9c179e"
             ],
             [
              0.4444444444444444,
              "#bd3786"
             ],
             [
              0.5555555555555556,
              "#d8576b"
             ],
             [
              0.6666666666666666,
              "#ed7953"
             ],
             [
              0.7777777777777778,
              "#fb9f3a"
             ],
             [
              0.8888888888888888,
              "#fdca26"
             ],
             [
              1,
              "#f0f921"
             ]
            ],
            "type": "surface"
           }
          ],
          "table": [
           {
            "cells": {
             "fill": {
              "color": "#EBF0F8"
             },
             "line": {
              "color": "white"
             }
            },
            "header": {
             "fill": {
              "color": "#C8D4E3"
             },
             "line": {
              "color": "white"
             }
            },
            "type": "table"
           }
          ]
         },
         "layout": {
          "annotationdefaults": {
           "arrowcolor": "#2a3f5f",
           "arrowhead": 0,
           "arrowwidth": 1
          },
          "autotypenumbers": "strict",
          "coloraxis": {
           "colorbar": {
            "outlinewidth": 0,
            "ticks": ""
           }
          },
          "colorscale": {
           "diverging": [
            [
             0,
             "#8e0152"
            ],
            [
             0.1,
             "#c51b7d"
            ],
            [
             0.2,
             "#de77ae"
            ],
            [
             0.3,
             "#f1b6da"
            ],
            [
             0.4,
             "#fde0ef"
            ],
            [
             0.5,
             "#f7f7f7"
            ],
            [
             0.6,
             "#e6f5d0"
            ],
            [
             0.7,
             "#b8e186"
            ],
            [
             0.8,
             "#7fbc41"
            ],
            [
             0.9,
             "#4d9221"
            ],
            [
             1,
             "#276419"
            ]
           ],
           "sequential": [
            [
             0,
             "#0d0887"
            ],
            [
             0.1111111111111111,
             "#46039f"
            ],
            [
             0.2222222222222222,
             "#7201a8"
            ],
            [
             0.3333333333333333,
             "#9c179e"
            ],
            [
             0.4444444444444444,
             "#bd3786"
            ],
            [
             0.5555555555555556,
             "#d8576b"
            ],
            [
             0.6666666666666666,
             "#ed7953"
            ],
            [
             0.7777777777777778,
             "#fb9f3a"
            ],
            [
             0.8888888888888888,
             "#fdca26"
            ],
            [
             1,
             "#f0f921"
            ]
           ],
           "sequentialminus": [
            [
             0,
             "#0d0887"
            ],
            [
             0.1111111111111111,
             "#46039f"
            ],
            [
             0.2222222222222222,
             "#7201a8"
            ],
            [
             0.3333333333333333,
             "#9c179e"
            ],
            [
             0.4444444444444444,
             "#bd3786"
            ],
            [
             0.5555555555555556,
             "#d8576b"
            ],
            [
             0.6666666666666666,
             "#ed7953"
            ],
            [
             0.7777777777777778,
             "#fb9f3a"
            ],
            [
             0.8888888888888888,
             "#fdca26"
            ],
            [
             1,
             "#f0f921"
            ]
           ]
          },
          "colorway": [
           "#636efa",
           "#EF553B",
           "#00cc96",
           "#ab63fa",
           "#FFA15A",
           "#19d3f3",
           "#FF6692",
           "#B6E880",
           "#FF97FF",
           "#FECB52"
          ],
          "font": {
           "color": "#2a3f5f"
          },
          "geo": {
           "bgcolor": "white",
           "lakecolor": "white",
           "landcolor": "#E5ECF6",
           "showlakes": true,
           "showland": true,
           "subunitcolor": "white"
          },
          "hoverlabel": {
           "align": "left"
          },
          "hovermode": "closest",
          "mapbox": {
           "style": "light"
          },
          "paper_bgcolor": "white",
          "plot_bgcolor": "#E5ECF6",
          "polar": {
           "angularaxis": {
            "gridcolor": "white",
            "linecolor": "white",
            "ticks": ""
           },
           "bgcolor": "#E5ECF6",
           "radialaxis": {
            "gridcolor": "white",
            "linecolor": "white",
            "ticks": ""
           }
          },
          "scene": {
           "xaxis": {
            "backgroundcolor": "#E5ECF6",
            "gridcolor": "white",
            "gridwidth": 2,
            "linecolor": "white",
            "showbackground": true,
            "ticks": "",
            "zerolinecolor": "white"
           },
           "yaxis": {
            "backgroundcolor": "#E5ECF6",
            "gridcolor": "white",
            "gridwidth": 2,
            "linecolor": "white",
            "showbackground": true,
            "ticks": "",
            "zerolinecolor": "white"
           },
           "zaxis": {
            "backgroundcolor": "#E5ECF6",
            "gridcolor": "white",
            "gridwidth": 2,
            "linecolor": "white",
            "showbackground": true,
            "ticks": "",
            "zerolinecolor": "white"
           }
          },
          "shapedefaults": {
           "line": {
            "color": "#2a3f5f"
           }
          },
          "ternary": {
           "aaxis": {
            "gridcolor": "white",
            "linecolor": "white",
            "ticks": ""
           },
           "baxis": {
            "gridcolor": "white",
            "linecolor": "white",
            "ticks": ""
           },
           "bgcolor": "#E5ECF6",
           "caxis": {
            "gridcolor": "white",
            "linecolor": "white",
            "ticks": ""
           }
          },
          "title": {
           "x": 0.05
          },
          "xaxis": {
           "automargin": true,
           "gridcolor": "white",
           "linecolor": "white",
           "ticks": "",
           "title": {
            "standoff": 15
           },
           "zerolinecolor": "white",
           "zerolinewidth": 2
          },
          "yaxis": {
           "automargin": true,
           "gridcolor": "white",
           "linecolor": "white",
           "ticks": "",
           "title": {
            "standoff": 15
           },
           "zerolinecolor": "white",
           "zerolinewidth": 2
          }
         }
        },
        "title": {
         "text": "Various Sector's state market against 2005 full time staff"
        }
       }
      },
      "text/html": [
       "<div>                            <div id=\"ff4df002-b407-4e97-92db-a434883c1cb6\" class=\"plotly-graph-div\" style=\"height:525px; width:100%;\"></div>            <script type=\"text/javascript\">                require([\"plotly\"], function(Plotly) {                    window.PLOTLYENV=window.PLOTLYENV || {};                                    if (document.getElementById(\"ff4df002-b407-4e97-92db-a434883c1cb6\")) {                    Plotly.newPlot(                        \"ff4df002-b407-4e97-92db-a434883c1cb6\",                        [{\"branchvalues\":\"total\",\"domain\":{\"x\":[0.0,1.0],\"y\":[0.0,1.0]},\"hovertemplate\":\"labels=%{label}<br>ftstaff05=%{value}<br>parent=%{parent}<br>id=%{id}<extra></extra>\",\"ids\":[\"Computer and related activities/No\",\"Financial intermediation/No\",\"Health, cultural and social work/No\",\"Hotels and restaurants/No\",\"Insurance and pension funding/No\",\"Other business activities/No\",\"Post and telecommunications/No\",\"Publishing, reproduction of recorded media/No\",\"Real estate activities/No\",\"Trade, repairs and rentals/No\",\"Transport services/No\",\"basic metals and recycling/No\",\"chemicals and chemical products/No\",\"fabricated metal etc/No\",\"food and beverages/No\",\"furniture/No\",\"leather tanning and dressing etc/No\",\"machinery, equipment and vehicles/No\",\"non metallic mineral products/No\",\"rubber and plastics products/No\",\"wood and paper products etc/No\",\"Computer and related activities/Not Specified\",\"Education/Not Specified\",\"Health, cultural and social work/Not Specified\",\"Hotels and restaurants/Not Specified\",\"Insurance and pension funding/Not Specified\",\"Other business activities/Not Specified\",\"Publishing, reproduction of recorded media/Not Specified\",\"Trade, repairs and rentals/Not Specified\",\"Transport services/Not Specified\",\"basic metals and recycling/Not Specified\",\"chemicals and chemical products/Not Specified\",\"coke, petroleum products/Not Specified\",\"fabricated metal etc/Not Specified\",\"food and beverages/Not Specified\",\"furniture/Not Specified\",\"leather tanning and dressing etc/Not Specified\",\"machinery, equipment and vehicles/Not Specified\",\"non metallic mineral products/Not Specified\",\"rubber and plastics products/Not Specified\",\"textiles and wearing apparel/Not Specified\",\"wood and paper products etc/Not Specified\",\"Computer and related activities/Yes\",\"Education/Yes\",\"Financial intermediation/Yes\",\"Health, cultural and social work/Yes\",\"Hotels and restaurants/Yes\",\"Insurance and pension funding/Yes\",\"Not Specified/Yes\",\"Other business activities/Yes\",\"Post and telecommunications/Yes\",\"Publishing, reproduction of recorded media/Yes\",\"Real estate activities/Yes\",\"Trade, repairs and rentals/Yes\",\"Transport services/Yes\",\"basic metals and recycling/Yes\",\"chemicals and chemical products/Yes\",\"coke, petroleum products/Yes\",\"fabricated metal etc/Yes\",\"food and beverages/Yes\",\"furniture/Yes\",\"leather tanning and dressing etc/Yes\",\"machinery, equipment and vehicles/Yes\",\"non metallic mineral products/Yes\",\"rubber and plastics products/Yes\",\"textiles and wearing apparel/Yes\",\"wood and paper products etc/Yes\",\"Computer and related activities\",\"Education\",\"Financial intermediation\",\"Health, cultural and social work\",\"Hotels and restaurants\",\"Insurance and pension funding\",\"Not Specified\",\"Other business activities\",\"Post and telecommunications\",\"Publishing, reproduction of recorded media\",\"Real estate activities\",\"Trade, repairs and rentals\",\"Transport services\",\"basic metals and recycling\",\"chemicals and chemical products\",\"coke, petroleum products\",\"fabricated metal etc\",\"food and beverages\",\"furniture\",\"leather tanning and dressing etc\",\"machinery, equipment and vehicles\",\"non metallic mineral products\",\"rubber and plastics products\",\"textiles and wearing apparel\",\"wood and paper products etc\"],\"labels\":[\"No\",\"No\",\"No\",\"No\",\"No\",\"No\",\"No\",\"No\",\"No\",\"No\",\"No\",\"No\",\"No\",\"No\",\"No\",\"No\",\"No\",\"No\",\"No\",\"No\",\"No\",\"Not Specified\",\"Not Specified\",\"Not Specified\",\"Not Specified\",\"Not Specified\",\"Not Specified\",\"Not Specified\",\"Not Specified\",\"Not Specified\",\"Not Specified\",\"Not Specified\",\"Not Specified\",\"Not Specified\",\"Not Specified\",\"Not Specified\",\"Not Specified\",\"Not Specified\",\"Not Specified\",\"Not Specified\",\"Not Specified\",\"Not Specified\",\"Yes\",\"Yes\",\"Yes\",\"Yes\",\"Yes\",\"Yes\",\"Yes\",\"Yes\",\"Yes\",\"Yes\",\"Yes\",\"Yes\",\"Yes\",\"Yes\",\"Yes\",\"Yes\",\"Yes\",\"Yes\",\"Yes\",\"Yes\",\"Yes\",\"Yes\",\"Yes\",\"Yes\",\"Yes\",\"Computer and related activities\",\"Education\",\"Financial intermediation\",\"Health, cultural and social work\",\"Hotels and restaurants\",\"Insurance and pension funding\",\"Not Specified\",\"Other business activities\",\"Post and telecommunications\",\"Publishing, reproduction of recorded media\",\"Real estate activities\",\"Trade, repairs and rentals\",\"Transport services\",\"basic metals and recycling\",\"chemicals and chemical products\",\"coke, petroleum products\",\"fabricated metal etc\",\"food and beverages\",\"furniture\",\"leather tanning and dressing etc\",\"machinery, equipment and vehicles\",\"non metallic mineral products\",\"rubber and plastics products\",\"textiles and wearing apparel\",\"wood and paper products etc\"],\"name\":\"\",\"parents\":[\"Computer and related activities\",\"Financial intermediation\",\"Health, cultural and social work\",\"Hotels and restaurants\",\"Insurance and pension funding\",\"Other business activities\",\"Post and telecommunications\",\"Publishing, reproduction of recorded media\",\"Real estate activities\",\"Trade, repairs and rentals\",\"Transport services\",\"basic metals and recycling\",\"chemicals and chemical products\",\"fabricated metal etc\",\"food and beverages\",\"furniture\",\"leather tanning and dressing etc\",\"machinery, equipment and vehicles\",\"non metallic mineral products\",\"rubber and plastics products\",\"wood and paper products etc\",\"Computer and related activities\",\"Education\",\"Health, cultural and social work\",\"Hotels and restaurants\",\"Insurance and pension funding\",\"Other business activities\",\"Publishing, reproduction of recorded media\",\"Trade, repairs and rentals\",\"Transport services\",\"basic metals and recycling\",\"chemicals and chemical products\",\"coke, petroleum products\",\"fabricated metal etc\",\"food and beverages\",\"furniture\",\"leather tanning and dressing etc\",\"machinery, equipment and vehicles\",\"non metallic mineral products\",\"rubber and plastics products\",\"textiles and wearing apparel\",\"wood and paper products etc\",\"Computer and related activities\",\"Education\",\"Financial intermediation\",\"Health, cultural and social work\",\"Hotels and restaurants\",\"Insurance and pension funding\",\"Not Specified\",\"Other business activities\",\"Post and telecommunications\",\"Publishing, reproduction of recorded media\",\"Real estate activities\",\"Trade, repairs and rentals\",\"Transport services\",\"basic metals and recycling\",\"chemicals and chemical products\",\"coke, petroleum products\",\"fabricated metal etc\",\"food and beverages\",\"furniture\",\"leather tanning and dressing etc\",\"machinery, equipment and vehicles\",\"non metallic mineral products\",\"rubber and plastics products\",\"textiles and wearing apparel\",\"wood and paper products etc\",\"\",\"\",\"\",\"\",\"\",\"\",\"\",\"\",\"\",\"\",\"\",\"\",\"\",\"\",\"\",\"\",\"\",\"\",\"\",\"\",\"\",\"\",\"\",\"\",\"\"],\"type\":\"sunburst\",\"values\":[0.0,243.0,42.0,1365.0,645.0,218.0,1119.0,460.0,107.0,185.0,1525.0,36.0,324.0,322.0,2060.0,205.0,2146.0,370.0,85.0,0.0,324.0,0.0,0.0,0.0,0.0,0.0,0.0,970.0,0.0,0.0,185.0,5405.0,0.0,541.0,1966.0,1621.0,2051.0,1121.0,1777.0,980.0,1968.0,195.0,667.0,0.0,2531.0,621.0,2096.0,1158.0,355.0,1005.0,303.0,4184.0,865.0,864.0,588.0,757.0,5459.0,0.0,2034.0,20891.0,4178.0,856.0,2647.0,1510.0,5026.0,5468.0,2621.0,667.0,0.0,2774.0,663.0,3461.0,1803.0,355.0,1223.0,1422.0,5614.0,972.0,1049.0,2113.0,978.0,11188.0,0.0,2897.0,24917.0,6004.0,5053.0,4138.0,3372.0,6006.0,7436.0,3140.0]}],                        {\"legend\":{\"tracegroupgap\":0},\"template\":{\"data\":{\"bar\":[{\"error_x\":{\"color\":\"#2a3f5f\"},\"error_y\":{\"color\":\"#2a3f5f\"},\"marker\":{\"line\":{\"color\":\"#E5ECF6\",\"width\":0.5},\"pattern\":{\"fillmode\":\"overlay\",\"size\":10,\"solidity\":0.2}},\"type\":\"bar\"}],\"barpolar\":[{\"marker\":{\"line\":{\"color\":\"#E5ECF6\",\"width\":0.5},\"pattern\":{\"fillmode\":\"overlay\",\"size\":10,\"solidity\":0.2}},\"type\":\"barpolar\"}],\"carpet\":[{\"aaxis\":{\"endlinecolor\":\"#2a3f5f\",\"gridcolor\":\"white\",\"linecolor\":\"white\",\"minorgridcolor\":\"white\",\"startlinecolor\":\"#2a3f5f\"},\"baxis\":{\"endlinecolor\":\"#2a3f5f\",\"gridcolor\":\"white\",\"linecolor\":\"white\",\"minorgridcolor\":\"white\",\"startlinecolor\":\"#2a3f5f\"},\"type\":\"carpet\"}],\"choropleth\":[{\"colorbar\":{\"outlinewidth\":0,\"ticks\":\"\"},\"type\":\"choropleth\"}],\"contour\":[{\"colorbar\":{\"outlinewidth\":0,\"ticks\":\"\"},\"colorscale\":[[0.0,\"#0d0887\"],[0.1111111111111111,\"#46039f\"],[0.2222222222222222,\"#7201a8\"],[0.3333333333333333,\"#9c179e\"],[0.4444444444444444,\"#bd3786\"],[0.5555555555555556,\"#d8576b\"],[0.6666666666666666,\"#ed7953\"],[0.7777777777777778,\"#fb9f3a\"],[0.8888888888888888,\"#fdca26\"],[1.0,\"#f0f921\"]],\"type\":\"contour\"}],\"contourcarpet\":[{\"colorbar\":{\"outlinewidth\":0,\"ticks\":\"\"},\"type\":\"contourcarpet\"}],\"heatmap\":[{\"colorbar\":{\"outlinewidth\":0,\"ticks\":\"\"},\"colorscale\":[[0.0,\"#0d0887\"],[0.1111111111111111,\"#46039f\"],[0.2222222222222222,\"#7201a8\"],[0.3333333333333333,\"#9c179e\"],[0.4444444444444444,\"#bd3786\"],[0.5555555555555556,\"#d8576b\"],[0.6666666666666666,\"#ed7953\"],[0.7777777777777778,\"#fb9f3a\"],[0.8888888888888888,\"#fdca26\"],[1.0,\"#f0f921\"]],\"type\":\"heatmap\"}],\"heatmapgl\":[{\"colorbar\":{\"outlinewidth\":0,\"ticks\":\"\"},\"colorscale\":[[0.0,\"#0d0887\"],[0.1111111111111111,\"#46039f\"],[0.2222222222222222,\"#7201a8\"],[0.3333333333333333,\"#9c179e\"],[0.4444444444444444,\"#bd3786\"],[0.5555555555555556,\"#d8576b\"],[0.6666666666666666,\"#ed7953\"],[0.7777777777777778,\"#fb9f3a\"],[0.8888888888888888,\"#fdca26\"],[1.0,\"#f0f921\"]],\"type\":\"heatmapgl\"}],\"histogram\":[{\"marker\":{\"pattern\":{\"fillmode\":\"overlay\",\"size\":10,\"solidity\":0.2}},\"type\":\"histogram\"}],\"histogram2d\":[{\"colorbar\":{\"outlinewidth\":0,\"ticks\":\"\"},\"colorscale\":[[0.0,\"#0d0887\"],[0.1111111111111111,\"#46039f\"],[0.2222222222222222,\"#7201a8\"],[0.3333333333333333,\"#9c179e\"],[0.4444444444444444,\"#bd3786\"],[0.5555555555555556,\"#d8576b\"],[0.6666666666666666,\"#ed7953\"],[0.7777777777777778,\"#fb9f3a\"],[0.8888888888888888,\"#fdca26\"],[1.0,\"#f0f921\"]],\"type\":\"histogram2d\"}],\"histogram2dcontour\":[{\"colorbar\":{\"outlinewidth\":0,\"ticks\":\"\"},\"colorscale\":[[0.0,\"#0d0887\"],[0.1111111111111111,\"#46039f\"],[0.2222222222222222,\"#7201a8\"],[0.3333333333333333,\"#9c179e\"],[0.4444444444444444,\"#bd3786\"],[0.5555555555555556,\"#d8576b\"],[0.6666666666666666,\"#ed7953\"],[0.7777777777777778,\"#fb9f3a\"],[0.8888888888888888,\"#fdca26\"],[1.0,\"#f0f921\"]],\"type\":\"histogram2dcontour\"}],\"mesh3d\":[{\"colorbar\":{\"outlinewidth\":0,\"ticks\":\"\"},\"type\":\"mesh3d\"}],\"parcoords\":[{\"line\":{\"colorbar\":{\"outlinewidth\":0,\"ticks\":\"\"}},\"type\":\"parcoords\"}],\"pie\":[{\"automargin\":true,\"type\":\"pie\"}],\"scatter\":[{\"marker\":{\"colorbar\":{\"outlinewidth\":0,\"ticks\":\"\"}},\"type\":\"scatter\"}],\"scatter3d\":[{\"line\":{\"colorbar\":{\"outlinewidth\":0,\"ticks\":\"\"}},\"marker\":{\"colorbar\":{\"outlinewidth\":0,\"ticks\":\"\"}},\"type\":\"scatter3d\"}],\"scattercarpet\":[{\"marker\":{\"colorbar\":{\"outlinewidth\":0,\"ticks\":\"\"}},\"type\":\"scattercarpet\"}],\"scattergeo\":[{\"marker\":{\"colorbar\":{\"outlinewidth\":0,\"ticks\":\"\"}},\"type\":\"scattergeo\"}],\"scattergl\":[{\"marker\":{\"colorbar\":{\"outlinewidth\":0,\"ticks\":\"\"}},\"type\":\"scattergl\"}],\"scattermapbox\":[{\"marker\":{\"colorbar\":{\"outlinewidth\":0,\"ticks\":\"\"}},\"type\":\"scattermapbox\"}],\"scatterpolar\":[{\"marker\":{\"colorbar\":{\"outlinewidth\":0,\"ticks\":\"\"}},\"type\":\"scatterpolar\"}],\"scatterpolargl\":[{\"marker\":{\"colorbar\":{\"outlinewidth\":0,\"ticks\":\"\"}},\"type\":\"scatterpolargl\"}],\"scatterternary\":[{\"marker\":{\"colorbar\":{\"outlinewidth\":0,\"ticks\":\"\"}},\"type\":\"scatterternary\"}],\"surface\":[{\"colorbar\":{\"outlinewidth\":0,\"ticks\":\"\"},\"colorscale\":[[0.0,\"#0d0887\"],[0.1111111111111111,\"#46039f\"],[0.2222222222222222,\"#7201a8\"],[0.3333333333333333,\"#9c179e\"],[0.4444444444444444,\"#bd3786\"],[0.5555555555555556,\"#d8576b\"],[0.6666666666666666,\"#ed7953\"],[0.7777777777777778,\"#fb9f3a\"],[0.8888888888888888,\"#fdca26\"],[1.0,\"#f0f921\"]],\"type\":\"surface\"}],\"table\":[{\"cells\":{\"fill\":{\"color\":\"#EBF0F8\"},\"line\":{\"color\":\"white\"}},\"header\":{\"fill\":{\"color\":\"#C8D4E3\"},\"line\":{\"color\":\"white\"}},\"type\":\"table\"}]},\"layout\":{\"annotationdefaults\":{\"arrowcolor\":\"#2a3f5f\",\"arrowhead\":0,\"arrowwidth\":1},\"autotypenumbers\":\"strict\",\"coloraxis\":{\"colorbar\":{\"outlinewidth\":0,\"ticks\":\"\"}},\"colorscale\":{\"diverging\":[[0,\"#8e0152\"],[0.1,\"#c51b7d\"],[0.2,\"#de77ae\"],[0.3,\"#f1b6da\"],[0.4,\"#fde0ef\"],[0.5,\"#f7f7f7\"],[0.6,\"#e6f5d0\"],[0.7,\"#b8e186\"],[0.8,\"#7fbc41\"],[0.9,\"#4d9221\"],[1,\"#276419\"]],\"sequential\":[[0.0,\"#0d0887\"],[0.1111111111111111,\"#46039f\"],[0.2222222222222222,\"#7201a8\"],[0.3333333333333333,\"#9c179e\"],[0.4444444444444444,\"#bd3786\"],[0.5555555555555556,\"#d8576b\"],[0.6666666666666666,\"#ed7953\"],[0.7777777777777778,\"#fb9f3a\"],[0.8888888888888888,\"#fdca26\"],[1.0,\"#f0f921\"]],\"sequentialminus\":[[0.0,\"#0d0887\"],[0.1111111111111111,\"#46039f\"],[0.2222222222222222,\"#7201a8\"],[0.3333333333333333,\"#9c179e\"],[0.4444444444444444,\"#bd3786\"],[0.5555555555555556,\"#d8576b\"],[0.6666666666666666,\"#ed7953\"],[0.7777777777777778,\"#fb9f3a\"],[0.8888888888888888,\"#fdca26\"],[1.0,\"#f0f921\"]]},\"colorway\":[\"#636efa\",\"#EF553B\",\"#00cc96\",\"#ab63fa\",\"#FFA15A\",\"#19d3f3\",\"#FF6692\",\"#B6E880\",\"#FF97FF\",\"#FECB52\"],\"font\":{\"color\":\"#2a3f5f\"},\"geo\":{\"bgcolor\":\"white\",\"lakecolor\":\"white\",\"landcolor\":\"#E5ECF6\",\"showlakes\":true,\"showland\":true,\"subunitcolor\":\"white\"},\"hoverlabel\":{\"align\":\"left\"},\"hovermode\":\"closest\",\"mapbox\":{\"style\":\"light\"},\"paper_bgcolor\":\"white\",\"plot_bgcolor\":\"#E5ECF6\",\"polar\":{\"angularaxis\":{\"gridcolor\":\"white\",\"linecolor\":\"white\",\"ticks\":\"\"},\"bgcolor\":\"#E5ECF6\",\"radialaxis\":{\"gridcolor\":\"white\",\"linecolor\":\"white\",\"ticks\":\"\"}},\"scene\":{\"xaxis\":{\"backgroundcolor\":\"#E5ECF6\",\"gridcolor\":\"white\",\"gridwidth\":2,\"linecolor\":\"white\",\"showbackground\":true,\"ticks\":\"\",\"zerolinecolor\":\"white\"},\"yaxis\":{\"backgroundcolor\":\"#E5ECF6\",\"gridcolor\":\"white\",\"gridwidth\":2,\"linecolor\":\"white\",\"showbackground\":true,\"ticks\":\"\",\"zerolinecolor\":\"white\"},\"zaxis\":{\"backgroundcolor\":\"#E5ECF6\",\"gridcolor\":\"white\",\"gridwidth\":2,\"linecolor\":\"white\",\"showbackground\":true,\"ticks\":\"\",\"zerolinecolor\":\"white\"}},\"shapedefaults\":{\"line\":{\"color\":\"#2a3f5f\"}},\"ternary\":{\"aaxis\":{\"gridcolor\":\"white\",\"linecolor\":\"white\",\"ticks\":\"\"},\"baxis\":{\"gridcolor\":\"white\",\"linecolor\":\"white\",\"ticks\":\"\"},\"bgcolor\":\"#E5ECF6\",\"caxis\":{\"gridcolor\":\"white\",\"linecolor\":\"white\",\"ticks\":\"\"}},\"title\":{\"x\":0.05},\"xaxis\":{\"automargin\":true,\"gridcolor\":\"white\",\"linecolor\":\"white\",\"ticks\":\"\",\"title\":{\"standoff\":15},\"zerolinecolor\":\"white\",\"zerolinewidth\":2},\"yaxis\":{\"automargin\":true,\"gridcolor\":\"white\",\"linecolor\":\"white\",\"ticks\":\"\",\"title\":{\"standoff\":15},\"zerolinecolor\":\"white\",\"zerolinewidth\":2}}},\"title\":{\"text\":\"Various Sector's state market against 2005 full time staff\"}},                        {\"responsive\": true}                    ).then(function(){\n",
       "                            \n",
       "var gd = document.getElementById('ff4df002-b407-4e97-92db-a434883c1cb6');\n",
       "var x = new MutationObserver(function (mutations, observer) {{\n",
       "        var display = window.getComputedStyle(gd).display;\n",
       "        if (!display || display === 'none') {{\n",
       "            console.log([gd, 'removed!']);\n",
       "            Plotly.purge(gd);\n",
       "            observer.disconnect();\n",
       "        }}\n",
       "}});\n",
       "\n",
       "// Listen for the removal of the full notebook cells\n",
       "var notebookContainer = gd.closest('#notebook-container');\n",
       "if (notebookContainer) {{\n",
       "    x.observe(notebookContainer, {childList: true});\n",
       "}}\n",
       "\n",
       "// Listen for the clearing of the current output cell\n",
       "var outputEl = gd.closest('.output');\n",
       "if (outputEl) {{\n",
       "    x.observe(outputEl, {childList: true});\n",
       "}}\n",
       "\n",
       "                        })                };                });            </script>        </div>"
      ]
     },
     "metadata": {},
     "output_type": "display_data"
    }
   ],
   "source": [
    "fig = px.sunburst(df7, path=['sector', 'market1'], values='ftstaff05', \n",
    "                  title='Various Sector\\'s state market against 2005 full time staff')\n",
    "fig.show()"
   ]
  },
  {
   "cell_type": "markdown",
   "metadata": {},
   "source": [
    "# outcome\n",
    "# Market 1\n",
    "### Yes:Marketing at state level\n",
    "### No: Not marketing at state level\n",
    "### Not Specified: Information not giving\n"
   ]
  },
  {
   "cell_type": "code",
   "execution_count": 99,
   "metadata": {},
   "outputs": [
    {
     "data": {
      "application/vnd.plotly.v1+json": {
       "config": {
        "plotlyServerURL": "https://plot.ly"
       },
       "data": [
        {
         "alignmentgroup": "True",
         "hovertemplate": "sector=%{x}<br>market1=%{y}<br>ftstaff05=%{text}<extra></extra>",
         "legendgroup": "chemicals and chemical products",
         "marker": {
          "color": "#636efa",
          "pattern": {
           "shape": ""
          }
         },
         "name": "chemicals and chemical products",
         "offsetgroup": "chemicals and chemical products",
         "orientation": "v",
         "showlegend": true,
         "text": [
          "110.0",
          "64.0",
          "120.0",
          "50.0",
          "100.0",
          "105.0",
          "7.0",
          "150.0",
          "80.0"
         ],
         "textposition": "auto",
         "type": "bar",
         "x": [
          "chemicals and chemical products",
          "chemicals and chemical products",
          "chemicals and chemical products",
          "chemicals and chemical products",
          "chemicals and chemical products",
          "chemicals and chemical products",
          "chemicals and chemical products",
          "chemicals and chemical products",
          "chemicals and chemical products"
         ],
         "xaxis": "x",
         "y": [
          "No",
          "Not Specified",
          "Not Specified",
          "Yes",
          "Yes",
          "Not Specified",
          "No",
          "Not Specified",
          "No"
         ],
         "yaxis": "y"
        },
        {
         "alignmentgroup": "True",
         "hovertemplate": "sector=%{x}<br>market1=%{y}<br>ftstaff05=%{text}<extra></extra>",
         "legendgroup": "food and beverages",
         "marker": {
          "color": "#EF553B",
          "pattern": {
           "shape": ""
          }
         },
         "name": "food and beverages",
         "offsetgroup": "food and beverages",
         "orientation": "v",
         "showlegend": true,
         "text": [
          "38.0",
          "153.0",
          "56.0",
          "100.0",
          "6.0",
          "40.0",
          "13.0",
          "26.0",
          "16.0",
          "0.0",
          "0.0",
          "369.0",
          "432.0",
          "200.0",
          "285.0",
          "200.0",
          "40.0",
          "64.0"
         ],
         "textposition": "auto",
         "type": "bar",
         "x": [
          "food and beverages",
          "food and beverages",
          "food and beverages",
          "food and beverages",
          "food and beverages",
          "food and beverages",
          "food and beverages",
          "food and beverages",
          "food and beverages",
          "food and beverages",
          "food and beverages",
          "food and beverages",
          "food and beverages",
          "food and beverages",
          "food and beverages",
          "food and beverages",
          "food and beverages",
          "food and beverages"
         ],
         "xaxis": "x",
         "y": [
          "Yes",
          "Not Specified",
          "Yes",
          "Yes",
          "Yes",
          "Yes",
          "Not Specified",
          "Not Specified",
          "Yes",
          "Yes",
          "Not Specified",
          "Yes",
          "Yes",
          "Not Specified",
          "Yes",
          "Yes",
          "Yes",
          "Not Specified"
         ],
         "yaxis": "y"
        },
        {
         "alignmentgroup": "True",
         "hovertemplate": "sector=%{x}<br>market1=%{y}<br>ftstaff05=%{text}<extra></extra>",
         "legendgroup": "Publishing, reproduction of recorded media",
         "marker": {
          "color": "#00cc96",
          "pattern": {
           "shape": ""
          }
         },
         "name": "Publishing, reproduction of recorded media",
         "offsetgroup": "Publishing, reproduction of recorded media",
         "orientation": "v",
         "showlegend": true,
         "text": [
          "59.0",
          "70.0",
          "45.0",
          "260.0"
         ],
         "textposition": "auto",
         "type": "bar",
         "x": [
          "Publishing, reproduction of recorded media",
          "Publishing, reproduction of recorded media",
          "Publishing, reproduction of recorded media",
          "Publishing, reproduction of recorded media"
         ],
         "xaxis": "x",
         "y": [
          "Not Specified",
          "Yes",
          "Yes",
          "No"
         ],
         "yaxis": "y"
        },
        {
         "alignmentgroup": "True",
         "hovertemplate": "sector=%{x}<br>market1=%{y}<br>ftstaff05=%{text}<extra></extra>",
         "legendgroup": "non metallic mineral products",
         "marker": {
          "color": "#ab63fa",
          "pattern": {
           "shape": ""
          }
         },
         "name": "non metallic mineral products",
         "offsetgroup": "non metallic mineral products",
         "orientation": "v",
         "showlegend": true,
         "text": [
          "0.0",
          "20.0"
         ],
         "textposition": "auto",
         "type": "bar",
         "x": [
          "non metallic mineral products",
          "non metallic mineral products"
         ],
         "xaxis": "x",
         "y": [
          "No",
          "Yes"
         ],
         "yaxis": "y"
        },
        {
         "alignmentgroup": "True",
         "hovertemplate": "sector=%{x}<br>market1=%{y}<br>ftstaff05=%{text}<extra></extra>",
         "legendgroup": "machinery, equipment and vehicles",
         "marker": {
          "color": "#FFA15A",
          "pattern": {
           "shape": ""
          }
         },
         "name": "machinery, equipment and vehicles",
         "offsetgroup": "machinery, equipment and vehicles",
         "orientation": "v",
         "showlegend": true,
         "text": [
          "76.0",
          "122.0"
         ],
         "textposition": "auto",
         "type": "bar",
         "x": [
          "machinery, equipment and vehicles",
          "machinery, equipment and vehicles"
         ],
         "xaxis": "x",
         "y": [
          "No",
          "Yes"
         ],
         "yaxis": "y"
        },
        {
         "alignmentgroup": "True",
         "hovertemplate": "sector=%{x}<br>market1=%{y}<br>ftstaff05=%{text}<extra></extra>",
         "legendgroup": "rubber and plastics products",
         "marker": {
          "color": "#19d3f3",
          "pattern": {
           "shape": ""
          }
         },
         "name": "rubber and plastics products",
         "offsetgroup": "rubber and plastics products",
         "orientation": "v",
         "showlegend": true,
         "text": [
          "29.0",
          "109.0",
          "15.0"
         ],
         "textposition": "auto",
         "type": "bar",
         "x": [
          "rubber and plastics products",
          "rubber and plastics products",
          "rubber and plastics products"
         ],
         "xaxis": "x",
         "y": [
          "Yes",
          "Not Specified",
          "Not Specified"
         ],
         "yaxis": "y"
        },
        {
         "alignmentgroup": "True",
         "hovertemplate": "sector=%{x}<br>market1=%{y}<br>ftstaff05=%{text}<extra></extra>",
         "legendgroup": "fabricated metal etc",
         "marker": {
          "color": "#FF6692",
          "pattern": {
           "shape": ""
          }
         },
         "name": "fabricated metal etc",
         "offsetgroup": "fabricated metal etc",
         "orientation": "v",
         "showlegend": true,
         "text": [
          "0.0",
          "68.0",
          "20.0"
         ],
         "textposition": "auto",
         "type": "bar",
         "x": [
          "fabricated metal etc",
          "fabricated metal etc",
          "fabricated metal etc"
         ],
         "xaxis": "x",
         "y": [
          "Not Specified",
          "Not Specified",
          "Yes"
         ],
         "yaxis": "y"
        },
        {
         "alignmentgroup": "True",
         "hovertemplate": "sector=%{x}<br>market1=%{y}<br>ftstaff05=%{text}<extra></extra>",
         "legendgroup": "wood and paper products etc",
         "marker": {
          "color": "#B6E880",
          "pattern": {
           "shape": ""
          }
         },
         "name": "wood and paper products etc",
         "offsetgroup": "wood and paper products etc",
         "orientation": "v",
         "showlegend": true,
         "text": [
          "384.0",
          "67.0",
          "34.0"
         ],
         "textposition": "auto",
         "type": "bar",
         "x": [
          "wood and paper products etc",
          "wood and paper products etc",
          "wood and paper products etc"
         ],
         "xaxis": "x",
         "y": [
          "Yes",
          "Not Specified",
          "Not Specified"
         ],
         "yaxis": "y"
        },
        {
         "alignmentgroup": "True",
         "hovertemplate": "sector=%{x}<br>market1=%{y}<br>ftstaff05=%{text}<extra></extra>",
         "legendgroup": "furniture",
         "marker": {
          "color": "#FF97FF",
          "pattern": {
           "shape": ""
          }
         },
         "name": "furniture",
         "offsetgroup": "furniture",
         "orientation": "v",
         "showlegend": true,
         "text": [
          "13.0",
          "547.0",
          "50.0"
         ],
         "textposition": "auto",
         "type": "bar",
         "x": [
          "furniture",
          "furniture",
          "furniture"
         ],
         "xaxis": "x",
         "y": [
          "Yes",
          "Not Specified",
          "Yes"
         ],
         "yaxis": "y"
        },
        {
         "alignmentgroup": "True",
         "hovertemplate": "sector=%{x}<br>market1=%{y}<br>ftstaff05=%{text}<extra></extra>",
         "legendgroup": "basic metals and recycling",
         "marker": {
          "color": "#FECB52",
          "pattern": {
           "shape": ""
          }
         },
         "name": "basic metals and recycling",
         "offsetgroup": "basic metals and recycling",
         "orientation": "v",
         "showlegend": true,
         "text": [
          "5.0",
          "18.0"
         ],
         "textposition": "auto",
         "type": "bar",
         "x": [
          "basic metals and recycling",
          "basic metals and recycling"
         ],
         "xaxis": "x",
         "y": [
          "Yes",
          "Yes"
         ],
         "yaxis": "y"
        },
        {
         "alignmentgroup": "True",
         "hovertemplate": "sector=%{x}<br>market1=%{y}<br>ftstaff05=%{text}<extra></extra>",
         "legendgroup": "textiles and wearing apparel",
         "marker": {
          "color": "#636efa",
          "pattern": {
           "shape": ""
          }
         },
         "name": "textiles and wearing apparel",
         "offsetgroup": "textiles and wearing apparel",
         "orientation": "v",
         "showlegend": true,
         "text": [
          "0.0"
         ],
         "textposition": "auto",
         "type": "bar",
         "x": [
          "textiles and wearing apparel"
         ],
         "xaxis": "x",
         "y": [
          "Not Specified"
         ],
         "yaxis": "y"
        }
       ],
       "layout": {
        "barmode": "relative",
        "legend": {
         "title": {
          "text": "sector"
         },
         "tracegroupgap": 0
        },
        "margin": {
         "t": 60
        },
        "template": {
         "data": {
          "bar": [
           {
            "error_x": {
             "color": "#2a3f5f"
            },
            "error_y": {
             "color": "#2a3f5f"
            },
            "marker": {
             "line": {
              "color": "#E5ECF6",
              "width": 0.5
             },
             "pattern": {
              "fillmode": "overlay",
              "size": 10,
              "solidity": 0.2
             }
            },
            "type": "bar"
           }
          ],
          "barpolar": [
           {
            "marker": {
             "line": {
              "color": "#E5ECF6",
              "width": 0.5
             },
             "pattern": {
              "fillmode": "overlay",
              "size": 10,
              "solidity": 0.2
             }
            },
            "type": "barpolar"
           }
          ],
          "carpet": [
           {
            "aaxis": {
             "endlinecolor": "#2a3f5f",
             "gridcolor": "white",
             "linecolor": "white",
             "minorgridcolor": "white",
             "startlinecolor": "#2a3f5f"
            },
            "baxis": {
             "endlinecolor": "#2a3f5f",
             "gridcolor": "white",
             "linecolor": "white",
             "minorgridcolor": "white",
             "startlinecolor": "#2a3f5f"
            },
            "type": "carpet"
           }
          ],
          "choropleth": [
           {
            "colorbar": {
             "outlinewidth": 0,
             "ticks": ""
            },
            "type": "choropleth"
           }
          ],
          "contour": [
           {
            "colorbar": {
             "outlinewidth": 0,
             "ticks": ""
            },
            "colorscale": [
             [
              0,
              "#0d0887"
             ],
             [
              0.1111111111111111,
              "#46039f"
             ],
             [
              0.2222222222222222,
              "#7201a8"
             ],
             [
              0.3333333333333333,
              "#9c179e"
             ],
             [
              0.4444444444444444,
              "#bd3786"
             ],
             [
              0.5555555555555556,
              "#d8576b"
             ],
             [
              0.6666666666666666,
              "#ed7953"
             ],
             [
              0.7777777777777778,
              "#fb9f3a"
             ],
             [
              0.8888888888888888,
              "#fdca26"
             ],
             [
              1,
              "#f0f921"
             ]
            ],
            "type": "contour"
           }
          ],
          "contourcarpet": [
           {
            "colorbar": {
             "outlinewidth": 0,
             "ticks": ""
            },
            "type": "contourcarpet"
           }
          ],
          "heatmap": [
           {
            "colorbar": {
             "outlinewidth": 0,
             "ticks": ""
            },
            "colorscale": [
             [
              0,
              "#0d0887"
             ],
             [
              0.1111111111111111,
              "#46039f"
             ],
             [
              0.2222222222222222,
              "#7201a8"
             ],
             [
              0.3333333333333333,
              "#9c179e"
             ],
             [
              0.4444444444444444,
              "#bd3786"
             ],
             [
              0.5555555555555556,
              "#d8576b"
             ],
             [
              0.6666666666666666,
              "#ed7953"
             ],
             [
              0.7777777777777778,
              "#fb9f3a"
             ],
             [
              0.8888888888888888,
              "#fdca26"
             ],
             [
              1,
              "#f0f921"
             ]
            ],
            "type": "heatmap"
           }
          ],
          "heatmapgl": [
           {
            "colorbar": {
             "outlinewidth": 0,
             "ticks": ""
            },
            "colorscale": [
             [
              0,
              "#0d0887"
             ],
             [
              0.1111111111111111,
              "#46039f"
             ],
             [
              0.2222222222222222,
              "#7201a8"
             ],
             [
              0.3333333333333333,
              "#9c179e"
             ],
             [
              0.4444444444444444,
              "#bd3786"
             ],
             [
              0.5555555555555556,
              "#d8576b"
             ],
             [
              0.6666666666666666,
              "#ed7953"
             ],
             [
              0.7777777777777778,
              "#fb9f3a"
             ],
             [
              0.8888888888888888,
              "#fdca26"
             ],
             [
              1,
              "#f0f921"
             ]
            ],
            "type": "heatmapgl"
           }
          ],
          "histogram": [
           {
            "marker": {
             "pattern": {
              "fillmode": "overlay",
              "size": 10,
              "solidity": 0.2
             }
            },
            "type": "histogram"
           }
          ],
          "histogram2d": [
           {
            "colorbar": {
             "outlinewidth": 0,
             "ticks": ""
            },
            "colorscale": [
             [
              0,
              "#0d0887"
             ],
             [
              0.1111111111111111,
              "#46039f"
             ],
             [
              0.2222222222222222,
              "#7201a8"
             ],
             [
              0.3333333333333333,
              "#9c179e"
             ],
             [
              0.4444444444444444,
              "#bd3786"
             ],
             [
              0.5555555555555556,
              "#d8576b"
             ],
             [
              0.6666666666666666,
              "#ed7953"
             ],
             [
              0.7777777777777778,
              "#fb9f3a"
             ],
             [
              0.8888888888888888,
              "#fdca26"
             ],
             [
              1,
              "#f0f921"
             ]
            ],
            "type": "histogram2d"
           }
          ],
          "histogram2dcontour": [
           {
            "colorbar": {
             "outlinewidth": 0,
             "ticks": ""
            },
            "colorscale": [
             [
              0,
              "#0d0887"
             ],
             [
              0.1111111111111111,
              "#46039f"
             ],
             [
              0.2222222222222222,
              "#7201a8"
             ],
             [
              0.3333333333333333,
              "#9c179e"
             ],
             [
              0.4444444444444444,
              "#bd3786"
             ],
             [
              0.5555555555555556,
              "#d8576b"
             ],
             [
              0.6666666666666666,
              "#ed7953"
             ],
             [
              0.7777777777777778,
              "#fb9f3a"
             ],
             [
              0.8888888888888888,
              "#fdca26"
             ],
             [
              1,
              "#f0f921"
             ]
            ],
            "type": "histogram2dcontour"
           }
          ],
          "mesh3d": [
           {
            "colorbar": {
             "outlinewidth": 0,
             "ticks": ""
            },
            "type": "mesh3d"
           }
          ],
          "parcoords": [
           {
            "line": {
             "colorbar": {
              "outlinewidth": 0,
              "ticks": ""
             }
            },
            "type": "parcoords"
           }
          ],
          "pie": [
           {
            "automargin": true,
            "type": "pie"
           }
          ],
          "scatter": [
           {
            "marker": {
             "colorbar": {
              "outlinewidth": 0,
              "ticks": ""
             }
            },
            "type": "scatter"
           }
          ],
          "scatter3d": [
           {
            "line": {
             "colorbar": {
              "outlinewidth": 0,
              "ticks": ""
             }
            },
            "marker": {
             "colorbar": {
              "outlinewidth": 0,
              "ticks": ""
             }
            },
            "type": "scatter3d"
           }
          ],
          "scattercarpet": [
           {
            "marker": {
             "colorbar": {
              "outlinewidth": 0,
              "ticks": ""
             }
            },
            "type": "scattercarpet"
           }
          ],
          "scattergeo": [
           {
            "marker": {
             "colorbar": {
              "outlinewidth": 0,
              "ticks": ""
             }
            },
            "type": "scattergeo"
           }
          ],
          "scattergl": [
           {
            "marker": {
             "colorbar": {
              "outlinewidth": 0,
              "ticks": ""
             }
            },
            "type": "scattergl"
           }
          ],
          "scattermapbox": [
           {
            "marker": {
             "colorbar": {
              "outlinewidth": 0,
              "ticks": ""
             }
            },
            "type": "scattermapbox"
           }
          ],
          "scatterpolar": [
           {
            "marker": {
             "colorbar": {
              "outlinewidth": 0,
              "ticks": ""
             }
            },
            "type": "scatterpolar"
           }
          ],
          "scatterpolargl": [
           {
            "marker": {
             "colorbar": {
              "outlinewidth": 0,
              "ticks": ""
             }
            },
            "type": "scatterpolargl"
           }
          ],
          "scatterternary": [
           {
            "marker": {
             "colorbar": {
              "outlinewidth": 0,
              "ticks": ""
             }
            },
            "type": "scatterternary"
           }
          ],
          "surface": [
           {
            "colorbar": {
             "outlinewidth": 0,
             "ticks": ""
            },
            "colorscale": [
             [
              0,
              "#0d0887"
             ],
             [
              0.1111111111111111,
              "#46039f"
             ],
             [
              0.2222222222222222,
              "#7201a8"
             ],
             [
              0.3333333333333333,
              "#9c179e"
             ],
             [
              0.4444444444444444,
              "#bd3786"
             ],
             [
              0.5555555555555556,
              "#d8576b"
             ],
             [
              0.6666666666666666,
              "#ed7953"
             ],
             [
              0.7777777777777778,
              "#fb9f3a"
             ],
             [
              0.8888888888888888,
              "#fdca26"
             ],
             [
              1,
              "#f0f921"
             ]
            ],
            "type": "surface"
           }
          ],
          "table": [
           {
            "cells": {
             "fill": {
              "color": "#EBF0F8"
             },
             "line": {
              "color": "white"
             }
            },
            "header": {
             "fill": {
              "color": "#C8D4E3"
             },
             "line": {
              "color": "white"
             }
            },
            "type": "table"
           }
          ]
         },
         "layout": {
          "annotationdefaults": {
           "arrowcolor": "#2a3f5f",
           "arrowhead": 0,
           "arrowwidth": 1
          },
          "autotypenumbers": "strict",
          "coloraxis": {
           "colorbar": {
            "outlinewidth": 0,
            "ticks": ""
           }
          },
          "colorscale": {
           "diverging": [
            [
             0,
             "#8e0152"
            ],
            [
             0.1,
             "#c51b7d"
            ],
            [
             0.2,
             "#de77ae"
            ],
            [
             0.3,
             "#f1b6da"
            ],
            [
             0.4,
             "#fde0ef"
            ],
            [
             0.5,
             "#f7f7f7"
            ],
            [
             0.6,
             "#e6f5d0"
            ],
            [
             0.7,
             "#b8e186"
            ],
            [
             0.8,
             "#7fbc41"
            ],
            [
             0.9,
             "#4d9221"
            ],
            [
             1,
             "#276419"
            ]
           ],
           "sequential": [
            [
             0,
             "#0d0887"
            ],
            [
             0.1111111111111111,
             "#46039f"
            ],
            [
             0.2222222222222222,
             "#7201a8"
            ],
            [
             0.3333333333333333,
             "#9c179e"
            ],
            [
             0.4444444444444444,
             "#bd3786"
            ],
            [
             0.5555555555555556,
             "#d8576b"
            ],
            [
             0.6666666666666666,
             "#ed7953"
            ],
            [
             0.7777777777777778,
             "#fb9f3a"
            ],
            [
             0.8888888888888888,
             "#fdca26"
            ],
            [
             1,
             "#f0f921"
            ]
           ],
           "sequentialminus": [
            [
             0,
             "#0d0887"
            ],
            [
             0.1111111111111111,
             "#46039f"
            ],
            [
             0.2222222222222222,
             "#7201a8"
            ],
            [
             0.3333333333333333,
             "#9c179e"
            ],
            [
             0.4444444444444444,
             "#bd3786"
            ],
            [
             0.5555555555555556,
             "#d8576b"
            ],
            [
             0.6666666666666666,
             "#ed7953"
            ],
            [
             0.7777777777777778,
             "#fb9f3a"
            ],
            [
             0.8888888888888888,
             "#fdca26"
            ],
            [
             1,
             "#f0f921"
            ]
           ]
          },
          "colorway": [
           "#636efa",
           "#EF553B",
           "#00cc96",
           "#ab63fa",
           "#FFA15A",
           "#19d3f3",
           "#FF6692",
           "#B6E880",
           "#FF97FF",
           "#FECB52"
          ],
          "font": {
           "color": "#2a3f5f"
          },
          "geo": {
           "bgcolor": "white",
           "lakecolor": "white",
           "landcolor": "#E5ECF6",
           "showlakes": true,
           "showland": true,
           "subunitcolor": "white"
          },
          "hoverlabel": {
           "align": "left"
          },
          "hovermode": "closest",
          "mapbox": {
           "style": "light"
          },
          "paper_bgcolor": "white",
          "plot_bgcolor": "#E5ECF6",
          "polar": {
           "angularaxis": {
            "gridcolor": "white",
            "linecolor": "white",
            "ticks": ""
           },
           "bgcolor": "#E5ECF6",
           "radialaxis": {
            "gridcolor": "white",
            "linecolor": "white",
            "ticks": ""
           }
          },
          "scene": {
           "xaxis": {
            "backgroundcolor": "#E5ECF6",
            "gridcolor": "white",
            "gridwidth": 2,
            "linecolor": "white",
            "showbackground": true,
            "ticks": "",
            "zerolinecolor": "white"
           },
           "yaxis": {
            "backgroundcolor": "#E5ECF6",
            "gridcolor": "white",
            "gridwidth": 2,
            "linecolor": "white",
            "showbackground": true,
            "ticks": "",
            "zerolinecolor": "white"
           },
           "zaxis": {
            "backgroundcolor": "#E5ECF6",
            "gridcolor": "white",
            "gridwidth": 2,
            "linecolor": "white",
            "showbackground": true,
            "ticks": "",
            "zerolinecolor": "white"
           }
          },
          "shapedefaults": {
           "line": {
            "color": "#2a3f5f"
           }
          },
          "ternary": {
           "aaxis": {
            "gridcolor": "white",
            "linecolor": "white",
            "ticks": ""
           },
           "baxis": {
            "gridcolor": "white",
            "linecolor": "white",
            "ticks": ""
           },
           "bgcolor": "#E5ECF6",
           "caxis": {
            "gridcolor": "white",
            "linecolor": "white",
            "ticks": ""
           }
          },
          "title": {
           "x": 0.05
          },
          "xaxis": {
           "automargin": true,
           "gridcolor": "white",
           "linecolor": "white",
           "ticks": "",
           "title": {
            "standoff": 15
           },
           "zerolinecolor": "white",
           "zerolinewidth": 2
          },
          "yaxis": {
           "automargin": true,
           "gridcolor": "white",
           "linecolor": "white",
           "ticks": "",
           "title": {
            "standoff": 15
           },
           "zerolinecolor": "white",
           "zerolinewidth": 2
          }
         }
        },
        "xaxis": {
         "anchor": "y",
         "categoryarray": [
          "chemicals and chemical products",
          "food and beverages",
          "Publishing, reproduction of recorded media",
          "non metallic mineral products",
          "machinery, equipment and vehicles",
          "rubber and plastics products",
          "fabricated metal etc",
          "wood and paper products etc",
          "furniture",
          "basic metals and recycling",
          "textiles and wearing apparel"
         ],
         "categoryorder": "array",
         "domain": [
          0,
          1
         ],
         "title": {
          "text": "sector"
         }
        },
        "yaxis": {
         "anchor": "x",
         "domain": [
          0,
          1
         ],
         "title": {
          "text": "market1"
         }
        }
       }
      },
      "text/html": [
       "<div>                            <div id=\"74ec2478-ae0c-4363-acd8-fdfe5d32362a\" class=\"plotly-graph-div\" style=\"height:525px; width:100%;\"></div>            <script type=\"text/javascript\">                require([\"plotly\"], function(Plotly) {                    window.PLOTLYENV=window.PLOTLYENV || {};                                    if (document.getElementById(\"74ec2478-ae0c-4363-acd8-fdfe5d32362a\")) {                    Plotly.newPlot(                        \"74ec2478-ae0c-4363-acd8-fdfe5d32362a\",                        [{\"alignmentgroup\":\"True\",\"hovertemplate\":\"sector=%{x}<br>market1=%{y}<br>ftstaff05=%{text}<extra></extra>\",\"legendgroup\":\"chemicals and chemical products\",\"marker\":{\"color\":\"#636efa\",\"pattern\":{\"shape\":\"\"}},\"name\":\"chemicals and chemical products\",\"offsetgroup\":\"chemicals and chemical products\",\"orientation\":\"v\",\"showlegend\":true,\"text\":[\"110.0\",\"64.0\",\"120.0\",\"50.0\",\"100.0\",\"105.0\",\"7.0\",\"150.0\",\"80.0\"],\"textposition\":\"auto\",\"type\":\"bar\",\"x\":[\"chemicals and chemical products\",\"chemicals and chemical products\",\"chemicals and chemical products\",\"chemicals and chemical products\",\"chemicals and chemical products\",\"chemicals and chemical products\",\"chemicals and chemical products\",\"chemicals and chemical products\",\"chemicals and chemical products\"],\"xaxis\":\"x\",\"y\":[\"No\",\"Not Specified\",\"Not Specified\",\"Yes\",\"Yes\",\"Not Specified\",\"No\",\"Not Specified\",\"No\"],\"yaxis\":\"y\"},{\"alignmentgroup\":\"True\",\"hovertemplate\":\"sector=%{x}<br>market1=%{y}<br>ftstaff05=%{text}<extra></extra>\",\"legendgroup\":\"food and beverages\",\"marker\":{\"color\":\"#EF553B\",\"pattern\":{\"shape\":\"\"}},\"name\":\"food and beverages\",\"offsetgroup\":\"food and beverages\",\"orientation\":\"v\",\"showlegend\":true,\"text\":[\"38.0\",\"153.0\",\"56.0\",\"100.0\",\"6.0\",\"40.0\",\"13.0\",\"26.0\",\"16.0\",\"0.0\",\"0.0\",\"369.0\",\"432.0\",\"200.0\",\"285.0\",\"200.0\",\"40.0\",\"64.0\"],\"textposition\":\"auto\",\"type\":\"bar\",\"x\":[\"food and beverages\",\"food and beverages\",\"food and beverages\",\"food and beverages\",\"food and beverages\",\"food and beverages\",\"food and beverages\",\"food and beverages\",\"food and beverages\",\"food and beverages\",\"food and beverages\",\"food and beverages\",\"food and beverages\",\"food and beverages\",\"food and beverages\",\"food and beverages\",\"food and beverages\",\"food and beverages\"],\"xaxis\":\"x\",\"y\":[\"Yes\",\"Not Specified\",\"Yes\",\"Yes\",\"Yes\",\"Yes\",\"Not Specified\",\"Not Specified\",\"Yes\",\"Yes\",\"Not Specified\",\"Yes\",\"Yes\",\"Not Specified\",\"Yes\",\"Yes\",\"Yes\",\"Not Specified\"],\"yaxis\":\"y\"},{\"alignmentgroup\":\"True\",\"hovertemplate\":\"sector=%{x}<br>market1=%{y}<br>ftstaff05=%{text}<extra></extra>\",\"legendgroup\":\"Publishing, reproduction of recorded media\",\"marker\":{\"color\":\"#00cc96\",\"pattern\":{\"shape\":\"\"}},\"name\":\"Publishing, reproduction of recorded media\",\"offsetgroup\":\"Publishing, reproduction of recorded media\",\"orientation\":\"v\",\"showlegend\":true,\"text\":[\"59.0\",\"70.0\",\"45.0\",\"260.0\"],\"textposition\":\"auto\",\"type\":\"bar\",\"x\":[\"Publishing, reproduction of recorded media\",\"Publishing, reproduction of recorded media\",\"Publishing, reproduction of recorded media\",\"Publishing, reproduction of recorded media\"],\"xaxis\":\"x\",\"y\":[\"Not Specified\",\"Yes\",\"Yes\",\"No\"],\"yaxis\":\"y\"},{\"alignmentgroup\":\"True\",\"hovertemplate\":\"sector=%{x}<br>market1=%{y}<br>ftstaff05=%{text}<extra></extra>\",\"legendgroup\":\"non metallic mineral products\",\"marker\":{\"color\":\"#ab63fa\",\"pattern\":{\"shape\":\"\"}},\"name\":\"non metallic mineral products\",\"offsetgroup\":\"non metallic mineral products\",\"orientation\":\"v\",\"showlegend\":true,\"text\":[\"0.0\",\"20.0\"],\"textposition\":\"auto\",\"type\":\"bar\",\"x\":[\"non metallic mineral products\",\"non metallic mineral products\"],\"xaxis\":\"x\",\"y\":[\"No\",\"Yes\"],\"yaxis\":\"y\"},{\"alignmentgroup\":\"True\",\"hovertemplate\":\"sector=%{x}<br>market1=%{y}<br>ftstaff05=%{text}<extra></extra>\",\"legendgroup\":\"machinery, equipment and vehicles\",\"marker\":{\"color\":\"#FFA15A\",\"pattern\":{\"shape\":\"\"}},\"name\":\"machinery, equipment and vehicles\",\"offsetgroup\":\"machinery, equipment and vehicles\",\"orientation\":\"v\",\"showlegend\":true,\"text\":[\"76.0\",\"122.0\"],\"textposition\":\"auto\",\"type\":\"bar\",\"x\":[\"machinery, equipment and vehicles\",\"machinery, equipment and vehicles\"],\"xaxis\":\"x\",\"y\":[\"No\",\"Yes\"],\"yaxis\":\"y\"},{\"alignmentgroup\":\"True\",\"hovertemplate\":\"sector=%{x}<br>market1=%{y}<br>ftstaff05=%{text}<extra></extra>\",\"legendgroup\":\"rubber and plastics products\",\"marker\":{\"color\":\"#19d3f3\",\"pattern\":{\"shape\":\"\"}},\"name\":\"rubber and plastics products\",\"offsetgroup\":\"rubber and plastics products\",\"orientation\":\"v\",\"showlegend\":true,\"text\":[\"29.0\",\"109.0\",\"15.0\"],\"textposition\":\"auto\",\"type\":\"bar\",\"x\":[\"rubber and plastics products\",\"rubber and plastics products\",\"rubber and plastics products\"],\"xaxis\":\"x\",\"y\":[\"Yes\",\"Not Specified\",\"Not Specified\"],\"yaxis\":\"y\"},{\"alignmentgroup\":\"True\",\"hovertemplate\":\"sector=%{x}<br>market1=%{y}<br>ftstaff05=%{text}<extra></extra>\",\"legendgroup\":\"fabricated metal etc\",\"marker\":{\"color\":\"#FF6692\",\"pattern\":{\"shape\":\"\"}},\"name\":\"fabricated metal etc\",\"offsetgroup\":\"fabricated metal etc\",\"orientation\":\"v\",\"showlegend\":true,\"text\":[\"0.0\",\"68.0\",\"20.0\"],\"textposition\":\"auto\",\"type\":\"bar\",\"x\":[\"fabricated metal etc\",\"fabricated metal etc\",\"fabricated metal etc\"],\"xaxis\":\"x\",\"y\":[\"Not Specified\",\"Not Specified\",\"Yes\"],\"yaxis\":\"y\"},{\"alignmentgroup\":\"True\",\"hovertemplate\":\"sector=%{x}<br>market1=%{y}<br>ftstaff05=%{text}<extra></extra>\",\"legendgroup\":\"wood and paper products etc\",\"marker\":{\"color\":\"#B6E880\",\"pattern\":{\"shape\":\"\"}},\"name\":\"wood and paper products etc\",\"offsetgroup\":\"wood and paper products etc\",\"orientation\":\"v\",\"showlegend\":true,\"text\":[\"384.0\",\"67.0\",\"34.0\"],\"textposition\":\"auto\",\"type\":\"bar\",\"x\":[\"wood and paper products etc\",\"wood and paper products etc\",\"wood and paper products etc\"],\"xaxis\":\"x\",\"y\":[\"Yes\",\"Not Specified\",\"Not Specified\"],\"yaxis\":\"y\"},{\"alignmentgroup\":\"True\",\"hovertemplate\":\"sector=%{x}<br>market1=%{y}<br>ftstaff05=%{text}<extra></extra>\",\"legendgroup\":\"furniture\",\"marker\":{\"color\":\"#FF97FF\",\"pattern\":{\"shape\":\"\"}},\"name\":\"furniture\",\"offsetgroup\":\"furniture\",\"orientation\":\"v\",\"showlegend\":true,\"text\":[\"13.0\",\"547.0\",\"50.0\"],\"textposition\":\"auto\",\"type\":\"bar\",\"x\":[\"furniture\",\"furniture\",\"furniture\"],\"xaxis\":\"x\",\"y\":[\"Yes\",\"Not Specified\",\"Yes\"],\"yaxis\":\"y\"},{\"alignmentgroup\":\"True\",\"hovertemplate\":\"sector=%{x}<br>market1=%{y}<br>ftstaff05=%{text}<extra></extra>\",\"legendgroup\":\"basic metals and recycling\",\"marker\":{\"color\":\"#FECB52\",\"pattern\":{\"shape\":\"\"}},\"name\":\"basic metals and recycling\",\"offsetgroup\":\"basic metals and recycling\",\"orientation\":\"v\",\"showlegend\":true,\"text\":[\"5.0\",\"18.0\"],\"textposition\":\"auto\",\"type\":\"bar\",\"x\":[\"basic metals and recycling\",\"basic metals and recycling\"],\"xaxis\":\"x\",\"y\":[\"Yes\",\"Yes\"],\"yaxis\":\"y\"},{\"alignmentgroup\":\"True\",\"hovertemplate\":\"sector=%{x}<br>market1=%{y}<br>ftstaff05=%{text}<extra></extra>\",\"legendgroup\":\"textiles and wearing apparel\",\"marker\":{\"color\":\"#636efa\",\"pattern\":{\"shape\":\"\"}},\"name\":\"textiles and wearing apparel\",\"offsetgroup\":\"textiles and wearing apparel\",\"orientation\":\"v\",\"showlegend\":true,\"text\":[\"0.0\"],\"textposition\":\"auto\",\"type\":\"bar\",\"x\":[\"textiles and wearing apparel\"],\"xaxis\":\"x\",\"y\":[\"Not Specified\"],\"yaxis\":\"y\"}],                        {\"barmode\":\"relative\",\"legend\":{\"title\":{\"text\":\"sector\"},\"tracegroupgap\":0},\"margin\":{\"t\":60},\"template\":{\"data\":{\"bar\":[{\"error_x\":{\"color\":\"#2a3f5f\"},\"error_y\":{\"color\":\"#2a3f5f\"},\"marker\":{\"line\":{\"color\":\"#E5ECF6\",\"width\":0.5},\"pattern\":{\"fillmode\":\"overlay\",\"size\":10,\"solidity\":0.2}},\"type\":\"bar\"}],\"barpolar\":[{\"marker\":{\"line\":{\"color\":\"#E5ECF6\",\"width\":0.5},\"pattern\":{\"fillmode\":\"overlay\",\"size\":10,\"solidity\":0.2}},\"type\":\"barpolar\"}],\"carpet\":[{\"aaxis\":{\"endlinecolor\":\"#2a3f5f\",\"gridcolor\":\"white\",\"linecolor\":\"white\",\"minorgridcolor\":\"white\",\"startlinecolor\":\"#2a3f5f\"},\"baxis\":{\"endlinecolor\":\"#2a3f5f\",\"gridcolor\":\"white\",\"linecolor\":\"white\",\"minorgridcolor\":\"white\",\"startlinecolor\":\"#2a3f5f\"},\"type\":\"carpet\"}],\"choropleth\":[{\"colorbar\":{\"outlinewidth\":0,\"ticks\":\"\"},\"type\":\"choropleth\"}],\"contour\":[{\"colorbar\":{\"outlinewidth\":0,\"ticks\":\"\"},\"colorscale\":[[0.0,\"#0d0887\"],[0.1111111111111111,\"#46039f\"],[0.2222222222222222,\"#7201a8\"],[0.3333333333333333,\"#9c179e\"],[0.4444444444444444,\"#bd3786\"],[0.5555555555555556,\"#d8576b\"],[0.6666666666666666,\"#ed7953\"],[0.7777777777777778,\"#fb9f3a\"],[0.8888888888888888,\"#fdca26\"],[1.0,\"#f0f921\"]],\"type\":\"contour\"}],\"contourcarpet\":[{\"colorbar\":{\"outlinewidth\":0,\"ticks\":\"\"},\"type\":\"contourcarpet\"}],\"heatmap\":[{\"colorbar\":{\"outlinewidth\":0,\"ticks\":\"\"},\"colorscale\":[[0.0,\"#0d0887\"],[0.1111111111111111,\"#46039f\"],[0.2222222222222222,\"#7201a8\"],[0.3333333333333333,\"#9c179e\"],[0.4444444444444444,\"#bd3786\"],[0.5555555555555556,\"#d8576b\"],[0.6666666666666666,\"#ed7953\"],[0.7777777777777778,\"#fb9f3a\"],[0.8888888888888888,\"#fdca26\"],[1.0,\"#f0f921\"]],\"type\":\"heatmap\"}],\"heatmapgl\":[{\"colorbar\":{\"outlinewidth\":0,\"ticks\":\"\"},\"colorscale\":[[0.0,\"#0d0887\"],[0.1111111111111111,\"#46039f\"],[0.2222222222222222,\"#7201a8\"],[0.3333333333333333,\"#9c179e\"],[0.4444444444444444,\"#bd3786\"],[0.5555555555555556,\"#d8576b\"],[0.6666666666666666,\"#ed7953\"],[0.7777777777777778,\"#fb9f3a\"],[0.8888888888888888,\"#fdca26\"],[1.0,\"#f0f921\"]],\"type\":\"heatmapgl\"}],\"histogram\":[{\"marker\":{\"pattern\":{\"fillmode\":\"overlay\",\"size\":10,\"solidity\":0.2}},\"type\":\"histogram\"}],\"histogram2d\":[{\"colorbar\":{\"outlinewidth\":0,\"ticks\":\"\"},\"colorscale\":[[0.0,\"#0d0887\"],[0.1111111111111111,\"#46039f\"],[0.2222222222222222,\"#7201a8\"],[0.3333333333333333,\"#9c179e\"],[0.4444444444444444,\"#bd3786\"],[0.5555555555555556,\"#d8576b\"],[0.6666666666666666,\"#ed7953\"],[0.7777777777777778,\"#fb9f3a\"],[0.8888888888888888,\"#fdca26\"],[1.0,\"#f0f921\"]],\"type\":\"histogram2d\"}],\"histogram2dcontour\":[{\"colorbar\":{\"outlinewidth\":0,\"ticks\":\"\"},\"colorscale\":[[0.0,\"#0d0887\"],[0.1111111111111111,\"#46039f\"],[0.2222222222222222,\"#7201a8\"],[0.3333333333333333,\"#9c179e\"],[0.4444444444444444,\"#bd3786\"],[0.5555555555555556,\"#d8576b\"],[0.6666666666666666,\"#ed7953\"],[0.7777777777777778,\"#fb9f3a\"],[0.8888888888888888,\"#fdca26\"],[1.0,\"#f0f921\"]],\"type\":\"histogram2dcontour\"}],\"mesh3d\":[{\"colorbar\":{\"outlinewidth\":0,\"ticks\":\"\"},\"type\":\"mesh3d\"}],\"parcoords\":[{\"line\":{\"colorbar\":{\"outlinewidth\":0,\"ticks\":\"\"}},\"type\":\"parcoords\"}],\"pie\":[{\"automargin\":true,\"type\":\"pie\"}],\"scatter\":[{\"marker\":{\"colorbar\":{\"outlinewidth\":0,\"ticks\":\"\"}},\"type\":\"scatter\"}],\"scatter3d\":[{\"line\":{\"colorbar\":{\"outlinewidth\":0,\"ticks\":\"\"}},\"marker\":{\"colorbar\":{\"outlinewidth\":0,\"ticks\":\"\"}},\"type\":\"scatter3d\"}],\"scattercarpet\":[{\"marker\":{\"colorbar\":{\"outlinewidth\":0,\"ticks\":\"\"}},\"type\":\"scattercarpet\"}],\"scattergeo\":[{\"marker\":{\"colorbar\":{\"outlinewidth\":0,\"ticks\":\"\"}},\"type\":\"scattergeo\"}],\"scattergl\":[{\"marker\":{\"colorbar\":{\"outlinewidth\":0,\"ticks\":\"\"}},\"type\":\"scattergl\"}],\"scattermapbox\":[{\"marker\":{\"colorbar\":{\"outlinewidth\":0,\"ticks\":\"\"}},\"type\":\"scattermapbox\"}],\"scatterpolar\":[{\"marker\":{\"colorbar\":{\"outlinewidth\":0,\"ticks\":\"\"}},\"type\":\"scatterpolar\"}],\"scatterpolargl\":[{\"marker\":{\"colorbar\":{\"outlinewidth\":0,\"ticks\":\"\"}},\"type\":\"scatterpolargl\"}],\"scatterternary\":[{\"marker\":{\"colorbar\":{\"outlinewidth\":0,\"ticks\":\"\"}},\"type\":\"scatterternary\"}],\"surface\":[{\"colorbar\":{\"outlinewidth\":0,\"ticks\":\"\"},\"colorscale\":[[0.0,\"#0d0887\"],[0.1111111111111111,\"#46039f\"],[0.2222222222222222,\"#7201a8\"],[0.3333333333333333,\"#9c179e\"],[0.4444444444444444,\"#bd3786\"],[0.5555555555555556,\"#d8576b\"],[0.6666666666666666,\"#ed7953\"],[0.7777777777777778,\"#fb9f3a\"],[0.8888888888888888,\"#fdca26\"],[1.0,\"#f0f921\"]],\"type\":\"surface\"}],\"table\":[{\"cells\":{\"fill\":{\"color\":\"#EBF0F8\"},\"line\":{\"color\":\"white\"}},\"header\":{\"fill\":{\"color\":\"#C8D4E3\"},\"line\":{\"color\":\"white\"}},\"type\":\"table\"}]},\"layout\":{\"annotationdefaults\":{\"arrowcolor\":\"#2a3f5f\",\"arrowhead\":0,\"arrowwidth\":1},\"autotypenumbers\":\"strict\",\"coloraxis\":{\"colorbar\":{\"outlinewidth\":0,\"ticks\":\"\"}},\"colorscale\":{\"diverging\":[[0,\"#8e0152\"],[0.1,\"#c51b7d\"],[0.2,\"#de77ae\"],[0.3,\"#f1b6da\"],[0.4,\"#fde0ef\"],[0.5,\"#f7f7f7\"],[0.6,\"#e6f5d0\"],[0.7,\"#b8e186\"],[0.8,\"#7fbc41\"],[0.9,\"#4d9221\"],[1,\"#276419\"]],\"sequential\":[[0.0,\"#0d0887\"],[0.1111111111111111,\"#46039f\"],[0.2222222222222222,\"#7201a8\"],[0.3333333333333333,\"#9c179e\"],[0.4444444444444444,\"#bd3786\"],[0.5555555555555556,\"#d8576b\"],[0.6666666666666666,\"#ed7953\"],[0.7777777777777778,\"#fb9f3a\"],[0.8888888888888888,\"#fdca26\"],[1.0,\"#f0f921\"]],\"sequentialminus\":[[0.0,\"#0d0887\"],[0.1111111111111111,\"#46039f\"],[0.2222222222222222,\"#7201a8\"],[0.3333333333333333,\"#9c179e\"],[0.4444444444444444,\"#bd3786\"],[0.5555555555555556,\"#d8576b\"],[0.6666666666666666,\"#ed7953\"],[0.7777777777777778,\"#fb9f3a\"],[0.8888888888888888,\"#fdca26\"],[1.0,\"#f0f921\"]]},\"colorway\":[\"#636efa\",\"#EF553B\",\"#00cc96\",\"#ab63fa\",\"#FFA15A\",\"#19d3f3\",\"#FF6692\",\"#B6E880\",\"#FF97FF\",\"#FECB52\"],\"font\":{\"color\":\"#2a3f5f\"},\"geo\":{\"bgcolor\":\"white\",\"lakecolor\":\"white\",\"landcolor\":\"#E5ECF6\",\"showlakes\":true,\"showland\":true,\"subunitcolor\":\"white\"},\"hoverlabel\":{\"align\":\"left\"},\"hovermode\":\"closest\",\"mapbox\":{\"style\":\"light\"},\"paper_bgcolor\":\"white\",\"plot_bgcolor\":\"#E5ECF6\",\"polar\":{\"angularaxis\":{\"gridcolor\":\"white\",\"linecolor\":\"white\",\"ticks\":\"\"},\"bgcolor\":\"#E5ECF6\",\"radialaxis\":{\"gridcolor\":\"white\",\"linecolor\":\"white\",\"ticks\":\"\"}},\"scene\":{\"xaxis\":{\"backgroundcolor\":\"#E5ECF6\",\"gridcolor\":\"white\",\"gridwidth\":2,\"linecolor\":\"white\",\"showbackground\":true,\"ticks\":\"\",\"zerolinecolor\":\"white\"},\"yaxis\":{\"backgroundcolor\":\"#E5ECF6\",\"gridcolor\":\"white\",\"gridwidth\":2,\"linecolor\":\"white\",\"showbackground\":true,\"ticks\":\"\",\"zerolinecolor\":\"white\"},\"zaxis\":{\"backgroundcolor\":\"#E5ECF6\",\"gridcolor\":\"white\",\"gridwidth\":2,\"linecolor\":\"white\",\"showbackground\":true,\"ticks\":\"\",\"zerolinecolor\":\"white\"}},\"shapedefaults\":{\"line\":{\"color\":\"#2a3f5f\"}},\"ternary\":{\"aaxis\":{\"gridcolor\":\"white\",\"linecolor\":\"white\",\"ticks\":\"\"},\"baxis\":{\"gridcolor\":\"white\",\"linecolor\":\"white\",\"ticks\":\"\"},\"bgcolor\":\"#E5ECF6\",\"caxis\":{\"gridcolor\":\"white\",\"linecolor\":\"white\",\"ticks\":\"\"}},\"title\":{\"x\":0.05},\"xaxis\":{\"automargin\":true,\"gridcolor\":\"white\",\"linecolor\":\"white\",\"ticks\":\"\",\"title\":{\"standoff\":15},\"zerolinecolor\":\"white\",\"zerolinewidth\":2},\"yaxis\":{\"automargin\":true,\"gridcolor\":\"white\",\"linecolor\":\"white\",\"ticks\":\"\",\"title\":{\"standoff\":15},\"zerolinecolor\":\"white\",\"zerolinewidth\":2}}},\"xaxis\":{\"anchor\":\"y\",\"categoryarray\":[\"chemicals and chemical products\",\"food and beverages\",\"Publishing, reproduction of recorded media\",\"non metallic mineral products\",\"machinery, equipment and vehicles\",\"rubber and plastics products\",\"fabricated metal etc\",\"wood and paper products etc\",\"furniture\",\"basic metals and recycling\",\"textiles and wearing apparel\"],\"categoryorder\":\"array\",\"domain\":[0.0,1.0],\"title\":{\"text\":\"sector\"}},\"yaxis\":{\"anchor\":\"x\",\"domain\":[0.0,1.0],\"title\":{\"text\":\"market1\"}}},                        {\"responsive\": true}                    ).then(function(){\n",
       "                            \n",
       "var gd = document.getElementById('74ec2478-ae0c-4363-acd8-fdfe5d32362a');\n",
       "var x = new MutationObserver(function (mutations, observer) {{\n",
       "        var display = window.getComputedStyle(gd).display;\n",
       "        if (!display || display === 'none') {{\n",
       "            console.log([gd, 'removed!']);\n",
       "            Plotly.purge(gd);\n",
       "            observer.disconnect();\n",
       "        }}\n",
       "}});\n",
       "\n",
       "// Listen for the removal of the full notebook cells\n",
       "var notebookContainer = gd.closest('#notebook-container');\n",
       "if (notebookContainer) {{\n",
       "    x.observe(notebookContainer, {childList: true});\n",
       "}}\n",
       "\n",
       "// Listen for the clearing of the current output cell\n",
       "var outputEl = gd.closest('.output');\n",
       "if (outputEl) {{\n",
       "    x.observe(outputEl, {childList: true});\n",
       "}}\n",
       "\n",
       "                        })                };                });            </script>        </div>"
      ]
     },
     "metadata": {},
     "output_type": "display_data"
    }
   ],
   "source": [
    "df71 = df7.iloc[:50,:]\n",
    "fig = px.bar(df71,x = 'sector',y='market1',color ='sector',text = 'ftstaff05')\n",
    "fig.show()"
   ]
  },
  {
   "cell_type": "code",
   "execution_count": 98,
   "metadata": {},
   "outputs": [
    {
     "data": {
      "application/vnd.plotly.v1+json": {
       "config": {
        "plotlyServerURL": "https://plot.ly"
       },
       "data": [
        {
         "alignmentgroup": "True",
         "hovertemplate": "sector=%{x}<br>turnover06=%{y}<extra></extra>",
         "legendgroup": "",
         "marker": {
          "color": "#636efa"
         },
         "name": "",
         "notched": false,
         "offsetgroup": "",
         "orientation": "v",
         "showlegend": false,
         "type": "box",
         "x": [
          "chemicals and chemical products",
          "food and beverages",
          "Publishing, reproduction of recorded media",
          "food and beverages",
          "non metallic mineral products",
          "machinery, equipment and vehicles",
          "chemicals and chemical products",
          "rubber and plastics products",
          "fabricated metal etc",
          "chemicals and chemical products",
          "food and beverages",
          "chemicals and chemical products",
          "food and beverages",
          "food and beverages",
          "machinery, equipment and vehicles",
          "food and beverages",
          "Publishing, reproduction of recorded media",
          "food and beverages",
          "wood and paper products etc",
          "fabricated metal etc",
          "rubber and plastics products",
          "furniture",
          "food and beverages",
          "furniture",
          "rubber and plastics products",
          "food and beverages",
          "basic metals and recycling",
          "chemicals and chemical products",
          "chemicals and chemical products",
          "non metallic mineral products",
          "food and beverages",
          "basic metals and recycling",
          "Publishing, reproduction of recorded media",
          "wood and paper products etc",
          "food and beverages",
          "food and beverages",
          "food and beverages",
          "fabricated metal etc",
          "furniture",
          "food and beverages",
          "food and beverages",
          "wood and paper products etc",
          "food and beverages",
          "food and beverages",
          "chemicals and chemical products",
          "chemicals and chemical products",
          "food and beverages",
          "textiles and wearing apparel",
          "chemicals and chemical products",
          "Publishing, reproduction of recorded media"
         ],
         "x0": " ",
         "xaxis": "x",
         "y": [
          2600000,
          2300000,
          4287400,
          45226098,
          1000000,
          36000000,
          256126000,
          12939170,
          0,
          1693794944,
          35884544,
          50000000,
          400000000,
          60000000,
          158654620,
          17500000,
          1240160501,
          32000000,
          4791000000,
          4640000000,
          232444800,
          300000000,
          133000000,
          550492.42,
          160000000,
          6000000,
          8000000,
          120000000,
          130000000,
          2500000,
          0,
          1800000,
          37500000,
          0,
          0,
          260000000,
          5760000000,
          2000000,
          120000000,
          550000000,
          266926263,
          195832000,
          493000000,
          49100290,
          104567064,
          4060955000,
          1882364000,
          34469718,
          1518080902,
          4000000
         ],
         "y0": " ",
         "yaxis": "y"
        }
       ],
       "layout": {
        "boxmode": "group",
        "legend": {
         "tracegroupgap": 0
        },
        "margin": {
         "t": 60
        },
        "template": {
         "data": {
          "bar": [
           {
            "error_x": {
             "color": "#2a3f5f"
            },
            "error_y": {
             "color": "#2a3f5f"
            },
            "marker": {
             "line": {
              "color": "#E5ECF6",
              "width": 0.5
             },
             "pattern": {
              "fillmode": "overlay",
              "size": 10,
              "solidity": 0.2
             }
            },
            "type": "bar"
           }
          ],
          "barpolar": [
           {
            "marker": {
             "line": {
              "color": "#E5ECF6",
              "width": 0.5
             },
             "pattern": {
              "fillmode": "overlay",
              "size": 10,
              "solidity": 0.2
             }
            },
            "type": "barpolar"
           }
          ],
          "carpet": [
           {
            "aaxis": {
             "endlinecolor": "#2a3f5f",
             "gridcolor": "white",
             "linecolor": "white",
             "minorgridcolor": "white",
             "startlinecolor": "#2a3f5f"
            },
            "baxis": {
             "endlinecolor": "#2a3f5f",
             "gridcolor": "white",
             "linecolor": "white",
             "minorgridcolor": "white",
             "startlinecolor": "#2a3f5f"
            },
            "type": "carpet"
           }
          ],
          "choropleth": [
           {
            "colorbar": {
             "outlinewidth": 0,
             "ticks": ""
            },
            "type": "choropleth"
           }
          ],
          "contour": [
           {
            "colorbar": {
             "outlinewidth": 0,
             "ticks": ""
            },
            "colorscale": [
             [
              0,
              "#0d0887"
             ],
             [
              0.1111111111111111,
              "#46039f"
             ],
             [
              0.2222222222222222,
              "#7201a8"
             ],
             [
              0.3333333333333333,
              "#9c179e"
             ],
             [
              0.4444444444444444,
              "#bd3786"
             ],
             [
              0.5555555555555556,
              "#d8576b"
             ],
             [
              0.6666666666666666,
              "#ed7953"
             ],
             [
              0.7777777777777778,
              "#fb9f3a"
             ],
             [
              0.8888888888888888,
              "#fdca26"
             ],
             [
              1,
              "#f0f921"
             ]
            ],
            "type": "contour"
           }
          ],
          "contourcarpet": [
           {
            "colorbar": {
             "outlinewidth": 0,
             "ticks": ""
            },
            "type": "contourcarpet"
           }
          ],
          "heatmap": [
           {
            "colorbar": {
             "outlinewidth": 0,
             "ticks": ""
            },
            "colorscale": [
             [
              0,
              "#0d0887"
             ],
             [
              0.1111111111111111,
              "#46039f"
             ],
             [
              0.2222222222222222,
              "#7201a8"
             ],
             [
              0.3333333333333333,
              "#9c179e"
             ],
             [
              0.4444444444444444,
              "#bd3786"
             ],
             [
              0.5555555555555556,
              "#d8576b"
             ],
             [
              0.6666666666666666,
              "#ed7953"
             ],
             [
              0.7777777777777778,
              "#fb9f3a"
             ],
             [
              0.8888888888888888,
              "#fdca26"
             ],
             [
              1,
              "#f0f921"
             ]
            ],
            "type": "heatmap"
           }
          ],
          "heatmapgl": [
           {
            "colorbar": {
             "outlinewidth": 0,
             "ticks": ""
            },
            "colorscale": [
             [
              0,
              "#0d0887"
             ],
             [
              0.1111111111111111,
              "#46039f"
             ],
             [
              0.2222222222222222,
              "#7201a8"
             ],
             [
              0.3333333333333333,
              "#9c179e"
             ],
             [
              0.4444444444444444,
              "#bd3786"
             ],
             [
              0.5555555555555556,
              "#d8576b"
             ],
             [
              0.6666666666666666,
              "#ed7953"
             ],
             [
              0.7777777777777778,
              "#fb9f3a"
             ],
             [
              0.8888888888888888,
              "#fdca26"
             ],
             [
              1,
              "#f0f921"
             ]
            ],
            "type": "heatmapgl"
           }
          ],
          "histogram": [
           {
            "marker": {
             "pattern": {
              "fillmode": "overlay",
              "size": 10,
              "solidity": 0.2
             }
            },
            "type": "histogram"
           }
          ],
          "histogram2d": [
           {
            "colorbar": {
             "outlinewidth": 0,
             "ticks": ""
            },
            "colorscale": [
             [
              0,
              "#0d0887"
             ],
             [
              0.1111111111111111,
              "#46039f"
             ],
             [
              0.2222222222222222,
              "#7201a8"
             ],
             [
              0.3333333333333333,
              "#9c179e"
             ],
             [
              0.4444444444444444,
              "#bd3786"
             ],
             [
              0.5555555555555556,
              "#d8576b"
             ],
             [
              0.6666666666666666,
              "#ed7953"
             ],
             [
              0.7777777777777778,
              "#fb9f3a"
             ],
             [
              0.8888888888888888,
              "#fdca26"
             ],
             [
              1,
              "#f0f921"
             ]
            ],
            "type": "histogram2d"
           }
          ],
          "histogram2dcontour": [
           {
            "colorbar": {
             "outlinewidth": 0,
             "ticks": ""
            },
            "colorscale": [
             [
              0,
              "#0d0887"
             ],
             [
              0.1111111111111111,
              "#46039f"
             ],
             [
              0.2222222222222222,
              "#7201a8"
             ],
             [
              0.3333333333333333,
              "#9c179e"
             ],
             [
              0.4444444444444444,
              "#bd3786"
             ],
             [
              0.5555555555555556,
              "#d8576b"
             ],
             [
              0.6666666666666666,
              "#ed7953"
             ],
             [
              0.7777777777777778,
              "#fb9f3a"
             ],
             [
              0.8888888888888888,
              "#fdca26"
             ],
             [
              1,
              "#f0f921"
             ]
            ],
            "type": "histogram2dcontour"
           }
          ],
          "mesh3d": [
           {
            "colorbar": {
             "outlinewidth": 0,
             "ticks": ""
            },
            "type": "mesh3d"
           }
          ],
          "parcoords": [
           {
            "line": {
             "colorbar": {
              "outlinewidth": 0,
              "ticks": ""
             }
            },
            "type": "parcoords"
           }
          ],
          "pie": [
           {
            "automargin": true,
            "type": "pie"
           }
          ],
          "scatter": [
           {
            "marker": {
             "colorbar": {
              "outlinewidth": 0,
              "ticks": ""
             }
            },
            "type": "scatter"
           }
          ],
          "scatter3d": [
           {
            "line": {
             "colorbar": {
              "outlinewidth": 0,
              "ticks": ""
             }
            },
            "marker": {
             "colorbar": {
              "outlinewidth": 0,
              "ticks": ""
             }
            },
            "type": "scatter3d"
           }
          ],
          "scattercarpet": [
           {
            "marker": {
             "colorbar": {
              "outlinewidth": 0,
              "ticks": ""
             }
            },
            "type": "scattercarpet"
           }
          ],
          "scattergeo": [
           {
            "marker": {
             "colorbar": {
              "outlinewidth": 0,
              "ticks": ""
             }
            },
            "type": "scattergeo"
           }
          ],
          "scattergl": [
           {
            "marker": {
             "colorbar": {
              "outlinewidth": 0,
              "ticks": ""
             }
            },
            "type": "scattergl"
           }
          ],
          "scattermapbox": [
           {
            "marker": {
             "colorbar": {
              "outlinewidth": 0,
              "ticks": ""
             }
            },
            "type": "scattermapbox"
           }
          ],
          "scatterpolar": [
           {
            "marker": {
             "colorbar": {
              "outlinewidth": 0,
              "ticks": ""
             }
            },
            "type": "scatterpolar"
           }
          ],
          "scatterpolargl": [
           {
            "marker": {
             "colorbar": {
              "outlinewidth": 0,
              "ticks": ""
             }
            },
            "type": "scatterpolargl"
           }
          ],
          "scatterternary": [
           {
            "marker": {
             "colorbar": {
              "outlinewidth": 0,
              "ticks": ""
             }
            },
            "type": "scatterternary"
           }
          ],
          "surface": [
           {
            "colorbar": {
             "outlinewidth": 0,
             "ticks": ""
            },
            "colorscale": [
             [
              0,
              "#0d0887"
             ],
             [
              0.1111111111111111,
              "#46039f"
             ],
             [
              0.2222222222222222,
              "#7201a8"
             ],
             [
              0.3333333333333333,
              "#9c179e"
             ],
             [
              0.4444444444444444,
              "#bd3786"
             ],
             [
              0.5555555555555556,
              "#d8576b"
             ],
             [
              0.6666666666666666,
              "#ed7953"
             ],
             [
              0.7777777777777778,
              "#fb9f3a"
             ],
             [
              0.8888888888888888,
              "#fdca26"
             ],
             [
              1,
              "#f0f921"
             ]
            ],
            "type": "surface"
           }
          ],
          "table": [
           {
            "cells": {
             "fill": {
              "color": "#EBF0F8"
             },
             "line": {
              "color": "white"
             }
            },
            "header": {
             "fill": {
              "color": "#C8D4E3"
             },
             "line": {
              "color": "white"
             }
            },
            "type": "table"
           }
          ]
         },
         "layout": {
          "annotationdefaults": {
           "arrowcolor": "#2a3f5f",
           "arrowhead": 0,
           "arrowwidth": 1
          },
          "autotypenumbers": "strict",
          "coloraxis": {
           "colorbar": {
            "outlinewidth": 0,
            "ticks": ""
           }
          },
          "colorscale": {
           "diverging": [
            [
             0,
             "#8e0152"
            ],
            [
             0.1,
             "#c51b7d"
            ],
            [
             0.2,
             "#de77ae"
            ],
            [
             0.3,
             "#f1b6da"
            ],
            [
             0.4,
             "#fde0ef"
            ],
            [
             0.5,
             "#f7f7f7"
            ],
            [
             0.6,
             "#e6f5d0"
            ],
            [
             0.7,
             "#b8e186"
            ],
            [
             0.8,
             "#7fbc41"
            ],
            [
             0.9,
             "#4d9221"
            ],
            [
             1,
             "#276419"
            ]
           ],
           "sequential": [
            [
             0,
             "#0d0887"
            ],
            [
             0.1111111111111111,
             "#46039f"
            ],
            [
             0.2222222222222222,
             "#7201a8"
            ],
            [
             0.3333333333333333,
             "#9c179e"
            ],
            [
             0.4444444444444444,
             "#bd3786"
            ],
            [
             0.5555555555555556,
             "#d8576b"
            ],
            [
             0.6666666666666666,
             "#ed7953"
            ],
            [
             0.7777777777777778,
             "#fb9f3a"
            ],
            [
             0.8888888888888888,
             "#fdca26"
            ],
            [
             1,
             "#f0f921"
            ]
           ],
           "sequentialminus": [
            [
             0,
             "#0d0887"
            ],
            [
             0.1111111111111111,
             "#46039f"
            ],
            [
             0.2222222222222222,
             "#7201a8"
            ],
            [
             0.3333333333333333,
             "#9c179e"
            ],
            [
             0.4444444444444444,
             "#bd3786"
            ],
            [
             0.5555555555555556,
             "#d8576b"
            ],
            [
             0.6666666666666666,
             "#ed7953"
            ],
            [
             0.7777777777777778,
             "#fb9f3a"
            ],
            [
             0.8888888888888888,
             "#fdca26"
            ],
            [
             1,
             "#f0f921"
            ]
           ]
          },
          "colorway": [
           "#636efa",
           "#EF553B",
           "#00cc96",
           "#ab63fa",
           "#FFA15A",
           "#19d3f3",
           "#FF6692",
           "#B6E880",
           "#FF97FF",
           "#FECB52"
          ],
          "font": {
           "color": "#2a3f5f"
          },
          "geo": {
           "bgcolor": "white",
           "lakecolor": "white",
           "landcolor": "#E5ECF6",
           "showlakes": true,
           "showland": true,
           "subunitcolor": "white"
          },
          "hoverlabel": {
           "align": "left"
          },
          "hovermode": "closest",
          "mapbox": {
           "style": "light"
          },
          "paper_bgcolor": "white",
          "plot_bgcolor": "#E5ECF6",
          "polar": {
           "angularaxis": {
            "gridcolor": "white",
            "linecolor": "white",
            "ticks": ""
           },
           "bgcolor": "#E5ECF6",
           "radialaxis": {
            "gridcolor": "white",
            "linecolor": "white",
            "ticks": ""
           }
          },
          "scene": {
           "xaxis": {
            "backgroundcolor": "#E5ECF6",
            "gridcolor": "white",
            "gridwidth": 2,
            "linecolor": "white",
            "showbackground": true,
            "ticks": "",
            "zerolinecolor": "white"
           },
           "yaxis": {
            "backgroundcolor": "#E5ECF6",
            "gridcolor": "white",
            "gridwidth": 2,
            "linecolor": "white",
            "showbackground": true,
            "ticks": "",
            "zerolinecolor": "white"
           },
           "zaxis": {
            "backgroundcolor": "#E5ECF6",
            "gridcolor": "white",
            "gridwidth": 2,
            "linecolor": "white",
            "showbackground": true,
            "ticks": "",
            "zerolinecolor": "white"
           }
          },
          "shapedefaults": {
           "line": {
            "color": "#2a3f5f"
           }
          },
          "ternary": {
           "aaxis": {
            "gridcolor": "white",
            "linecolor": "white",
            "ticks": ""
           },
           "baxis": {
            "gridcolor": "white",
            "linecolor": "white",
            "ticks": ""
           },
           "bgcolor": "#E5ECF6",
           "caxis": {
            "gridcolor": "white",
            "linecolor": "white",
            "ticks": ""
           }
          },
          "title": {
           "x": 0.05
          },
          "xaxis": {
           "automargin": true,
           "gridcolor": "white",
           "linecolor": "white",
           "ticks": "",
           "title": {
            "standoff": 15
           },
           "zerolinecolor": "white",
           "zerolinewidth": 2
          },
          "yaxis": {
           "automargin": true,
           "gridcolor": "white",
           "linecolor": "white",
           "ticks": "",
           "title": {
            "standoff": 15
           },
           "zerolinecolor": "white",
           "zerolinewidth": 2
          }
         }
        },
        "title": {
         "text": "sectors against turnover06."
        },
        "xaxis": {
         "anchor": "y",
         "domain": [
          0,
          1
         ],
         "title": {
          "text": "sector"
         }
        },
        "yaxis": {
         "anchor": "x",
         "domain": [
          0,
          1
         ],
         "title": {
          "text": "turnover06"
         }
        }
       }
      },
      "text/html": [
       "<div>                            <div id=\"0ade5c5a-92ea-4717-ad16-862c19587407\" class=\"plotly-graph-div\" style=\"height:525px; width:100%;\"></div>            <script type=\"text/javascript\">                require([\"plotly\"], function(Plotly) {                    window.PLOTLYENV=window.PLOTLYENV || {};                                    if (document.getElementById(\"0ade5c5a-92ea-4717-ad16-862c19587407\")) {                    Plotly.newPlot(                        \"0ade5c5a-92ea-4717-ad16-862c19587407\",                        [{\"alignmentgroup\":\"True\",\"hovertemplate\":\"sector=%{x}<br>turnover06=%{y}<extra></extra>\",\"legendgroup\":\"\",\"marker\":{\"color\":\"#636efa\"},\"name\":\"\",\"notched\":false,\"offsetgroup\":\"\",\"orientation\":\"v\",\"showlegend\":false,\"type\":\"box\",\"x\":[\"chemicals and chemical products\",\"food and beverages\",\"Publishing, reproduction of recorded media\",\"food and beverages\",\"non metallic mineral products\",\"machinery, equipment and vehicles\",\"chemicals and chemical products\",\"rubber and plastics products\",\"fabricated metal etc\",\"chemicals and chemical products\",\"food and beverages\",\"chemicals and chemical products\",\"food and beverages\",\"food and beverages\",\"machinery, equipment and vehicles\",\"food and beverages\",\"Publishing, reproduction of recorded media\",\"food and beverages\",\"wood and paper products etc\",\"fabricated metal etc\",\"rubber and plastics products\",\"furniture\",\"food and beverages\",\"furniture\",\"rubber and plastics products\",\"food and beverages\",\"basic metals and recycling\",\"chemicals and chemical products\",\"chemicals and chemical products\",\"non metallic mineral products\",\"food and beverages\",\"basic metals and recycling\",\"Publishing, reproduction of recorded media\",\"wood and paper products etc\",\"food and beverages\",\"food and beverages\",\"food and beverages\",\"fabricated metal etc\",\"furniture\",\"food and beverages\",\"food and beverages\",\"wood and paper products etc\",\"food and beverages\",\"food and beverages\",\"chemicals and chemical products\",\"chemicals and chemical products\",\"food and beverages\",\"textiles and wearing apparel\",\"chemicals and chemical products\",\"Publishing, reproduction of recorded media\"],\"x0\":\" \",\"xaxis\":\"x\",\"y\":[2600000.0,2300000.0,4287400.0,45226098.0,1000000.0,36000000.0,256126000.0,12939170.0,0.0,1693794944.0,35884544.0,50000000.0,400000000.0,60000000.0,158654620.0,17500000.0,1240160501.0,32000000.0,4791000000.0,4640000000.0,232444800.0,300000000.0,133000000.0,550492.42,160000000.0,6000000.0,8000000.0,120000000.0,130000000.0,2500000.0,0.0,1800000.0,37500000.0,0.0,0.0,260000000.0,5760000000.0,2000000.0,120000000.0,550000000.0,266926263.0,195832000.0,493000000.0,49100290.0,104567064.0,4060955000.0,1882364000.0,34469718.0,1518080902.0,4000000.0],\"y0\":\" \",\"yaxis\":\"y\"}],                        {\"boxmode\":\"group\",\"legend\":{\"tracegroupgap\":0},\"margin\":{\"t\":60},\"template\":{\"data\":{\"bar\":[{\"error_x\":{\"color\":\"#2a3f5f\"},\"error_y\":{\"color\":\"#2a3f5f\"},\"marker\":{\"line\":{\"color\":\"#E5ECF6\",\"width\":0.5},\"pattern\":{\"fillmode\":\"overlay\",\"size\":10,\"solidity\":0.2}},\"type\":\"bar\"}],\"barpolar\":[{\"marker\":{\"line\":{\"color\":\"#E5ECF6\",\"width\":0.5},\"pattern\":{\"fillmode\":\"overlay\",\"size\":10,\"solidity\":0.2}},\"type\":\"barpolar\"}],\"carpet\":[{\"aaxis\":{\"endlinecolor\":\"#2a3f5f\",\"gridcolor\":\"white\",\"linecolor\":\"white\",\"minorgridcolor\":\"white\",\"startlinecolor\":\"#2a3f5f\"},\"baxis\":{\"endlinecolor\":\"#2a3f5f\",\"gridcolor\":\"white\",\"linecolor\":\"white\",\"minorgridcolor\":\"white\",\"startlinecolor\":\"#2a3f5f\"},\"type\":\"carpet\"}],\"choropleth\":[{\"colorbar\":{\"outlinewidth\":0,\"ticks\":\"\"},\"type\":\"choropleth\"}],\"contour\":[{\"colorbar\":{\"outlinewidth\":0,\"ticks\":\"\"},\"colorscale\":[[0.0,\"#0d0887\"],[0.1111111111111111,\"#46039f\"],[0.2222222222222222,\"#7201a8\"],[0.3333333333333333,\"#9c179e\"],[0.4444444444444444,\"#bd3786\"],[0.5555555555555556,\"#d8576b\"],[0.6666666666666666,\"#ed7953\"],[0.7777777777777778,\"#fb9f3a\"],[0.8888888888888888,\"#fdca26\"],[1.0,\"#f0f921\"]],\"type\":\"contour\"}],\"contourcarpet\":[{\"colorbar\":{\"outlinewidth\":0,\"ticks\":\"\"},\"type\":\"contourcarpet\"}],\"heatmap\":[{\"colorbar\":{\"outlinewidth\":0,\"ticks\":\"\"},\"colorscale\":[[0.0,\"#0d0887\"],[0.1111111111111111,\"#46039f\"],[0.2222222222222222,\"#7201a8\"],[0.3333333333333333,\"#9c179e\"],[0.4444444444444444,\"#bd3786\"],[0.5555555555555556,\"#d8576b\"],[0.6666666666666666,\"#ed7953\"],[0.7777777777777778,\"#fb9f3a\"],[0.8888888888888888,\"#fdca26\"],[1.0,\"#f0f921\"]],\"type\":\"heatmap\"}],\"heatmapgl\":[{\"colorbar\":{\"outlinewidth\":0,\"ticks\":\"\"},\"colorscale\":[[0.0,\"#0d0887\"],[0.1111111111111111,\"#46039f\"],[0.2222222222222222,\"#7201a8\"],[0.3333333333333333,\"#9c179e\"],[0.4444444444444444,\"#bd3786\"],[0.5555555555555556,\"#d8576b\"],[0.6666666666666666,\"#ed7953\"],[0.7777777777777778,\"#fb9f3a\"],[0.8888888888888888,\"#fdca26\"],[1.0,\"#f0f921\"]],\"type\":\"heatmapgl\"}],\"histogram\":[{\"marker\":{\"pattern\":{\"fillmode\":\"overlay\",\"size\":10,\"solidity\":0.2}},\"type\":\"histogram\"}],\"histogram2d\":[{\"colorbar\":{\"outlinewidth\":0,\"ticks\":\"\"},\"colorscale\":[[0.0,\"#0d0887\"],[0.1111111111111111,\"#46039f\"],[0.2222222222222222,\"#7201a8\"],[0.3333333333333333,\"#9c179e\"],[0.4444444444444444,\"#bd3786\"],[0.5555555555555556,\"#d8576b\"],[0.6666666666666666,\"#ed7953\"],[0.7777777777777778,\"#fb9f3a\"],[0.8888888888888888,\"#fdca26\"],[1.0,\"#f0f921\"]],\"type\":\"histogram2d\"}],\"histogram2dcontour\":[{\"colorbar\":{\"outlinewidth\":0,\"ticks\":\"\"},\"colorscale\":[[0.0,\"#0d0887\"],[0.1111111111111111,\"#46039f\"],[0.2222222222222222,\"#7201a8\"],[0.3333333333333333,\"#9c179e\"],[0.4444444444444444,\"#bd3786\"],[0.5555555555555556,\"#d8576b\"],[0.6666666666666666,\"#ed7953\"],[0.7777777777777778,\"#fb9f3a\"],[0.8888888888888888,\"#fdca26\"],[1.0,\"#f0f921\"]],\"type\":\"histogram2dcontour\"}],\"mesh3d\":[{\"colorbar\":{\"outlinewidth\":0,\"ticks\":\"\"},\"type\":\"mesh3d\"}],\"parcoords\":[{\"line\":{\"colorbar\":{\"outlinewidth\":0,\"ticks\":\"\"}},\"type\":\"parcoords\"}],\"pie\":[{\"automargin\":true,\"type\":\"pie\"}],\"scatter\":[{\"marker\":{\"colorbar\":{\"outlinewidth\":0,\"ticks\":\"\"}},\"type\":\"scatter\"}],\"scatter3d\":[{\"line\":{\"colorbar\":{\"outlinewidth\":0,\"ticks\":\"\"}},\"marker\":{\"colorbar\":{\"outlinewidth\":0,\"ticks\":\"\"}},\"type\":\"scatter3d\"}],\"scattercarpet\":[{\"marker\":{\"colorbar\":{\"outlinewidth\":0,\"ticks\":\"\"}},\"type\":\"scattercarpet\"}],\"scattergeo\":[{\"marker\":{\"colorbar\":{\"outlinewidth\":0,\"ticks\":\"\"}},\"type\":\"scattergeo\"}],\"scattergl\":[{\"marker\":{\"colorbar\":{\"outlinewidth\":0,\"ticks\":\"\"}},\"type\":\"scattergl\"}],\"scattermapbox\":[{\"marker\":{\"colorbar\":{\"outlinewidth\":0,\"ticks\":\"\"}},\"type\":\"scattermapbox\"}],\"scatterpolar\":[{\"marker\":{\"colorbar\":{\"outlinewidth\":0,\"ticks\":\"\"}},\"type\":\"scatterpolar\"}],\"scatterpolargl\":[{\"marker\":{\"colorbar\":{\"outlinewidth\":0,\"ticks\":\"\"}},\"type\":\"scatterpolargl\"}],\"scatterternary\":[{\"marker\":{\"colorbar\":{\"outlinewidth\":0,\"ticks\":\"\"}},\"type\":\"scatterternary\"}],\"surface\":[{\"colorbar\":{\"outlinewidth\":0,\"ticks\":\"\"},\"colorscale\":[[0.0,\"#0d0887\"],[0.1111111111111111,\"#46039f\"],[0.2222222222222222,\"#7201a8\"],[0.3333333333333333,\"#9c179e\"],[0.4444444444444444,\"#bd3786\"],[0.5555555555555556,\"#d8576b\"],[0.6666666666666666,\"#ed7953\"],[0.7777777777777778,\"#fb9f3a\"],[0.8888888888888888,\"#fdca26\"],[1.0,\"#f0f921\"]],\"type\":\"surface\"}],\"table\":[{\"cells\":{\"fill\":{\"color\":\"#EBF0F8\"},\"line\":{\"color\":\"white\"}},\"header\":{\"fill\":{\"color\":\"#C8D4E3\"},\"line\":{\"color\":\"white\"}},\"type\":\"table\"}]},\"layout\":{\"annotationdefaults\":{\"arrowcolor\":\"#2a3f5f\",\"arrowhead\":0,\"arrowwidth\":1},\"autotypenumbers\":\"strict\",\"coloraxis\":{\"colorbar\":{\"outlinewidth\":0,\"ticks\":\"\"}},\"colorscale\":{\"diverging\":[[0,\"#8e0152\"],[0.1,\"#c51b7d\"],[0.2,\"#de77ae\"],[0.3,\"#f1b6da\"],[0.4,\"#fde0ef\"],[0.5,\"#f7f7f7\"],[0.6,\"#e6f5d0\"],[0.7,\"#b8e186\"],[0.8,\"#7fbc41\"],[0.9,\"#4d9221\"],[1,\"#276419\"]],\"sequential\":[[0.0,\"#0d0887\"],[0.1111111111111111,\"#46039f\"],[0.2222222222222222,\"#7201a8\"],[0.3333333333333333,\"#9c179e\"],[0.4444444444444444,\"#bd3786\"],[0.5555555555555556,\"#d8576b\"],[0.6666666666666666,\"#ed7953\"],[0.7777777777777778,\"#fb9f3a\"],[0.8888888888888888,\"#fdca26\"],[1.0,\"#f0f921\"]],\"sequentialminus\":[[0.0,\"#0d0887\"],[0.1111111111111111,\"#46039f\"],[0.2222222222222222,\"#7201a8\"],[0.3333333333333333,\"#9c179e\"],[0.4444444444444444,\"#bd3786\"],[0.5555555555555556,\"#d8576b\"],[0.6666666666666666,\"#ed7953\"],[0.7777777777777778,\"#fb9f3a\"],[0.8888888888888888,\"#fdca26\"],[1.0,\"#f0f921\"]]},\"colorway\":[\"#636efa\",\"#EF553B\",\"#00cc96\",\"#ab63fa\",\"#FFA15A\",\"#19d3f3\",\"#FF6692\",\"#B6E880\",\"#FF97FF\",\"#FECB52\"],\"font\":{\"color\":\"#2a3f5f\"},\"geo\":{\"bgcolor\":\"white\",\"lakecolor\":\"white\",\"landcolor\":\"#E5ECF6\",\"showlakes\":true,\"showland\":true,\"subunitcolor\":\"white\"},\"hoverlabel\":{\"align\":\"left\"},\"hovermode\":\"closest\",\"mapbox\":{\"style\":\"light\"},\"paper_bgcolor\":\"white\",\"plot_bgcolor\":\"#E5ECF6\",\"polar\":{\"angularaxis\":{\"gridcolor\":\"white\",\"linecolor\":\"white\",\"ticks\":\"\"},\"bgcolor\":\"#E5ECF6\",\"radialaxis\":{\"gridcolor\":\"white\",\"linecolor\":\"white\",\"ticks\":\"\"}},\"scene\":{\"xaxis\":{\"backgroundcolor\":\"#E5ECF6\",\"gridcolor\":\"white\",\"gridwidth\":2,\"linecolor\":\"white\",\"showbackground\":true,\"ticks\":\"\",\"zerolinecolor\":\"white\"},\"yaxis\":{\"backgroundcolor\":\"#E5ECF6\",\"gridcolor\":\"white\",\"gridwidth\":2,\"linecolor\":\"white\",\"showbackground\":true,\"ticks\":\"\",\"zerolinecolor\":\"white\"},\"zaxis\":{\"backgroundcolor\":\"#E5ECF6\",\"gridcolor\":\"white\",\"gridwidth\":2,\"linecolor\":\"white\",\"showbackground\":true,\"ticks\":\"\",\"zerolinecolor\":\"white\"}},\"shapedefaults\":{\"line\":{\"color\":\"#2a3f5f\"}},\"ternary\":{\"aaxis\":{\"gridcolor\":\"white\",\"linecolor\":\"white\",\"ticks\":\"\"},\"baxis\":{\"gridcolor\":\"white\",\"linecolor\":\"white\",\"ticks\":\"\"},\"bgcolor\":\"#E5ECF6\",\"caxis\":{\"gridcolor\":\"white\",\"linecolor\":\"white\",\"ticks\":\"\"}},\"title\":{\"x\":0.05},\"xaxis\":{\"automargin\":true,\"gridcolor\":\"white\",\"linecolor\":\"white\",\"ticks\":\"\",\"title\":{\"standoff\":15},\"zerolinecolor\":\"white\",\"zerolinewidth\":2},\"yaxis\":{\"automargin\":true,\"gridcolor\":\"white\",\"linecolor\":\"white\",\"ticks\":\"\",\"title\":{\"standoff\":15},\"zerolinecolor\":\"white\",\"zerolinewidth\":2}}},\"title\":{\"text\":\"sectors against turnover06.\"},\"xaxis\":{\"anchor\":\"y\",\"domain\":[0.0,1.0],\"title\":{\"text\":\"sector\"}},\"yaxis\":{\"anchor\":\"x\",\"domain\":[0.0,1.0],\"title\":{\"text\":\"turnover06\"}}},                        {\"responsive\": true}                    ).then(function(){\n",
       "                            \n",
       "var gd = document.getElementById('0ade5c5a-92ea-4717-ad16-862c19587407');\n",
       "var x = new MutationObserver(function (mutations, observer) {{\n",
       "        var display = window.getComputedStyle(gd).display;\n",
       "        if (!display || display === 'none') {{\n",
       "            console.log([gd, 'removed!']);\n",
       "            Plotly.purge(gd);\n",
       "            observer.disconnect();\n",
       "        }}\n",
       "}});\n",
       "\n",
       "// Listen for the removal of the full notebook cells\n",
       "var notebookContainer = gd.closest('#notebook-container');\n",
       "if (notebookContainer) {{\n",
       "    x.observe(notebookContainer, {childList: true});\n",
       "}}\n",
       "\n",
       "// Listen for the clearing of the current output cell\n",
       "var outputEl = gd.closest('.output');\n",
       "if (outputEl) {{\n",
       "    x.observe(outputEl, {childList: true});\n",
       "}}\n",
       "\n",
       "                        })                };                });            </script>        </div>"
      ]
     },
     "metadata": {},
     "output_type": "display_data"
    }
   ],
   "source": [
    "fig = px.box(df71, 'sector', 'turnover06')\n",
    "fig.update_layout(title='sectors against turnover06.')\n",
    "fig.show()"
   ]
  },
  {
   "cell_type": "code",
   "execution_count": 100,
   "metadata": {},
   "outputs": [
    {
     "data": {
      "application/vnd.plotly.v1+json": {
       "config": {
        "plotlyServerURL": "https://plot.ly"
       },
       "data": [
        {
         "alignmentgroup": "True",
         "hovertemplate": "sector=%{x}<br>year=%{y}<br>ftstaff05=%{text}<extra></extra>",
         "legendgroup": "chemicals and chemical products",
         "marker": {
          "color": "#636efa",
          "pattern": {
           "shape": ""
          }
         },
         "name": "chemicals and chemical products",
         "offsetgroup": "chemicals and chemical products",
         "orientation": "v",
         "showlegend": true,
         "text": [
          "110.0",
          "64.0",
          "120.0",
          "50.0",
          "100.0",
          "105.0",
          "7.0",
          "150.0",
          "80.0"
         ],
         "textposition": "auto",
         "type": "bar",
         "x": [
          "chemicals and chemical products",
          "chemicals and chemical products",
          "chemicals and chemical products",
          "chemicals and chemical products",
          "chemicals and chemical products",
          "chemicals and chemical products",
          "chemicals and chemical products",
          "chemicals and chemical products",
          "chemicals and chemical products"
         ],
         "xaxis": "x",
         "y": [
          2008,
          2008,
          2008,
          2008,
          2008,
          2008,
          2008,
          2008,
          2008
         ],
         "yaxis": "y"
        },
        {
         "alignmentgroup": "True",
         "hovertemplate": "sector=%{x}<br>year=%{y}<br>ftstaff05=%{text}<extra></extra>",
         "legendgroup": "food and beverages",
         "marker": {
          "color": "#EF553B",
          "pattern": {
           "shape": ""
          }
         },
         "name": "food and beverages",
         "offsetgroup": "food and beverages",
         "orientation": "v",
         "showlegend": true,
         "text": [
          "38.0",
          "153.0",
          "56.0",
          "100.0",
          "6.0",
          "40.0",
          "13.0",
          "26.0",
          "16.0",
          "0.0",
          "0.0",
          "369.0",
          "432.0",
          "200.0",
          "285.0",
          "200.0",
          "40.0",
          "64.0"
         ],
         "textposition": "auto",
         "type": "bar",
         "x": [
          "food and beverages",
          "food and beverages",
          "food and beverages",
          "food and beverages",
          "food and beverages",
          "food and beverages",
          "food and beverages",
          "food and beverages",
          "food and beverages",
          "food and beverages",
          "food and beverages",
          "food and beverages",
          "food and beverages",
          "food and beverages",
          "food and beverages",
          "food and beverages",
          "food and beverages",
          "food and beverages"
         ],
         "xaxis": "x",
         "y": [
          2008,
          2008,
          2008,
          2008,
          2008,
          2008,
          2008,
          2008,
          2008,
          2008,
          2008,
          2008,
          2008,
          2008,
          2008,
          2008,
          2008,
          2008
         ],
         "yaxis": "y"
        },
        {
         "alignmentgroup": "True",
         "hovertemplate": "sector=%{x}<br>year=%{y}<br>ftstaff05=%{text}<extra></extra>",
         "legendgroup": "Publishing, reproduction of recorded media",
         "marker": {
          "color": "#00cc96",
          "pattern": {
           "shape": ""
          }
         },
         "name": "Publishing, reproduction of recorded media",
         "offsetgroup": "Publishing, reproduction of recorded media",
         "orientation": "v",
         "showlegend": true,
         "text": [
          "59.0",
          "70.0",
          "45.0",
          "260.0"
         ],
         "textposition": "auto",
         "type": "bar",
         "x": [
          "Publishing, reproduction of recorded media",
          "Publishing, reproduction of recorded media",
          "Publishing, reproduction of recorded media",
          "Publishing, reproduction of recorded media"
         ],
         "xaxis": "x",
         "y": [
          2008,
          2008,
          2008,
          2008
         ],
         "yaxis": "y"
        },
        {
         "alignmentgroup": "True",
         "hovertemplate": "sector=%{x}<br>year=%{y}<br>ftstaff05=%{text}<extra></extra>",
         "legendgroup": "non metallic mineral products",
         "marker": {
          "color": "#ab63fa",
          "pattern": {
           "shape": ""
          }
         },
         "name": "non metallic mineral products",
         "offsetgroup": "non metallic mineral products",
         "orientation": "v",
         "showlegend": true,
         "text": [
          "0.0",
          "20.0"
         ],
         "textposition": "auto",
         "type": "bar",
         "x": [
          "non metallic mineral products",
          "non metallic mineral products"
         ],
         "xaxis": "x",
         "y": [
          2008,
          2008
         ],
         "yaxis": "y"
        },
        {
         "alignmentgroup": "True",
         "hovertemplate": "sector=%{x}<br>year=%{y}<br>ftstaff05=%{text}<extra></extra>",
         "legendgroup": "machinery, equipment and vehicles",
         "marker": {
          "color": "#FFA15A",
          "pattern": {
           "shape": ""
          }
         },
         "name": "machinery, equipment and vehicles",
         "offsetgroup": "machinery, equipment and vehicles",
         "orientation": "v",
         "showlegend": true,
         "text": [
          "76.0",
          "122.0"
         ],
         "textposition": "auto",
         "type": "bar",
         "x": [
          "machinery, equipment and vehicles",
          "machinery, equipment and vehicles"
         ],
         "xaxis": "x",
         "y": [
          2008,
          2008
         ],
         "yaxis": "y"
        },
        {
         "alignmentgroup": "True",
         "hovertemplate": "sector=%{x}<br>year=%{y}<br>ftstaff05=%{text}<extra></extra>",
         "legendgroup": "rubber and plastics products",
         "marker": {
          "color": "#19d3f3",
          "pattern": {
           "shape": ""
          }
         },
         "name": "rubber and plastics products",
         "offsetgroup": "rubber and plastics products",
         "orientation": "v",
         "showlegend": true,
         "text": [
          "29.0",
          "109.0",
          "15.0"
         ],
         "textposition": "auto",
         "type": "bar",
         "x": [
          "rubber and plastics products",
          "rubber and plastics products",
          "rubber and plastics products"
         ],
         "xaxis": "x",
         "y": [
          2008,
          2008,
          2008
         ],
         "yaxis": "y"
        },
        {
         "alignmentgroup": "True",
         "hovertemplate": "sector=%{x}<br>year=%{y}<br>ftstaff05=%{text}<extra></extra>",
         "legendgroup": "fabricated metal etc",
         "marker": {
          "color": "#FF6692",
          "pattern": {
           "shape": ""
          }
         },
         "name": "fabricated metal etc",
         "offsetgroup": "fabricated metal etc",
         "orientation": "v",
         "showlegend": true,
         "text": [
          "0.0",
          "68.0",
          "20.0"
         ],
         "textposition": "auto",
         "type": "bar",
         "x": [
          "fabricated metal etc",
          "fabricated metal etc",
          "fabricated metal etc"
         ],
         "xaxis": "x",
         "y": [
          2008,
          2008,
          2008
         ],
         "yaxis": "y"
        },
        {
         "alignmentgroup": "True",
         "hovertemplate": "sector=%{x}<br>year=%{y}<br>ftstaff05=%{text}<extra></extra>",
         "legendgroup": "wood and paper products etc",
         "marker": {
          "color": "#B6E880",
          "pattern": {
           "shape": ""
          }
         },
         "name": "wood and paper products etc",
         "offsetgroup": "wood and paper products etc",
         "orientation": "v",
         "showlegend": true,
         "text": [
          "384.0",
          "67.0",
          "34.0"
         ],
         "textposition": "auto",
         "type": "bar",
         "x": [
          "wood and paper products etc",
          "wood and paper products etc",
          "wood and paper products etc"
         ],
         "xaxis": "x",
         "y": [
          2008,
          2008,
          2008
         ],
         "yaxis": "y"
        },
        {
         "alignmentgroup": "True",
         "hovertemplate": "sector=%{x}<br>year=%{y}<br>ftstaff05=%{text}<extra></extra>",
         "legendgroup": "furniture",
         "marker": {
          "color": "#FF97FF",
          "pattern": {
           "shape": ""
          }
         },
         "name": "furniture",
         "offsetgroup": "furniture",
         "orientation": "v",
         "showlegend": true,
         "text": [
          "13.0",
          "547.0",
          "50.0"
         ],
         "textposition": "auto",
         "type": "bar",
         "x": [
          "furniture",
          "furniture",
          "furniture"
         ],
         "xaxis": "x",
         "y": [
          2008,
          2008,
          2008
         ],
         "yaxis": "y"
        },
        {
         "alignmentgroup": "True",
         "hovertemplate": "sector=%{x}<br>year=%{y}<br>ftstaff05=%{text}<extra></extra>",
         "legendgroup": "basic metals and recycling",
         "marker": {
          "color": "#FECB52",
          "pattern": {
           "shape": ""
          }
         },
         "name": "basic metals and recycling",
         "offsetgroup": "basic metals and recycling",
         "orientation": "v",
         "showlegend": true,
         "text": [
          "5.0",
          "18.0"
         ],
         "textposition": "auto",
         "type": "bar",
         "x": [
          "basic metals and recycling",
          "basic metals and recycling"
         ],
         "xaxis": "x",
         "y": [
          2008,
          2008
         ],
         "yaxis": "y"
        },
        {
         "alignmentgroup": "True",
         "hovertemplate": "sector=%{x}<br>year=%{y}<br>ftstaff05=%{text}<extra></extra>",
         "legendgroup": "textiles and wearing apparel",
         "marker": {
          "color": "#636efa",
          "pattern": {
           "shape": ""
          }
         },
         "name": "textiles and wearing apparel",
         "offsetgroup": "textiles and wearing apparel",
         "orientation": "v",
         "showlegend": true,
         "text": [
          "0.0"
         ],
         "textposition": "auto",
         "type": "bar",
         "x": [
          "textiles and wearing apparel"
         ],
         "xaxis": "x",
         "y": [
          2008
         ],
         "yaxis": "y"
        }
       ],
       "layout": {
        "barmode": "relative",
        "legend": {
         "title": {
          "text": "sector"
         },
         "tracegroupgap": 0
        },
        "margin": {
         "t": 60
        },
        "template": {
         "data": {
          "bar": [
           {
            "error_x": {
             "color": "#2a3f5f"
            },
            "error_y": {
             "color": "#2a3f5f"
            },
            "marker": {
             "line": {
              "color": "#E5ECF6",
              "width": 0.5
             },
             "pattern": {
              "fillmode": "overlay",
              "size": 10,
              "solidity": 0.2
             }
            },
            "type": "bar"
           }
          ],
          "barpolar": [
           {
            "marker": {
             "line": {
              "color": "#E5ECF6",
              "width": 0.5
             },
             "pattern": {
              "fillmode": "overlay",
              "size": 10,
              "solidity": 0.2
             }
            },
            "type": "barpolar"
           }
          ],
          "carpet": [
           {
            "aaxis": {
             "endlinecolor": "#2a3f5f",
             "gridcolor": "white",
             "linecolor": "white",
             "minorgridcolor": "white",
             "startlinecolor": "#2a3f5f"
            },
            "baxis": {
             "endlinecolor": "#2a3f5f",
             "gridcolor": "white",
             "linecolor": "white",
             "minorgridcolor": "white",
             "startlinecolor": "#2a3f5f"
            },
            "type": "carpet"
           }
          ],
          "choropleth": [
           {
            "colorbar": {
             "outlinewidth": 0,
             "ticks": ""
            },
            "type": "choropleth"
           }
          ],
          "contour": [
           {
            "colorbar": {
             "outlinewidth": 0,
             "ticks": ""
            },
            "colorscale": [
             [
              0,
              "#0d0887"
             ],
             [
              0.1111111111111111,
              "#46039f"
             ],
             [
              0.2222222222222222,
              "#7201a8"
             ],
             [
              0.3333333333333333,
              "#9c179e"
             ],
             [
              0.4444444444444444,
              "#bd3786"
             ],
             [
              0.5555555555555556,
              "#d8576b"
             ],
             [
              0.6666666666666666,
              "#ed7953"
             ],
             [
              0.7777777777777778,
              "#fb9f3a"
             ],
             [
              0.8888888888888888,
              "#fdca26"
             ],
             [
              1,
              "#f0f921"
             ]
            ],
            "type": "contour"
           }
          ],
          "contourcarpet": [
           {
            "colorbar": {
             "outlinewidth": 0,
             "ticks": ""
            },
            "type": "contourcarpet"
           }
          ],
          "heatmap": [
           {
            "colorbar": {
             "outlinewidth": 0,
             "ticks": ""
            },
            "colorscale": [
             [
              0,
              "#0d0887"
             ],
             [
              0.1111111111111111,
              "#46039f"
             ],
             [
              0.2222222222222222,
              "#7201a8"
             ],
             [
              0.3333333333333333,
              "#9c179e"
             ],
             [
              0.4444444444444444,
              "#bd3786"
             ],
             [
              0.5555555555555556,
              "#d8576b"
             ],
             [
              0.6666666666666666,
              "#ed7953"
             ],
             [
              0.7777777777777778,
              "#fb9f3a"
             ],
             [
              0.8888888888888888,
              "#fdca26"
             ],
             [
              1,
              "#f0f921"
             ]
            ],
            "type": "heatmap"
           }
          ],
          "heatmapgl": [
           {
            "colorbar": {
             "outlinewidth": 0,
             "ticks": ""
            },
            "colorscale": [
             [
              0,
              "#0d0887"
             ],
             [
              0.1111111111111111,
              "#46039f"
             ],
             [
              0.2222222222222222,
              "#7201a8"
             ],
             [
              0.3333333333333333,
              "#9c179e"
             ],
             [
              0.4444444444444444,
              "#bd3786"
             ],
             [
              0.5555555555555556,
              "#d8576b"
             ],
             [
              0.6666666666666666,
              "#ed7953"
             ],
             [
              0.7777777777777778,
              "#fb9f3a"
             ],
             [
              0.8888888888888888,
              "#fdca26"
             ],
             [
              1,
              "#f0f921"
             ]
            ],
            "type": "heatmapgl"
           }
          ],
          "histogram": [
           {
            "marker": {
             "pattern": {
              "fillmode": "overlay",
              "size": 10,
              "solidity": 0.2
             }
            },
            "type": "histogram"
           }
          ],
          "histogram2d": [
           {
            "colorbar": {
             "outlinewidth": 0,
             "ticks": ""
            },
            "colorscale": [
             [
              0,
              "#0d0887"
             ],
             [
              0.1111111111111111,
              "#46039f"
             ],
             [
              0.2222222222222222,
              "#7201a8"
             ],
             [
              0.3333333333333333,
              "#9c179e"
             ],
             [
              0.4444444444444444,
              "#bd3786"
             ],
             [
              0.5555555555555556,
              "#d8576b"
             ],
             [
              0.6666666666666666,
              "#ed7953"
             ],
             [
              0.7777777777777778,
              "#fb9f3a"
             ],
             [
              0.8888888888888888,
              "#fdca26"
             ],
             [
              1,
              "#f0f921"
             ]
            ],
            "type": "histogram2d"
           }
          ],
          "histogram2dcontour": [
           {
            "colorbar": {
             "outlinewidth": 0,
             "ticks": ""
            },
            "colorscale": [
             [
              0,
              "#0d0887"
             ],
             [
              0.1111111111111111,
              "#46039f"
             ],
             [
              0.2222222222222222,
              "#7201a8"
             ],
             [
              0.3333333333333333,
              "#9c179e"
             ],
             [
              0.4444444444444444,
              "#bd3786"
             ],
             [
              0.5555555555555556,
              "#d8576b"
             ],
             [
              0.6666666666666666,
              "#ed7953"
             ],
             [
              0.7777777777777778,
              "#fb9f3a"
             ],
             [
              0.8888888888888888,
              "#fdca26"
             ],
             [
              1,
              "#f0f921"
             ]
            ],
            "type": "histogram2dcontour"
           }
          ],
          "mesh3d": [
           {
            "colorbar": {
             "outlinewidth": 0,
             "ticks": ""
            },
            "type": "mesh3d"
           }
          ],
          "parcoords": [
           {
            "line": {
             "colorbar": {
              "outlinewidth": 0,
              "ticks": ""
             }
            },
            "type": "parcoords"
           }
          ],
          "pie": [
           {
            "automargin": true,
            "type": "pie"
           }
          ],
          "scatter": [
           {
            "marker": {
             "colorbar": {
              "outlinewidth": 0,
              "ticks": ""
             }
            },
            "type": "scatter"
           }
          ],
          "scatter3d": [
           {
            "line": {
             "colorbar": {
              "outlinewidth": 0,
              "ticks": ""
             }
            },
            "marker": {
             "colorbar": {
              "outlinewidth": 0,
              "ticks": ""
             }
            },
            "type": "scatter3d"
           }
          ],
          "scattercarpet": [
           {
            "marker": {
             "colorbar": {
              "outlinewidth": 0,
              "ticks": ""
             }
            },
            "type": "scattercarpet"
           }
          ],
          "scattergeo": [
           {
            "marker": {
             "colorbar": {
              "outlinewidth": 0,
              "ticks": ""
             }
            },
            "type": "scattergeo"
           }
          ],
          "scattergl": [
           {
            "marker": {
             "colorbar": {
              "outlinewidth": 0,
              "ticks": ""
             }
            },
            "type": "scattergl"
           }
          ],
          "scattermapbox": [
           {
            "marker": {
             "colorbar": {
              "outlinewidth": 0,
              "ticks": ""
             }
            },
            "type": "scattermapbox"
           }
          ],
          "scatterpolar": [
           {
            "marker": {
             "colorbar": {
              "outlinewidth": 0,
              "ticks": ""
             }
            },
            "type": "scatterpolar"
           }
          ],
          "scatterpolargl": [
           {
            "marker": {
             "colorbar": {
              "outlinewidth": 0,
              "ticks": ""
             }
            },
            "type": "scatterpolargl"
           }
          ],
          "scatterternary": [
           {
            "marker": {
             "colorbar": {
              "outlinewidth": 0,
              "ticks": ""
             }
            },
            "type": "scatterternary"
           }
          ],
          "surface": [
           {
            "colorbar": {
             "outlinewidth": 0,
             "ticks": ""
            },
            "colorscale": [
             [
              0,
              "#0d0887"
             ],
             [
              0.1111111111111111,
              "#46039f"
             ],
             [
              0.2222222222222222,
              "#7201a8"
             ],
             [
              0.3333333333333333,
              "#9c179e"
             ],
             [
              0.4444444444444444,
              "#bd3786"
             ],
             [
              0.5555555555555556,
              "#d8576b"
             ],
             [
              0.6666666666666666,
              "#ed7953"
             ],
             [
              0.7777777777777778,
              "#fb9f3a"
             ],
             [
              0.8888888888888888,
              "#fdca26"
             ],
             [
              1,
              "#f0f921"
             ]
            ],
            "type": "surface"
           }
          ],
          "table": [
           {
            "cells": {
             "fill": {
              "color": "#EBF0F8"
             },
             "line": {
              "color": "white"
             }
            },
            "header": {
             "fill": {
              "color": "#C8D4E3"
             },
             "line": {
              "color": "white"
             }
            },
            "type": "table"
           }
          ]
         },
         "layout": {
          "annotationdefaults": {
           "arrowcolor": "#2a3f5f",
           "arrowhead": 0,
           "arrowwidth": 1
          },
          "autotypenumbers": "strict",
          "coloraxis": {
           "colorbar": {
            "outlinewidth": 0,
            "ticks": ""
           }
          },
          "colorscale": {
           "diverging": [
            [
             0,
             "#8e0152"
            ],
            [
             0.1,
             "#c51b7d"
            ],
            [
             0.2,
             "#de77ae"
            ],
            [
             0.3,
             "#f1b6da"
            ],
            [
             0.4,
             "#fde0ef"
            ],
            [
             0.5,
             "#f7f7f7"
            ],
            [
             0.6,
             "#e6f5d0"
            ],
            [
             0.7,
             "#b8e186"
            ],
            [
             0.8,
             "#7fbc41"
            ],
            [
             0.9,
             "#4d9221"
            ],
            [
             1,
             "#276419"
            ]
           ],
           "sequential": [
            [
             0,
             "#0d0887"
            ],
            [
             0.1111111111111111,
             "#46039f"
            ],
            [
             0.2222222222222222,
             "#7201a8"
            ],
            [
             0.3333333333333333,
             "#9c179e"
            ],
            [
             0.4444444444444444,
             "#bd3786"
            ],
            [
             0.5555555555555556,
             "#d8576b"
            ],
            [
             0.6666666666666666,
             "#ed7953"
            ],
            [
             0.7777777777777778,
             "#fb9f3a"
            ],
            [
             0.8888888888888888,
             "#fdca26"
            ],
            [
             1,
             "#f0f921"
            ]
           ],
           "sequentialminus": [
            [
             0,
             "#0d0887"
            ],
            [
             0.1111111111111111,
             "#46039f"
            ],
            [
             0.2222222222222222,
             "#7201a8"
            ],
            [
             0.3333333333333333,
             "#9c179e"
            ],
            [
             0.4444444444444444,
             "#bd3786"
            ],
            [
             0.5555555555555556,
             "#d8576b"
            ],
            [
             0.6666666666666666,
             "#ed7953"
            ],
            [
             0.7777777777777778,
             "#fb9f3a"
            ],
            [
             0.8888888888888888,
             "#fdca26"
            ],
            [
             1,
             "#f0f921"
            ]
           ]
          },
          "colorway": [
           "#636efa",
           "#EF553B",
           "#00cc96",
           "#ab63fa",
           "#FFA15A",
           "#19d3f3",
           "#FF6692",
           "#B6E880",
           "#FF97FF",
           "#FECB52"
          ],
          "font": {
           "color": "#2a3f5f"
          },
          "geo": {
           "bgcolor": "white",
           "lakecolor": "white",
           "landcolor": "#E5ECF6",
           "showlakes": true,
           "showland": true,
           "subunitcolor": "white"
          },
          "hoverlabel": {
           "align": "left"
          },
          "hovermode": "closest",
          "mapbox": {
           "style": "light"
          },
          "paper_bgcolor": "white",
          "plot_bgcolor": "#E5ECF6",
          "polar": {
           "angularaxis": {
            "gridcolor": "white",
            "linecolor": "white",
            "ticks": ""
           },
           "bgcolor": "#E5ECF6",
           "radialaxis": {
            "gridcolor": "white",
            "linecolor": "white",
            "ticks": ""
           }
          },
          "scene": {
           "xaxis": {
            "backgroundcolor": "#E5ECF6",
            "gridcolor": "white",
            "gridwidth": 2,
            "linecolor": "white",
            "showbackground": true,
            "ticks": "",
            "zerolinecolor": "white"
           },
           "yaxis": {
            "backgroundcolor": "#E5ECF6",
            "gridcolor": "white",
            "gridwidth": 2,
            "linecolor": "white",
            "showbackground": true,
            "ticks": "",
            "zerolinecolor": "white"
           },
           "zaxis": {
            "backgroundcolor": "#E5ECF6",
            "gridcolor": "white",
            "gridwidth": 2,
            "linecolor": "white",
            "showbackground": true,
            "ticks": "",
            "zerolinecolor": "white"
           }
          },
          "shapedefaults": {
           "line": {
            "color": "#2a3f5f"
           }
          },
          "ternary": {
           "aaxis": {
            "gridcolor": "white",
            "linecolor": "white",
            "ticks": ""
           },
           "baxis": {
            "gridcolor": "white",
            "linecolor": "white",
            "ticks": ""
           },
           "bgcolor": "#E5ECF6",
           "caxis": {
            "gridcolor": "white",
            "linecolor": "white",
            "ticks": ""
           }
          },
          "title": {
           "x": 0.05
          },
          "xaxis": {
           "automargin": true,
           "gridcolor": "white",
           "linecolor": "white",
           "ticks": "",
           "title": {
            "standoff": 15
           },
           "zerolinecolor": "white",
           "zerolinewidth": 2
          },
          "yaxis": {
           "automargin": true,
           "gridcolor": "white",
           "linecolor": "white",
           "ticks": "",
           "title": {
            "standoff": 15
           },
           "zerolinecolor": "white",
           "zerolinewidth": 2
          }
         }
        },
        "xaxis": {
         "anchor": "y",
         "categoryarray": [
          "chemicals and chemical products",
          "food and beverages",
          "Publishing, reproduction of recorded media",
          "non metallic mineral products",
          "machinery, equipment and vehicles",
          "rubber and plastics products",
          "fabricated metal etc",
          "wood and paper products etc",
          "furniture",
          "basic metals and recycling",
          "textiles and wearing apparel"
         ],
         "categoryorder": "array",
         "domain": [
          0,
          1
         ],
         "title": {
          "text": "sector"
         }
        },
        "yaxis": {
         "anchor": "x",
         "domain": [
          0,
          1
         ],
         "title": {
          "text": "year"
         }
        }
       }
      },
      "text/html": [
       "<div>                            <div id=\"ab751495-1b2d-4d6d-8751-28c3db0be528\" class=\"plotly-graph-div\" style=\"height:525px; width:100%;\"></div>            <script type=\"text/javascript\">                require([\"plotly\"], function(Plotly) {                    window.PLOTLYENV=window.PLOTLYENV || {};                                    if (document.getElementById(\"ab751495-1b2d-4d6d-8751-28c3db0be528\")) {                    Plotly.newPlot(                        \"ab751495-1b2d-4d6d-8751-28c3db0be528\",                        [{\"alignmentgroup\":\"True\",\"hovertemplate\":\"sector=%{x}<br>year=%{y}<br>ftstaff05=%{text}<extra></extra>\",\"legendgroup\":\"chemicals and chemical products\",\"marker\":{\"color\":\"#636efa\",\"pattern\":{\"shape\":\"\"}},\"name\":\"chemicals and chemical products\",\"offsetgroup\":\"chemicals and chemical products\",\"orientation\":\"v\",\"showlegend\":true,\"text\":[\"110.0\",\"64.0\",\"120.0\",\"50.0\",\"100.0\",\"105.0\",\"7.0\",\"150.0\",\"80.0\"],\"textposition\":\"auto\",\"type\":\"bar\",\"x\":[\"chemicals and chemical products\",\"chemicals and chemical products\",\"chemicals and chemical products\",\"chemicals and chemical products\",\"chemicals and chemical products\",\"chemicals and chemical products\",\"chemicals and chemical products\",\"chemicals and chemical products\",\"chemicals and chemical products\"],\"xaxis\":\"x\",\"y\":[2008.0,2008.0,2008.0,2008.0,2008.0,2008.0,2008.0,2008.0,2008.0],\"yaxis\":\"y\"},{\"alignmentgroup\":\"True\",\"hovertemplate\":\"sector=%{x}<br>year=%{y}<br>ftstaff05=%{text}<extra></extra>\",\"legendgroup\":\"food and beverages\",\"marker\":{\"color\":\"#EF553B\",\"pattern\":{\"shape\":\"\"}},\"name\":\"food and beverages\",\"offsetgroup\":\"food and beverages\",\"orientation\":\"v\",\"showlegend\":true,\"text\":[\"38.0\",\"153.0\",\"56.0\",\"100.0\",\"6.0\",\"40.0\",\"13.0\",\"26.0\",\"16.0\",\"0.0\",\"0.0\",\"369.0\",\"432.0\",\"200.0\",\"285.0\",\"200.0\",\"40.0\",\"64.0\"],\"textposition\":\"auto\",\"type\":\"bar\",\"x\":[\"food and beverages\",\"food and beverages\",\"food and beverages\",\"food and beverages\",\"food and beverages\",\"food and beverages\",\"food and beverages\",\"food and beverages\",\"food and beverages\",\"food and beverages\",\"food and beverages\",\"food and beverages\",\"food and beverages\",\"food and beverages\",\"food and beverages\",\"food and beverages\",\"food and beverages\",\"food and beverages\"],\"xaxis\":\"x\",\"y\":[2008.0,2008.0,2008.0,2008.0,2008.0,2008.0,2008.0,2008.0,2008.0,2008.0,2008.0,2008.0,2008.0,2008.0,2008.0,2008.0,2008.0,2008.0],\"yaxis\":\"y\"},{\"alignmentgroup\":\"True\",\"hovertemplate\":\"sector=%{x}<br>year=%{y}<br>ftstaff05=%{text}<extra></extra>\",\"legendgroup\":\"Publishing, reproduction of recorded media\",\"marker\":{\"color\":\"#00cc96\",\"pattern\":{\"shape\":\"\"}},\"name\":\"Publishing, reproduction of recorded media\",\"offsetgroup\":\"Publishing, reproduction of recorded media\",\"orientation\":\"v\",\"showlegend\":true,\"text\":[\"59.0\",\"70.0\",\"45.0\",\"260.0\"],\"textposition\":\"auto\",\"type\":\"bar\",\"x\":[\"Publishing, reproduction of recorded media\",\"Publishing, reproduction of recorded media\",\"Publishing, reproduction of recorded media\",\"Publishing, reproduction of recorded media\"],\"xaxis\":\"x\",\"y\":[2008.0,2008.0,2008.0,2008.0],\"yaxis\":\"y\"},{\"alignmentgroup\":\"True\",\"hovertemplate\":\"sector=%{x}<br>year=%{y}<br>ftstaff05=%{text}<extra></extra>\",\"legendgroup\":\"non metallic mineral products\",\"marker\":{\"color\":\"#ab63fa\",\"pattern\":{\"shape\":\"\"}},\"name\":\"non metallic mineral products\",\"offsetgroup\":\"non metallic mineral products\",\"orientation\":\"v\",\"showlegend\":true,\"text\":[\"0.0\",\"20.0\"],\"textposition\":\"auto\",\"type\":\"bar\",\"x\":[\"non metallic mineral products\",\"non metallic mineral products\"],\"xaxis\":\"x\",\"y\":[2008.0,2008.0],\"yaxis\":\"y\"},{\"alignmentgroup\":\"True\",\"hovertemplate\":\"sector=%{x}<br>year=%{y}<br>ftstaff05=%{text}<extra></extra>\",\"legendgroup\":\"machinery, equipment and vehicles\",\"marker\":{\"color\":\"#FFA15A\",\"pattern\":{\"shape\":\"\"}},\"name\":\"machinery, equipment and vehicles\",\"offsetgroup\":\"machinery, equipment and vehicles\",\"orientation\":\"v\",\"showlegend\":true,\"text\":[\"76.0\",\"122.0\"],\"textposition\":\"auto\",\"type\":\"bar\",\"x\":[\"machinery, equipment and vehicles\",\"machinery, equipment and vehicles\"],\"xaxis\":\"x\",\"y\":[2008.0,2008.0],\"yaxis\":\"y\"},{\"alignmentgroup\":\"True\",\"hovertemplate\":\"sector=%{x}<br>year=%{y}<br>ftstaff05=%{text}<extra></extra>\",\"legendgroup\":\"rubber and plastics products\",\"marker\":{\"color\":\"#19d3f3\",\"pattern\":{\"shape\":\"\"}},\"name\":\"rubber and plastics products\",\"offsetgroup\":\"rubber and plastics products\",\"orientation\":\"v\",\"showlegend\":true,\"text\":[\"29.0\",\"109.0\",\"15.0\"],\"textposition\":\"auto\",\"type\":\"bar\",\"x\":[\"rubber and plastics products\",\"rubber and plastics products\",\"rubber and plastics products\"],\"xaxis\":\"x\",\"y\":[2008.0,2008.0,2008.0],\"yaxis\":\"y\"},{\"alignmentgroup\":\"True\",\"hovertemplate\":\"sector=%{x}<br>year=%{y}<br>ftstaff05=%{text}<extra></extra>\",\"legendgroup\":\"fabricated metal etc\",\"marker\":{\"color\":\"#FF6692\",\"pattern\":{\"shape\":\"\"}},\"name\":\"fabricated metal etc\",\"offsetgroup\":\"fabricated metal etc\",\"orientation\":\"v\",\"showlegend\":true,\"text\":[\"0.0\",\"68.0\",\"20.0\"],\"textposition\":\"auto\",\"type\":\"bar\",\"x\":[\"fabricated metal etc\",\"fabricated metal etc\",\"fabricated metal etc\"],\"xaxis\":\"x\",\"y\":[2008.0,2008.0,2008.0],\"yaxis\":\"y\"},{\"alignmentgroup\":\"True\",\"hovertemplate\":\"sector=%{x}<br>year=%{y}<br>ftstaff05=%{text}<extra></extra>\",\"legendgroup\":\"wood and paper products etc\",\"marker\":{\"color\":\"#B6E880\",\"pattern\":{\"shape\":\"\"}},\"name\":\"wood and paper products etc\",\"offsetgroup\":\"wood and paper products etc\",\"orientation\":\"v\",\"showlegend\":true,\"text\":[\"384.0\",\"67.0\",\"34.0\"],\"textposition\":\"auto\",\"type\":\"bar\",\"x\":[\"wood and paper products etc\",\"wood and paper products etc\",\"wood and paper products etc\"],\"xaxis\":\"x\",\"y\":[2008.0,2008.0,2008.0],\"yaxis\":\"y\"},{\"alignmentgroup\":\"True\",\"hovertemplate\":\"sector=%{x}<br>year=%{y}<br>ftstaff05=%{text}<extra></extra>\",\"legendgroup\":\"furniture\",\"marker\":{\"color\":\"#FF97FF\",\"pattern\":{\"shape\":\"\"}},\"name\":\"furniture\",\"offsetgroup\":\"furniture\",\"orientation\":\"v\",\"showlegend\":true,\"text\":[\"13.0\",\"547.0\",\"50.0\"],\"textposition\":\"auto\",\"type\":\"bar\",\"x\":[\"furniture\",\"furniture\",\"furniture\"],\"xaxis\":\"x\",\"y\":[2008.0,2008.0,2008.0],\"yaxis\":\"y\"},{\"alignmentgroup\":\"True\",\"hovertemplate\":\"sector=%{x}<br>year=%{y}<br>ftstaff05=%{text}<extra></extra>\",\"legendgroup\":\"basic metals and recycling\",\"marker\":{\"color\":\"#FECB52\",\"pattern\":{\"shape\":\"\"}},\"name\":\"basic metals and recycling\",\"offsetgroup\":\"basic metals and recycling\",\"orientation\":\"v\",\"showlegend\":true,\"text\":[\"5.0\",\"18.0\"],\"textposition\":\"auto\",\"type\":\"bar\",\"x\":[\"basic metals and recycling\",\"basic metals and recycling\"],\"xaxis\":\"x\",\"y\":[2008.0,2008.0],\"yaxis\":\"y\"},{\"alignmentgroup\":\"True\",\"hovertemplate\":\"sector=%{x}<br>year=%{y}<br>ftstaff05=%{text}<extra></extra>\",\"legendgroup\":\"textiles and wearing apparel\",\"marker\":{\"color\":\"#636efa\",\"pattern\":{\"shape\":\"\"}},\"name\":\"textiles and wearing apparel\",\"offsetgroup\":\"textiles and wearing apparel\",\"orientation\":\"v\",\"showlegend\":true,\"text\":[\"0.0\"],\"textposition\":\"auto\",\"type\":\"bar\",\"x\":[\"textiles and wearing apparel\"],\"xaxis\":\"x\",\"y\":[2008.0],\"yaxis\":\"y\"}],                        {\"barmode\":\"relative\",\"legend\":{\"title\":{\"text\":\"sector\"},\"tracegroupgap\":0},\"margin\":{\"t\":60},\"template\":{\"data\":{\"bar\":[{\"error_x\":{\"color\":\"#2a3f5f\"},\"error_y\":{\"color\":\"#2a3f5f\"},\"marker\":{\"line\":{\"color\":\"#E5ECF6\",\"width\":0.5},\"pattern\":{\"fillmode\":\"overlay\",\"size\":10,\"solidity\":0.2}},\"type\":\"bar\"}],\"barpolar\":[{\"marker\":{\"line\":{\"color\":\"#E5ECF6\",\"width\":0.5},\"pattern\":{\"fillmode\":\"overlay\",\"size\":10,\"solidity\":0.2}},\"type\":\"barpolar\"}],\"carpet\":[{\"aaxis\":{\"endlinecolor\":\"#2a3f5f\",\"gridcolor\":\"white\",\"linecolor\":\"white\",\"minorgridcolor\":\"white\",\"startlinecolor\":\"#2a3f5f\"},\"baxis\":{\"endlinecolor\":\"#2a3f5f\",\"gridcolor\":\"white\",\"linecolor\":\"white\",\"minorgridcolor\":\"white\",\"startlinecolor\":\"#2a3f5f\"},\"type\":\"carpet\"}],\"choropleth\":[{\"colorbar\":{\"outlinewidth\":0,\"ticks\":\"\"},\"type\":\"choropleth\"}],\"contour\":[{\"colorbar\":{\"outlinewidth\":0,\"ticks\":\"\"},\"colorscale\":[[0.0,\"#0d0887\"],[0.1111111111111111,\"#46039f\"],[0.2222222222222222,\"#7201a8\"],[0.3333333333333333,\"#9c179e\"],[0.4444444444444444,\"#bd3786\"],[0.5555555555555556,\"#d8576b\"],[0.6666666666666666,\"#ed7953\"],[0.7777777777777778,\"#fb9f3a\"],[0.8888888888888888,\"#fdca26\"],[1.0,\"#f0f921\"]],\"type\":\"contour\"}],\"contourcarpet\":[{\"colorbar\":{\"outlinewidth\":0,\"ticks\":\"\"},\"type\":\"contourcarpet\"}],\"heatmap\":[{\"colorbar\":{\"outlinewidth\":0,\"ticks\":\"\"},\"colorscale\":[[0.0,\"#0d0887\"],[0.1111111111111111,\"#46039f\"],[0.2222222222222222,\"#7201a8\"],[0.3333333333333333,\"#9c179e\"],[0.4444444444444444,\"#bd3786\"],[0.5555555555555556,\"#d8576b\"],[0.6666666666666666,\"#ed7953\"],[0.7777777777777778,\"#fb9f3a\"],[0.8888888888888888,\"#fdca26\"],[1.0,\"#f0f921\"]],\"type\":\"heatmap\"}],\"heatmapgl\":[{\"colorbar\":{\"outlinewidth\":0,\"ticks\":\"\"},\"colorscale\":[[0.0,\"#0d0887\"],[0.1111111111111111,\"#46039f\"],[0.2222222222222222,\"#7201a8\"],[0.3333333333333333,\"#9c179e\"],[0.4444444444444444,\"#bd3786\"],[0.5555555555555556,\"#d8576b\"],[0.6666666666666666,\"#ed7953\"],[0.7777777777777778,\"#fb9f3a\"],[0.8888888888888888,\"#fdca26\"],[1.0,\"#f0f921\"]],\"type\":\"heatmapgl\"}],\"histogram\":[{\"marker\":{\"pattern\":{\"fillmode\":\"overlay\",\"size\":10,\"solidity\":0.2}},\"type\":\"histogram\"}],\"histogram2d\":[{\"colorbar\":{\"outlinewidth\":0,\"ticks\":\"\"},\"colorscale\":[[0.0,\"#0d0887\"],[0.1111111111111111,\"#46039f\"],[0.2222222222222222,\"#7201a8\"],[0.3333333333333333,\"#9c179e\"],[0.4444444444444444,\"#bd3786\"],[0.5555555555555556,\"#d8576b\"],[0.6666666666666666,\"#ed7953\"],[0.7777777777777778,\"#fb9f3a\"],[0.8888888888888888,\"#fdca26\"],[1.0,\"#f0f921\"]],\"type\":\"histogram2d\"}],\"histogram2dcontour\":[{\"colorbar\":{\"outlinewidth\":0,\"ticks\":\"\"},\"colorscale\":[[0.0,\"#0d0887\"],[0.1111111111111111,\"#46039f\"],[0.2222222222222222,\"#7201a8\"],[0.3333333333333333,\"#9c179e\"],[0.4444444444444444,\"#bd3786\"],[0.5555555555555556,\"#d8576b\"],[0.6666666666666666,\"#ed7953\"],[0.7777777777777778,\"#fb9f3a\"],[0.8888888888888888,\"#fdca26\"],[1.0,\"#f0f921\"]],\"type\":\"histogram2dcontour\"}],\"mesh3d\":[{\"colorbar\":{\"outlinewidth\":0,\"ticks\":\"\"},\"type\":\"mesh3d\"}],\"parcoords\":[{\"line\":{\"colorbar\":{\"outlinewidth\":0,\"ticks\":\"\"}},\"type\":\"parcoords\"}],\"pie\":[{\"automargin\":true,\"type\":\"pie\"}],\"scatter\":[{\"marker\":{\"colorbar\":{\"outlinewidth\":0,\"ticks\":\"\"}},\"type\":\"scatter\"}],\"scatter3d\":[{\"line\":{\"colorbar\":{\"outlinewidth\":0,\"ticks\":\"\"}},\"marker\":{\"colorbar\":{\"outlinewidth\":0,\"ticks\":\"\"}},\"type\":\"scatter3d\"}],\"scattercarpet\":[{\"marker\":{\"colorbar\":{\"outlinewidth\":0,\"ticks\":\"\"}},\"type\":\"scattercarpet\"}],\"scattergeo\":[{\"marker\":{\"colorbar\":{\"outlinewidth\":0,\"ticks\":\"\"}},\"type\":\"scattergeo\"}],\"scattergl\":[{\"marker\":{\"colorbar\":{\"outlinewidth\":0,\"ticks\":\"\"}},\"type\":\"scattergl\"}],\"scattermapbox\":[{\"marker\":{\"colorbar\":{\"outlinewidth\":0,\"ticks\":\"\"}},\"type\":\"scattermapbox\"}],\"scatterpolar\":[{\"marker\":{\"colorbar\":{\"outlinewidth\":0,\"ticks\":\"\"}},\"type\":\"scatterpolar\"}],\"scatterpolargl\":[{\"marker\":{\"colorbar\":{\"outlinewidth\":0,\"ticks\":\"\"}},\"type\":\"scatterpolargl\"}],\"scatterternary\":[{\"marker\":{\"colorbar\":{\"outlinewidth\":0,\"ticks\":\"\"}},\"type\":\"scatterternary\"}],\"surface\":[{\"colorbar\":{\"outlinewidth\":0,\"ticks\":\"\"},\"colorscale\":[[0.0,\"#0d0887\"],[0.1111111111111111,\"#46039f\"],[0.2222222222222222,\"#7201a8\"],[0.3333333333333333,\"#9c179e\"],[0.4444444444444444,\"#bd3786\"],[0.5555555555555556,\"#d8576b\"],[0.6666666666666666,\"#ed7953\"],[0.7777777777777778,\"#fb9f3a\"],[0.8888888888888888,\"#fdca26\"],[1.0,\"#f0f921\"]],\"type\":\"surface\"}],\"table\":[{\"cells\":{\"fill\":{\"color\":\"#EBF0F8\"},\"line\":{\"color\":\"white\"}},\"header\":{\"fill\":{\"color\":\"#C8D4E3\"},\"line\":{\"color\":\"white\"}},\"type\":\"table\"}]},\"layout\":{\"annotationdefaults\":{\"arrowcolor\":\"#2a3f5f\",\"arrowhead\":0,\"arrowwidth\":1},\"autotypenumbers\":\"strict\",\"coloraxis\":{\"colorbar\":{\"outlinewidth\":0,\"ticks\":\"\"}},\"colorscale\":{\"diverging\":[[0,\"#8e0152\"],[0.1,\"#c51b7d\"],[0.2,\"#de77ae\"],[0.3,\"#f1b6da\"],[0.4,\"#fde0ef\"],[0.5,\"#f7f7f7\"],[0.6,\"#e6f5d0\"],[0.7,\"#b8e186\"],[0.8,\"#7fbc41\"],[0.9,\"#4d9221\"],[1,\"#276419\"]],\"sequential\":[[0.0,\"#0d0887\"],[0.1111111111111111,\"#46039f\"],[0.2222222222222222,\"#7201a8\"],[0.3333333333333333,\"#9c179e\"],[0.4444444444444444,\"#bd3786\"],[0.5555555555555556,\"#d8576b\"],[0.6666666666666666,\"#ed7953\"],[0.7777777777777778,\"#fb9f3a\"],[0.8888888888888888,\"#fdca26\"],[1.0,\"#f0f921\"]],\"sequentialminus\":[[0.0,\"#0d0887\"],[0.1111111111111111,\"#46039f\"],[0.2222222222222222,\"#7201a8\"],[0.3333333333333333,\"#9c179e\"],[0.4444444444444444,\"#bd3786\"],[0.5555555555555556,\"#d8576b\"],[0.6666666666666666,\"#ed7953\"],[0.7777777777777778,\"#fb9f3a\"],[0.8888888888888888,\"#fdca26\"],[1.0,\"#f0f921\"]]},\"colorway\":[\"#636efa\",\"#EF553B\",\"#00cc96\",\"#ab63fa\",\"#FFA15A\",\"#19d3f3\",\"#FF6692\",\"#B6E880\",\"#FF97FF\",\"#FECB52\"],\"font\":{\"color\":\"#2a3f5f\"},\"geo\":{\"bgcolor\":\"white\",\"lakecolor\":\"white\",\"landcolor\":\"#E5ECF6\",\"showlakes\":true,\"showland\":true,\"subunitcolor\":\"white\"},\"hoverlabel\":{\"align\":\"left\"},\"hovermode\":\"closest\",\"mapbox\":{\"style\":\"light\"},\"paper_bgcolor\":\"white\",\"plot_bgcolor\":\"#E5ECF6\",\"polar\":{\"angularaxis\":{\"gridcolor\":\"white\",\"linecolor\":\"white\",\"ticks\":\"\"},\"bgcolor\":\"#E5ECF6\",\"radialaxis\":{\"gridcolor\":\"white\",\"linecolor\":\"white\",\"ticks\":\"\"}},\"scene\":{\"xaxis\":{\"backgroundcolor\":\"#E5ECF6\",\"gridcolor\":\"white\",\"gridwidth\":2,\"linecolor\":\"white\",\"showbackground\":true,\"ticks\":\"\",\"zerolinecolor\":\"white\"},\"yaxis\":{\"backgroundcolor\":\"#E5ECF6\",\"gridcolor\":\"white\",\"gridwidth\":2,\"linecolor\":\"white\",\"showbackground\":true,\"ticks\":\"\",\"zerolinecolor\":\"white\"},\"zaxis\":{\"backgroundcolor\":\"#E5ECF6\",\"gridcolor\":\"white\",\"gridwidth\":2,\"linecolor\":\"white\",\"showbackground\":true,\"ticks\":\"\",\"zerolinecolor\":\"white\"}},\"shapedefaults\":{\"line\":{\"color\":\"#2a3f5f\"}},\"ternary\":{\"aaxis\":{\"gridcolor\":\"white\",\"linecolor\":\"white\",\"ticks\":\"\"},\"baxis\":{\"gridcolor\":\"white\",\"linecolor\":\"white\",\"ticks\":\"\"},\"bgcolor\":\"#E5ECF6\",\"caxis\":{\"gridcolor\":\"white\",\"linecolor\":\"white\",\"ticks\":\"\"}},\"title\":{\"x\":0.05},\"xaxis\":{\"automargin\":true,\"gridcolor\":\"white\",\"linecolor\":\"white\",\"ticks\":\"\",\"title\":{\"standoff\":15},\"zerolinecolor\":\"white\",\"zerolinewidth\":2},\"yaxis\":{\"automargin\":true,\"gridcolor\":\"white\",\"linecolor\":\"white\",\"ticks\":\"\",\"title\":{\"standoff\":15},\"zerolinecolor\":\"white\",\"zerolinewidth\":2}}},\"xaxis\":{\"anchor\":\"y\",\"categoryarray\":[\"chemicals and chemical products\",\"food and beverages\",\"Publishing, reproduction of recorded media\",\"non metallic mineral products\",\"machinery, equipment and vehicles\",\"rubber and plastics products\",\"fabricated metal etc\",\"wood and paper products etc\",\"furniture\",\"basic metals and recycling\",\"textiles and wearing apparel\"],\"categoryorder\":\"array\",\"domain\":[0.0,1.0],\"title\":{\"text\":\"sector\"}},\"yaxis\":{\"anchor\":\"x\",\"domain\":[0.0,1.0],\"title\":{\"text\":\"year\"}}},                        {\"responsive\": true}                    ).then(function(){\n",
       "                            \n",
       "var gd = document.getElementById('ab751495-1b2d-4d6d-8751-28c3db0be528');\n",
       "var x = new MutationObserver(function (mutations, observer) {{\n",
       "        var display = window.getComputedStyle(gd).display;\n",
       "        if (!display || display === 'none') {{\n",
       "            console.log([gd, 'removed!']);\n",
       "            Plotly.purge(gd);\n",
       "            observer.disconnect();\n",
       "        }}\n",
       "}});\n",
       "\n",
       "// Listen for the removal of the full notebook cells\n",
       "var notebookContainer = gd.closest('#notebook-container');\n",
       "if (notebookContainer) {{\n",
       "    x.observe(notebookContainer, {childList: true});\n",
       "}}\n",
       "\n",
       "// Listen for the clearing of the current output cell\n",
       "var outputEl = gd.closest('.output');\n",
       "if (outputEl) {{\n",
       "    x.observe(outputEl, {childList: true});\n",
       "}}\n",
       "\n",
       "                        })                };                });            </script>        </div>"
      ]
     },
     "metadata": {},
     "output_type": "display_data"
    }
   ],
   "source": [
    "df71 = df7.iloc[:50,:]\n",
    "fig = px.bar(df71,x = 'sector',y='year',color ='sector',text = 'ftstaff05')\n",
    "fig.show()"
   ]
  },
  {
   "cell_type": "code",
   "execution_count": null,
   "metadata": {},
   "outputs": [],
   "source": []
  }
 ],
 "metadata": {
  "interpreter": {
   "hash": "9bf2ca0f4a7adc3ce2f237ca763c1538d3ef289a4e7face3612a01cdae9f6807"
  },
  "kernelspec": {
   "display_name": "Python 3",
   "language": "python",
   "name": "python3"
  },
  "language_info": {
   "codemirror_mode": {
    "name": "ipython",
    "version": 3
   },
   "file_extension": ".py",
   "mimetype": "text/x-python",
   "name": "python",
   "nbconvert_exporter": "python",
   "pygments_lexer": "ipython3",
   "version": "3.8.5"
  }
 },
 "nbformat": 4,
 "nbformat_minor": 2
}
